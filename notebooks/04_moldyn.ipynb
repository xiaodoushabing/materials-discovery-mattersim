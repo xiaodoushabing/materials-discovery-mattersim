{
 "cells": [
  {
   "cell_type": "code",
   "execution_count": null,
   "metadata": {},
   "outputs": [],
   "source": [
    "import torch\n",
    "import time\n",
    "import numpy as np\n",
    "\n",
    "from ase import Atoms\n",
    "from ase.visualize import view\n",
    "from ase.build import bulk\n",
    "from ase.units import GPa\n",
    "from ase.spacegroup import crystal\n",
    "\n",
    "from mattersim.applications.batch_relax import BatchRelaxer\n",
    "from mattersim.forcefield.potential import Potential\n",
    "from mattersim.datasets.utils.build import build_dataloader\n",
    "from mattersim.forcefield.potential import MatterSimCalculator\n",
    "from mattersim.applications.relax import Relaxer\n",
    "from mattersim.applications.moldyn import MolecularDynamics\n",
    "\n",
    "from utils.visualisation import plot_potential, plot_relaxation, visualise_structure"
   ]
  },
  {
   "cell_type": "markdown",
   "metadata": {},
   "source": [
    "Molecular Dynamics simulation only accept ase atoms with an attached calculator.\n",
    "\n",
    "*Args:*\n",
    "- atoms (Union[Atoms, Structure]): ASE atoms object contains structure information and calculator.\n",
    "- ensemble (str, optional): Simulation ensemble choosen. Defaults to nvt_nose_hoover'\n",
    "- temperature (float, optional): Simulation temperature, in Kelvin. Defaults to 300 K.\n",
    "- timestep (float, optional): The simulation time step, in fs. Defaults to 1 fs.\n",
    "- taut (float, optional): Characteristic timescale of the thermostat, in fs. If is None, automatically set it to 1000 * timestep.\n",
    "- trajectory (Union[str, Trajectory], optional): Attach trajectory object. If trajectory is a string a Trajectory will be constructed. Defaults to None, which means for no trajectory.\n",
    "- logfile (str, optional): If logfile is a string, a file with that name will be opened. Defaults to '-', which means output to stdout.\n",
    "- loginterval (int, optional): Only write a log line for every loginterval time steps. Defaults to 10.\n",
    "- append_trajectory (bool, optional): If False the trajectory file to be overwriten each time the dynamics is restarted from scratch. If True, the new structures are appended to the trajectory file instead.\n"
   ]
  },
  {
   "cell_type": "code",
   "execution_count": 3,
   "metadata": {},
   "outputs": [
    {
     "name": "stdout",
     "output_type": "stream",
     "text": [
      "MatterSim running on cuda\n"
     ]
    }
   ],
   "source": [
    "device = 'cuda' if torch.cuda.is_available() else 'cpu'\n",
    "print(f\"MatterSim running on {device}\")"
   ]
  },
  {
   "cell_type": "code",
   "execution_count": 4,
   "metadata": {},
   "outputs": [],
   "source": [
    "model = 5"
   ]
  },
  {
   "cell_type": "code",
   "execution_count": 51,
   "metadata": {},
   "outputs": [],
   "source": [
    "# Define the L1₀ unit cell parameters\n",
    "a = 3.85  # Lattice constant in x and y\n",
    "c = 3.72  # Lattice constant in z (slightly compressed)\n",
    "\n",
    "# Define the atomic positions and symbols\n",
    "positions = [\n",
    "    (0, 0, 0),               # Fe atom\n",
    "    (0.5 * a, 0.5 * a, 0.5 * c),  # Pt atom\n",
    "]\n",
    "\n",
    "symbols = ['Fe', 'Pt']\n",
    "\n",
    "# Create the unit cell for L1₀ FePt\n",
    "structure = Atoms(symbols=\"FePt\",\n",
    "                 positions=positions,\n",
    "                 cell=[(a, 0, 0), (0, a, 0), (0, 0, c)],\n",
    "                 pbc=True)  # Periodic boundary conditions"
   ]
  },
  {
   "cell_type": "code",
   "execution_count": 52,
   "metadata": {},
   "outputs": [
    {
     "data": {
      "text/plain": [
       "array([[0.   , 0.   , 0.   ],\n",
       "       [1.925, 1.925, 1.86 ]])"
      ]
     },
     "execution_count": 52,
     "metadata": {},
     "output_type": "execute_result"
    }
   ],
   "source": [
    "structure.positions"
   ]
  },
  {
   "cell_type": "code",
   "execution_count": 53,
   "metadata": {},
   "outputs": [
    {
     "name": "stderr",
     "output_type": "stream",
     "text": [
      "/usr/local/lib/python3.12/dist-packages/mattersim/forcefield/potential.py:896: FutureWarning: You are using `torch.load` with `weights_only=False` (the current default value), which uses the default pickle module implicitly. It is possible to construct malicious pickle data which will execute arbitrary code during unpickling (See https://github.com/pytorch/pytorch/blob/main/SECURITY.md#untrusted-models for more details). In a future release, the default value for `weights_only` will be flipped to `True`. This limits the functions that could be executed during unpickling. Arbitrary objects will no longer be allowed to be loaded via this mode unless they are explicitly allowlisted by the user via `torch.serialization.add_safe_globals`. We recommend you start setting `weights_only=True` for any use case where you don't have full control of the loaded file. Please open an issue on GitHub for any issues related to this experimental feature.\n",
      "  checkpoint = torch.load(load_path, map_location=device)\n"
     ]
    }
   ],
   "source": [
    "structure.calc = MatterSimCalculator(load_path=f\"MatterSim-v1.0.0-{model}M.pth\", device=device)"
   ]
  },
  {
   "cell_type": "code",
   "execution_count": 54,
   "metadata": {},
   "outputs": [
    {
     "name": "stdout",
     "output_type": "stream",
     "text": [
      "Energy (eV)                 = -10.912310600280762\n",
      "Energy per atom (eV/atom)   = -5.456155300140381\n",
      "Forces of first atom (eV/A) = [ 1.2293458e-06  1.2218952e-06 -1.3187528e-06]\n",
      "Stress[0][0] (x-x) (eV/A^3) = 0.1328575326803123\n",
      "Stress[0][0] (x-x) (GPa)    = 21.286123275756832\n"
     ]
    }
   ],
   "source": [
    "print(f\"Energy (eV)                 = {structure.get_potential_energy()}\")\n",
    "print(f\"Energy per atom (eV/atom)   = {structure.get_potential_energy()/len(structure)}\")\n",
    "print(f\"Forces of first atom (eV/A) = {structure.get_forces()[0]}\")\n",
    "print(f\"Stress[0][0] (x-x) (eV/A^3) = {structure.get_stress(voigt=False)[0][0]}\")\n",
    "print(f\"Stress[0][0] (x-x) (GPa)    = {structure.get_stress(voigt=False)[0][0] / GPa}\")"
   ]
  },
  {
   "cell_type": "code",
   "execution_count": 55,
   "metadata": {},
   "outputs": [
    {
     "data": {
      "text/plain": [
       "array([ 3.85,  3.85,  3.72, 90.  , 90.  , 90.  ])"
      ]
     },
     "execution_count": 55,
     "metadata": {},
     "output_type": "execute_result"
    }
   ],
   "source": [
    "structure.cell.cellpar()"
   ]
  },
  {
   "cell_type": "code",
   "execution_count": 42,
   "metadata": {},
   "outputs": [],
   "source": [
    "trajectory_file = \"md_trajectory.traj\"\n",
    "log_file = \"md_simulation.log\""
   ]
  },
  {
   "cell_type": "code",
   "execution_count": null,
   "metadata": {},
   "outputs": [],
   "source": [
    "md = MolecularDynamics(\n",
    "    atoms=structure,\n",
    "    ensemble=\"nvt_nose_hoover\",\n",
    "    temperature=300,\n",
    "    timestep=1.0,\n",
    "    loginterval=10,\n",
    "    logfile = log_file,\n",
    "    trajectory=trajectory_file  # Save trajectory\n",
    ")"
   ]
  },
  {
   "cell_type": "code",
   "execution_count": 57,
   "metadata": {},
   "outputs": [],
   "source": [
    "md.run(n_steps=1000)"
   ]
  },
  {
   "cell_type": "code",
   "execution_count": 58,
   "metadata": {},
   "outputs": [
    {
     "data": {
      "text/plain": [
       "array([ 3.85,  3.85,  3.72, 90.  , 90.  , 90.  ])"
      ]
     },
     "execution_count": 58,
     "metadata": {},
     "output_type": "execute_result"
    }
   ],
   "source": [
    "md.atoms.cell.cellpar()"
   ]
  },
  {
   "cell_type": "code",
   "execution_count": 59,
   "metadata": {},
   "outputs": [
    {
     "data": {
      "text/plain": [
       "array([[-2.75081276, -0.49308007,  0.03647099],\n",
       "       [ 2.71245126,  2.0661497 ,  1.84955971]])"
      ]
     },
     "execution_count": 59,
     "metadata": {},
     "output_type": "execute_result"
    }
   ],
   "source": [
    "md.atoms.get_positions()"
   ]
  },
  {
   "cell_type": "code",
   "execution_count": 60,
   "metadata": {},
   "outputs": [
    {
     "name": "stdout",
     "output_type": "stream",
     "text": [
      "Energy (eV)                 = -11.364585876464844\n",
      "Energy per atom (eV/atom)   = -5.682292938232422\n",
      "Forces of first atom (eV/A) = [ 0.5268571  -0.8831482   0.06431783]\n",
      "Stress[0][0] (x-x) (eV/A^3) = 0.13525236037962535\n",
      "Stress[0][0] (x-x) (GPa)    = 21.669816970825195\n"
     ]
    }
   ],
   "source": [
    "print(f\"Energy (eV)                 = {md.atoms.get_potential_energy()}\")\n",
    "print(f\"Energy per atom (eV/atom)   = {md.atoms.get_potential_energy()/len(structure)}\")\n",
    "print(f\"Forces of first atom (eV/A) = {md.atoms.get_forces()[0]}\")\n",
    "print(f\"Stress[0][0] (x-x) (eV/A^3) = {md.atoms.get_stress(voigt=False)[0][0]}\")\n",
    "print(f\"Stress[0][0] (x-x) (GPa)    = {md.atoms.get_stress(voigt=False)[0][0] / GPa}\")"
   ]
  },
  {
   "cell_type": "code",
   "execution_count": 61,
   "metadata": {},
   "outputs": [
    {
     "name": "stdout",
     "output_type": "stream",
     "text": [
      "Structure positions: [[-2.75081276 -0.49308007  0.03647099]\n",
      " [ 2.71245126  2.0661497   1.84955971]]\n"
     ]
    },
    {
     "data": {
      "application/3dmoljs_load.v0": "<div id=\"3dmolviewer_17386573730183723\"  style=\"position: relative; width: 800px; height: 600px;\">\n        <p id=\"3dmolwarning_17386573730183723\" style=\"background-color:#ffcccc;color:black\">3Dmol.js failed to load for some reason.  Please check your browser console for error messages.<br></p>\n        </div>\n<script>\n\nvar loadScriptAsync = function(uri){\n  return new Promise((resolve, reject) => {\n    //this is to ignore the existence of requirejs amd\n    var savedexports, savedmodule;\n    if (typeof exports !== 'undefined') savedexports = exports;\n    else exports = {}\n    if (typeof module !== 'undefined') savedmodule = module;\n    else module = {}\n\n    var tag = document.createElement('script');\n    tag.src = uri;\n    tag.async = true;\n    tag.onload = () => {\n        exports = savedexports;\n        module = savedmodule;\n        resolve();\n    };\n  var firstScriptTag = document.getElementsByTagName('script')[0];\n  firstScriptTag.parentNode.insertBefore(tag, firstScriptTag);\n});\n};\n\nif(typeof $3Dmolpromise === 'undefined') {\n$3Dmolpromise = null;\n  $3Dmolpromise = loadScriptAsync('https://cdnjs.cloudflare.com/ajax/libs/3Dmol/2.4.2/3Dmol-min.js');\n}\n\nvar viewer_17386573730183723 = null;\nvar warn = document.getElementById(\"3dmolwarning_17386573730183723\");\nif(warn) {\n    warn.parentNode.removeChild(warn);\n}\n$3Dmolpromise.then(function() {\nviewer_17386573730183723 = $3Dmol.createViewer(document.getElementById(\"3dmolviewer_17386573730183723\"),{backgroundColor:\"white\"});\nviewer_17386573730183723.zoomTo();\n\tviewer_17386573730183723.addModel(\"54\\nLattice=\\\"11.55 0.0 0.0 0.0 11.55 0.0 0.0 0.0 11.16\\\" Properties=species:S:1:pos:R:3:momenta:R:3 pbc=\\\"T T T\\\"\\nFe      -2.75081276      -0.49308007       0.03647099      -3.64888826       2.60107256       4.30632336\\nPt       2.71245126       2.06614970       1.84955971       3.64888846      -2.60107266      -4.30632341\\nFe      -2.75081276      -0.49308007       3.75647099      -3.64888826       2.60107256       4.30632336\\nPt       2.71245126       2.06614970       5.56955971       3.64888846      -2.60107266      -4.30632341\\nFe      -2.75081276      -0.49308007       7.47647099      -3.64888826       2.60107256       4.30632336\\nPt       2.71245126       2.06614970       9.28955971       3.64888846      -2.60107266      -4.30632341\\nFe      -2.75081276       3.35691993       0.03647099      -3.64888826       2.60107256       4.30632336\\nPt       2.71245126       5.91614970       1.84955971       3.64888846      -2.60107266      -4.30632341\\nFe      -2.75081276       3.35691993       3.75647099      -3.64888826       2.60107256       4.30632336\\nPt       2.71245126       5.91614970       5.56955971       3.64888846      -2.60107266      -4.30632341\\nFe      -2.75081276       3.35691993       7.47647099      -3.64888826       2.60107256       4.30632336\\nPt       2.71245126       5.91614970       9.28955971       3.64888846      -2.60107266      -4.30632341\\nFe      -2.75081276       7.20691993       0.03647099      -3.64888826       2.60107256       4.30632336\\nPt       2.71245126       9.76614970       1.84955971       3.64888846      -2.60107266      -4.30632341\\nFe      -2.75081276       7.20691993       3.75647099      -3.64888826       2.60107256       4.30632336\\nPt       2.71245126       9.76614970       5.56955971       3.64888846      -2.60107266      -4.30632341\\nFe      -2.75081276       7.20691993       7.47647099      -3.64888826       2.60107256       4.30632336\\nPt       2.71245126       9.76614970       9.28955971       3.64888846      -2.60107266      -4.30632341\\nFe       1.09918724      -0.49308007       0.03647099      -3.64888826       2.60107256       4.30632336\\nPt       6.56245126       2.06614970       1.84955971       3.64888846      -2.60107266      -4.30632341\\nFe       1.09918724      -0.49308007       3.75647099      -3.64888826       2.60107256       4.30632336\\nPt       6.56245126       2.06614970       5.56955971       3.64888846      -2.60107266      -4.30632341\\nFe       1.09918724      -0.49308007       7.47647099      -3.64888826       2.60107256       4.30632336\\nPt       6.56245126       2.06614970       9.28955971       3.64888846      -2.60107266      -4.30632341\\nFe       1.09918724       3.35691993       0.03647099      -3.64888826       2.60107256       4.30632336\\nPt       6.56245126       5.91614970       1.84955971       3.64888846      -2.60107266      -4.30632341\\nFe       1.09918724       3.35691993       3.75647099      -3.64888826       2.60107256       4.30632336\\nPt       6.56245126       5.91614970       5.56955971       3.64888846      -2.60107266      -4.30632341\\nFe       1.09918724       3.35691993       7.47647099      -3.64888826       2.60107256       4.30632336\\nPt       6.56245126       5.91614970       9.28955971       3.64888846      -2.60107266      -4.30632341\\nFe       1.09918724       7.20691993       0.03647099      -3.64888826       2.60107256       4.30632336\\nPt       6.56245126       9.76614970       1.84955971       3.64888846      -2.60107266      -4.30632341\\nFe       1.09918724       7.20691993       3.75647099      -3.64888826       2.60107256       4.30632336\\nPt       6.56245126       9.76614970       5.56955971       3.64888846      -2.60107266      -4.30632341\\nFe       1.09918724       7.20691993       7.47647099      -3.64888826       2.60107256       4.30632336\\nPt       6.56245126       9.76614970       9.28955971       3.64888846      -2.60107266      -4.30632341\\nFe       4.94918724      -0.49308007       0.03647099      -3.64888826       2.60107256       4.30632336\\nPt      10.41245126       2.06614970       1.84955971       3.64888846      -2.60107266      -4.30632341\\nFe       4.94918724      -0.49308007       3.75647099      -3.64888826       2.60107256       4.30632336\\nPt      10.41245126       2.06614970       5.56955971       3.64888846      -2.60107266      -4.30632341\\nFe       4.94918724      -0.49308007       7.47647099      -3.64888826       2.60107256       4.30632336\\nPt      10.41245126       2.06614970       9.28955971       3.64888846      -2.60107266      -4.30632341\\nFe       4.94918724       3.35691993       0.03647099      -3.64888826       2.60107256       4.30632336\\nPt      10.41245126       5.91614970       1.84955971       3.64888846      -2.60107266      -4.30632341\\nFe       4.94918724       3.35691993       3.75647099      -3.64888826       2.60107256       4.30632336\\nPt      10.41245126       5.91614970       5.56955971       3.64888846      -2.60107266      -4.30632341\\nFe       4.94918724       3.35691993       7.47647099      -3.64888826       2.60107256       4.30632336\\nPt      10.41245126       5.91614970       9.28955971       3.64888846      -2.60107266      -4.30632341\\nFe       4.94918724       7.20691993       0.03647099      -3.64888826       2.60107256       4.30632336\\nPt      10.41245126       9.76614970       1.84955971       3.64888846      -2.60107266      -4.30632341\\nFe       4.94918724       7.20691993       3.75647099      -3.64888826       2.60107256       4.30632336\\nPt      10.41245126       9.76614970       5.56955971       3.64888846      -2.60107266      -4.30632341\\nFe       4.94918724       7.20691993       7.47647099      -3.64888826       2.60107256       4.30632336\\nPt      10.41245126       9.76614970       9.28955971       3.64888846      -2.60107266      -4.30632341\\n\",\"xyz\");\n\tviewer_17386573730183723.setStyle({\"model\": 0, \"sphere\": {\"scale\": 0.14313065141169956}});\n\tviewer_17386573730183723.setStyle({\"model\": 1, \"sphere\": {\"scale\": 0.5}});\n\tviewer_17386573730183723.addLine({\"start\": {\"x\": 0, \"y\": 0, \"z\": 0}, \"end\": {\"x\": 3.85, \"y\": 0.0, \"z\": 0.0}, \"color\": \"black\"});\n\tviewer_17386573730183723.addLine({\"start\": {\"x\": 0, \"y\": 0, \"z\": 0}, \"end\": {\"x\": 0.0, \"y\": 3.85, \"z\": 0.0}, \"color\": \"black\"});\n\tviewer_17386573730183723.addLine({\"start\": {\"x\": 0, \"y\": 0, \"z\": 0}, \"end\": {\"x\": 0.0, \"y\": 0.0, \"z\": 3.72}, \"color\": \"black\"});\n\tviewer_17386573730183723.addLine({\"start\": {\"x\": 3.85, \"y\": 0.0, \"z\": 0.0}, \"end\": {\"x\": 3.85, \"y\": 3.85, \"z\": 0.0}, \"color\": \"black\"});\n\tviewer_17386573730183723.addLine({\"start\": {\"x\": 3.85, \"y\": 0.0, \"z\": 0.0}, \"end\": {\"x\": 3.85, \"y\": 0.0, \"z\": 3.72}, \"color\": \"black\"});\n\tviewer_17386573730183723.addLine({\"start\": {\"x\": 0.0, \"y\": 3.85, \"z\": 0.0}, \"end\": {\"x\": 3.85, \"y\": 3.85, \"z\": 0.0}, \"color\": \"black\"});\n\tviewer_17386573730183723.addLine({\"start\": {\"x\": 0.0, \"y\": 3.85, \"z\": 0.0}, \"end\": {\"x\": 0.0, \"y\": 3.85, \"z\": 3.72}, \"color\": \"black\"});\n\tviewer_17386573730183723.addLine({\"start\": {\"x\": 0.0, \"y\": 0.0, \"z\": 3.72}, \"end\": {\"x\": 3.85, \"y\": 0.0, \"z\": 3.72}, \"color\": \"black\"});\n\tviewer_17386573730183723.addLine({\"start\": {\"x\": 0.0, \"y\": 0.0, \"z\": 3.72}, \"end\": {\"x\": 0.0, \"y\": 3.85, \"z\": 3.72}, \"color\": \"black\"});\n\tviewer_17386573730183723.addLine({\"start\": {\"x\": 3.85, \"y\": 3.85, \"z\": 0.0}, \"end\": {\"x\": 3.85, \"y\": 3.85, \"z\": 3.72}, \"color\": \"black\"});\n\tviewer_17386573730183723.addLine({\"start\": {\"x\": 3.85, \"y\": 0.0, \"z\": 3.72}, \"end\": {\"x\": 3.85, \"y\": 3.85, \"z\": 3.72}, \"color\": \"black\"});\n\tviewer_17386573730183723.addLine({\"start\": {\"x\": 0.0, \"y\": 3.85, \"z\": 3.72}, \"end\": {\"x\": 3.85, \"y\": 3.85, \"z\": 3.72}, \"color\": \"black\"});\n\tviewer_17386573730183723.addLine({\"start\": {\"x\": 0.0, \"y\": 0.0, \"z\": 0.0}, \"end\": {\"x\": 3.85, \"y\": 0.0, \"z\": 0.0}, \"color\": \"grey\"});\n\tviewer_17386573730183723.addLine({\"start\": {\"x\": 0.0, \"y\": 0.0, \"z\": 0.0}, \"end\": {\"x\": 0.0, \"y\": 3.85, \"z\": 0.0}, \"color\": \"grey\"});\n\tviewer_17386573730183723.addLine({\"start\": {\"x\": 0.0, \"y\": 0.0, \"z\": 0.0}, \"end\": {\"x\": 0.0, \"y\": 0.0, \"z\": 3.72}, \"color\": \"grey\"});\n\tviewer_17386573730183723.addLine({\"start\": {\"x\": 3.85, \"y\": 0.0, \"z\": 0.0}, \"end\": {\"x\": 3.85, \"y\": 3.85, \"z\": 0.0}, \"color\": \"grey\"});\n\tviewer_17386573730183723.addLine({\"start\": {\"x\": 3.85, \"y\": 0.0, \"z\": 0.0}, \"end\": {\"x\": 3.85, \"y\": 0.0, \"z\": 3.72}, \"color\": \"grey\"});\n\tviewer_17386573730183723.addLine({\"start\": {\"x\": 0.0, \"y\": 3.85, \"z\": 0.0}, \"end\": {\"x\": 3.85, \"y\": 3.85, \"z\": 0.0}, \"color\": \"grey\"});\n\tviewer_17386573730183723.addLine({\"start\": {\"x\": 0.0, \"y\": 3.85, \"z\": 0.0}, \"end\": {\"x\": 0.0, \"y\": 3.85, \"z\": 3.72}, \"color\": \"grey\"});\n\tviewer_17386573730183723.addLine({\"start\": {\"x\": 0.0, \"y\": 0.0, \"z\": 3.72}, \"end\": {\"x\": 3.85, \"y\": 0.0, \"z\": 3.72}, \"color\": \"grey\"});\n\tviewer_17386573730183723.addLine({\"start\": {\"x\": 0.0, \"y\": 0.0, \"z\": 3.72}, \"end\": {\"x\": 0.0, \"y\": 3.85, \"z\": 3.72}, \"color\": \"grey\"});\n\tviewer_17386573730183723.addLine({\"start\": {\"x\": 3.85, \"y\": 3.85, \"z\": 0.0}, \"end\": {\"x\": 3.85, \"y\": 3.85, \"z\": 3.72}, \"color\": \"grey\"});\n\tviewer_17386573730183723.addLine({\"start\": {\"x\": 3.85, \"y\": 0.0, \"z\": 3.72}, \"end\": {\"x\": 3.85, \"y\": 3.85, \"z\": 3.72}, \"color\": \"grey\"});\n\tviewer_17386573730183723.addLine({\"start\": {\"x\": 0.0, \"y\": 3.85, \"z\": 3.72}, \"end\": {\"x\": 3.85, \"y\": 3.85, \"z\": 3.72}, \"color\": \"grey\"});\n\tviewer_17386573730183723.addLine({\"start\": {\"x\": 0.0, \"y\": 0.0, \"z\": 3.72}, \"end\": {\"x\": 3.85, \"y\": 0.0, \"z\": 3.72}, \"color\": \"grey\"});\n\tviewer_17386573730183723.addLine({\"start\": {\"x\": 0.0, \"y\": 0.0, \"z\": 3.72}, \"end\": {\"x\": 0.0, \"y\": 3.85, \"z\": 3.72}, \"color\": \"grey\"});\n\tviewer_17386573730183723.addLine({\"start\": {\"x\": 0.0, \"y\": 0.0, \"z\": 3.72}, \"end\": {\"x\": 0.0, \"y\": 0.0, \"z\": 7.44}, \"color\": \"grey\"});\n\tviewer_17386573730183723.addLine({\"start\": {\"x\": 3.85, \"y\": 0.0, \"z\": 3.72}, \"end\": {\"x\": 3.85, \"y\": 3.85, \"z\": 3.72}, \"color\": \"grey\"});\n\tviewer_17386573730183723.addLine({\"start\": {\"x\": 3.85, \"y\": 0.0, \"z\": 3.72}, \"end\": {\"x\": 3.85, \"y\": 0.0, \"z\": 7.44}, \"color\": \"grey\"});\n\tviewer_17386573730183723.addLine({\"start\": {\"x\": 0.0, \"y\": 3.85, \"z\": 3.72}, \"end\": {\"x\": 3.85, \"y\": 3.85, \"z\": 3.72}, \"color\": \"grey\"});\n\tviewer_17386573730183723.addLine({\"start\": {\"x\": 0.0, \"y\": 3.85, \"z\": 3.72}, \"end\": {\"x\": 0.0, \"y\": 3.85, \"z\": 7.44}, \"color\": \"grey\"});\n\tviewer_17386573730183723.addLine({\"start\": {\"x\": 0.0, \"y\": 0.0, \"z\": 7.44}, \"end\": {\"x\": 3.85, \"y\": 0.0, \"z\": 7.44}, \"color\": \"grey\"});\n\tviewer_17386573730183723.addLine({\"start\": {\"x\": 0.0, \"y\": 0.0, \"z\": 7.44}, \"end\": {\"x\": 0.0, \"y\": 3.85, \"z\": 7.44}, \"color\": \"grey\"});\n\tviewer_17386573730183723.addLine({\"start\": {\"x\": 3.85, \"y\": 3.85, \"z\": 3.72}, \"end\": {\"x\": 3.85, \"y\": 3.85, \"z\": 7.44}, \"color\": \"grey\"});\n\tviewer_17386573730183723.addLine({\"start\": {\"x\": 3.85, \"y\": 0.0, \"z\": 7.44}, \"end\": {\"x\": 3.85, \"y\": 3.85, \"z\": 7.44}, \"color\": \"grey\"});\n\tviewer_17386573730183723.addLine({\"start\": {\"x\": 0.0, \"y\": 3.85, \"z\": 7.44}, \"end\": {\"x\": 3.85, \"y\": 3.85, \"z\": 7.44}, \"color\": \"grey\"});\n\tviewer_17386573730183723.addLine({\"start\": {\"x\": 0.0, \"y\": 0.0, \"z\": 7.44}, \"end\": {\"x\": 3.85, \"y\": 0.0, \"z\": 7.44}, \"color\": \"grey\"});\n\tviewer_17386573730183723.addLine({\"start\": {\"x\": 0.0, \"y\": 0.0, \"z\": 7.44}, \"end\": {\"x\": 0.0, \"y\": 3.85, \"z\": 7.44}, \"color\": \"grey\"});\n\tviewer_17386573730183723.addLine({\"start\": {\"x\": 0.0, \"y\": 0.0, \"z\": 7.44}, \"end\": {\"x\": 0.0, \"y\": 0.0, \"z\": 11.16}, \"color\": \"grey\"});\n\tviewer_17386573730183723.addLine({\"start\": {\"x\": 3.85, \"y\": 0.0, \"z\": 7.44}, \"end\": {\"x\": 3.85, \"y\": 3.85, \"z\": 7.44}, \"color\": \"grey\"});\n\tviewer_17386573730183723.addLine({\"start\": {\"x\": 3.85, \"y\": 0.0, \"z\": 7.44}, \"end\": {\"x\": 3.85, \"y\": 0.0, \"z\": 11.16}, \"color\": \"grey\"});\n\tviewer_17386573730183723.addLine({\"start\": {\"x\": 0.0, \"y\": 3.85, \"z\": 7.44}, \"end\": {\"x\": 3.85, \"y\": 3.85, \"z\": 7.44}, \"color\": \"grey\"});\n\tviewer_17386573730183723.addLine({\"start\": {\"x\": 0.0, \"y\": 3.85, \"z\": 7.44}, \"end\": {\"x\": 0.0, \"y\": 3.85, \"z\": 11.16}, \"color\": \"grey\"});\n\tviewer_17386573730183723.addLine({\"start\": {\"x\": 0.0, \"y\": 0.0, \"z\": 11.16}, \"end\": {\"x\": 3.85, \"y\": 0.0, \"z\": 11.16}, \"color\": \"grey\"});\n\tviewer_17386573730183723.addLine({\"start\": {\"x\": 0.0, \"y\": 0.0, \"z\": 11.16}, \"end\": {\"x\": 0.0, \"y\": 3.85, \"z\": 11.16}, \"color\": \"grey\"});\n\tviewer_17386573730183723.addLine({\"start\": {\"x\": 3.85, \"y\": 3.85, \"z\": 7.44}, \"end\": {\"x\": 3.85, \"y\": 3.85, \"z\": 11.16}, \"color\": \"grey\"});\n\tviewer_17386573730183723.addLine({\"start\": {\"x\": 3.85, \"y\": 0.0, \"z\": 11.16}, \"end\": {\"x\": 3.85, \"y\": 3.85, \"z\": 11.16}, \"color\": \"grey\"});\n\tviewer_17386573730183723.addLine({\"start\": {\"x\": 0.0, \"y\": 3.85, \"z\": 11.16}, \"end\": {\"x\": 3.85, \"y\": 3.85, \"z\": 11.16}, \"color\": \"grey\"});\n\tviewer_17386573730183723.addLine({\"start\": {\"x\": 0.0, \"y\": 3.85, \"z\": 0.0}, \"end\": {\"x\": 3.85, \"y\": 3.85, \"z\": 0.0}, \"color\": \"grey\"});\n\tviewer_17386573730183723.addLine({\"start\": {\"x\": 0.0, \"y\": 3.85, \"z\": 0.0}, \"end\": {\"x\": 0.0, \"y\": 7.7, \"z\": 0.0}, \"color\": \"grey\"});\n\tviewer_17386573730183723.addLine({\"start\": {\"x\": 0.0, \"y\": 3.85, \"z\": 0.0}, \"end\": {\"x\": 0.0, \"y\": 3.85, \"z\": 3.72}, \"color\": \"grey\"});\n\tviewer_17386573730183723.addLine({\"start\": {\"x\": 3.85, \"y\": 3.85, \"z\": 0.0}, \"end\": {\"x\": 3.85, \"y\": 7.7, \"z\": 0.0}, \"color\": \"grey\"});\n\tviewer_17386573730183723.addLine({\"start\": {\"x\": 3.85, \"y\": 3.85, \"z\": 0.0}, \"end\": {\"x\": 3.85, \"y\": 3.85, \"z\": 3.72}, \"color\": \"grey\"});\n\tviewer_17386573730183723.addLine({\"start\": {\"x\": 0.0, \"y\": 7.7, \"z\": 0.0}, \"end\": {\"x\": 3.85, \"y\": 7.7, \"z\": 0.0}, \"color\": \"grey\"});\n\tviewer_17386573730183723.addLine({\"start\": {\"x\": 0.0, \"y\": 7.7, \"z\": 0.0}, \"end\": {\"x\": 0.0, \"y\": 7.7, \"z\": 3.72}, \"color\": \"grey\"});\n\tviewer_17386573730183723.addLine({\"start\": {\"x\": 0.0, \"y\": 3.85, \"z\": 3.72}, \"end\": {\"x\": 3.85, \"y\": 3.85, \"z\": 3.72}, \"color\": \"grey\"});\n\tviewer_17386573730183723.addLine({\"start\": {\"x\": 0.0, \"y\": 3.85, \"z\": 3.72}, \"end\": {\"x\": 0.0, \"y\": 7.7, \"z\": 3.72}, \"color\": \"grey\"});\n\tviewer_17386573730183723.addLine({\"start\": {\"x\": 3.85, \"y\": 7.7, \"z\": 0.0}, \"end\": {\"x\": 3.85, \"y\": 7.7, \"z\": 3.72}, \"color\": \"grey\"});\n\tviewer_17386573730183723.addLine({\"start\": {\"x\": 3.85, \"y\": 3.85, \"z\": 3.72}, \"end\": {\"x\": 3.85, \"y\": 7.7, \"z\": 3.72}, \"color\": \"grey\"});\n\tviewer_17386573730183723.addLine({\"start\": {\"x\": 0.0, \"y\": 7.7, \"z\": 3.72}, \"end\": {\"x\": 3.85, \"y\": 7.7, \"z\": 3.72}, \"color\": \"grey\"});\n\tviewer_17386573730183723.addLine({\"start\": {\"x\": 0.0, \"y\": 3.85, \"z\": 3.72}, \"end\": {\"x\": 3.85, \"y\": 3.85, \"z\": 3.72}, \"color\": \"grey\"});\n\tviewer_17386573730183723.addLine({\"start\": {\"x\": 0.0, \"y\": 3.85, \"z\": 3.72}, \"end\": {\"x\": 0.0, \"y\": 7.7, \"z\": 3.72}, \"color\": \"grey\"});\n\tviewer_17386573730183723.addLine({\"start\": {\"x\": 0.0, \"y\": 3.85, \"z\": 3.72}, \"end\": {\"x\": 0.0, \"y\": 3.85, \"z\": 7.44}, \"color\": \"grey\"});\n\tviewer_17386573730183723.addLine({\"start\": {\"x\": 3.85, \"y\": 3.85, \"z\": 3.72}, \"end\": {\"x\": 3.85, \"y\": 7.7, \"z\": 3.72}, \"color\": \"grey\"});\n\tviewer_17386573730183723.addLine({\"start\": {\"x\": 3.85, \"y\": 3.85, \"z\": 3.72}, \"end\": {\"x\": 3.85, \"y\": 3.85, \"z\": 7.44}, \"color\": \"grey\"});\n\tviewer_17386573730183723.addLine({\"start\": {\"x\": 0.0, \"y\": 7.7, \"z\": 3.72}, \"end\": {\"x\": 3.85, \"y\": 7.7, \"z\": 3.72}, \"color\": \"grey\"});\n\tviewer_17386573730183723.addLine({\"start\": {\"x\": 0.0, \"y\": 7.7, \"z\": 3.72}, \"end\": {\"x\": 0.0, \"y\": 7.7, \"z\": 7.44}, \"color\": \"grey\"});\n\tviewer_17386573730183723.addLine({\"start\": {\"x\": 0.0, \"y\": 3.85, \"z\": 7.44}, \"end\": {\"x\": 3.85, \"y\": 3.85, \"z\": 7.44}, \"color\": \"grey\"});\n\tviewer_17386573730183723.addLine({\"start\": {\"x\": 0.0, \"y\": 3.85, \"z\": 7.44}, \"end\": {\"x\": 0.0, \"y\": 7.7, \"z\": 7.44}, \"color\": \"grey\"});\n\tviewer_17386573730183723.addLine({\"start\": {\"x\": 3.85, \"y\": 7.7, \"z\": 3.72}, \"end\": {\"x\": 3.85, \"y\": 7.7, \"z\": 7.44}, \"color\": \"grey\"});\n\tviewer_17386573730183723.addLine({\"start\": {\"x\": 3.85, \"y\": 3.85, \"z\": 7.44}, \"end\": {\"x\": 3.85, \"y\": 7.7, \"z\": 7.44}, \"color\": \"grey\"});\n\tviewer_17386573730183723.addLine({\"start\": {\"x\": 0.0, \"y\": 7.7, \"z\": 7.44}, \"end\": {\"x\": 3.85, \"y\": 7.7, \"z\": 7.44}, \"color\": \"grey\"});\n\tviewer_17386573730183723.addLine({\"start\": {\"x\": 0.0, \"y\": 3.85, \"z\": 7.44}, \"end\": {\"x\": 3.85, \"y\": 3.85, \"z\": 7.44}, \"color\": \"grey\"});\n\tviewer_17386573730183723.addLine({\"start\": {\"x\": 0.0, \"y\": 3.85, \"z\": 7.44}, \"end\": {\"x\": 0.0, \"y\": 7.7, \"z\": 7.44}, \"color\": \"grey\"});\n\tviewer_17386573730183723.addLine({\"start\": {\"x\": 0.0, \"y\": 3.85, \"z\": 7.44}, \"end\": {\"x\": 0.0, \"y\": 3.85, \"z\": 11.16}, \"color\": \"grey\"});\n\tviewer_17386573730183723.addLine({\"start\": {\"x\": 3.85, \"y\": 3.85, \"z\": 7.44}, \"end\": {\"x\": 3.85, \"y\": 7.7, \"z\": 7.44}, \"color\": \"grey\"});\n\tviewer_17386573730183723.addLine({\"start\": {\"x\": 3.85, \"y\": 3.85, \"z\": 7.44}, \"end\": {\"x\": 3.85, \"y\": 3.85, \"z\": 11.16}, \"color\": \"grey\"});\n\tviewer_17386573730183723.addLine({\"start\": {\"x\": 0.0, \"y\": 7.7, \"z\": 7.44}, \"end\": {\"x\": 3.85, \"y\": 7.7, \"z\": 7.44}, \"color\": \"grey\"});\n\tviewer_17386573730183723.addLine({\"start\": {\"x\": 0.0, \"y\": 7.7, \"z\": 7.44}, \"end\": {\"x\": 0.0, \"y\": 7.7, \"z\": 11.16}, \"color\": \"grey\"});\n\tviewer_17386573730183723.addLine({\"start\": {\"x\": 0.0, \"y\": 3.85, \"z\": 11.16}, \"end\": {\"x\": 3.85, \"y\": 3.85, \"z\": 11.16}, \"color\": \"grey\"});\n\tviewer_17386573730183723.addLine({\"start\": {\"x\": 0.0, \"y\": 3.85, \"z\": 11.16}, \"end\": {\"x\": 0.0, \"y\": 7.7, \"z\": 11.16}, \"color\": \"grey\"});\n\tviewer_17386573730183723.addLine({\"start\": {\"x\": 3.85, \"y\": 7.7, \"z\": 7.44}, \"end\": {\"x\": 3.85, \"y\": 7.7, \"z\": 11.16}, \"color\": \"grey\"});\n\tviewer_17386573730183723.addLine({\"start\": {\"x\": 3.85, \"y\": 3.85, \"z\": 11.16}, \"end\": {\"x\": 3.85, \"y\": 7.7, \"z\": 11.16}, \"color\": \"grey\"});\n\tviewer_17386573730183723.addLine({\"start\": {\"x\": 0.0, \"y\": 7.7, \"z\": 11.16}, \"end\": {\"x\": 3.85, \"y\": 7.7, \"z\": 11.16}, \"color\": \"grey\"});\n\tviewer_17386573730183723.addLine({\"start\": {\"x\": 0.0, \"y\": 7.7, \"z\": 0.0}, \"end\": {\"x\": 3.85, \"y\": 7.7, \"z\": 0.0}, \"color\": \"grey\"});\n\tviewer_17386573730183723.addLine({\"start\": {\"x\": 0.0, \"y\": 7.7, \"z\": 0.0}, \"end\": {\"x\": 0.0, \"y\": 11.55, \"z\": 0.0}, \"color\": \"grey\"});\n\tviewer_17386573730183723.addLine({\"start\": {\"x\": 0.0, \"y\": 7.7, \"z\": 0.0}, \"end\": {\"x\": 0.0, \"y\": 7.7, \"z\": 3.72}, \"color\": \"grey\"});\n\tviewer_17386573730183723.addLine({\"start\": {\"x\": 3.85, \"y\": 7.7, \"z\": 0.0}, \"end\": {\"x\": 3.85, \"y\": 11.55, \"z\": 0.0}, \"color\": \"grey\"});\n\tviewer_17386573730183723.addLine({\"start\": {\"x\": 3.85, \"y\": 7.7, \"z\": 0.0}, \"end\": {\"x\": 3.85, \"y\": 7.7, \"z\": 3.72}, \"color\": \"grey\"});\n\tviewer_17386573730183723.addLine({\"start\": {\"x\": 0.0, \"y\": 11.55, \"z\": 0.0}, \"end\": {\"x\": 3.85, \"y\": 11.55, \"z\": 0.0}, \"color\": \"grey\"});\n\tviewer_17386573730183723.addLine({\"start\": {\"x\": 0.0, \"y\": 11.55, \"z\": 0.0}, \"end\": {\"x\": 0.0, \"y\": 11.55, \"z\": 3.72}, \"color\": \"grey\"});\n\tviewer_17386573730183723.addLine({\"start\": {\"x\": 0.0, \"y\": 7.7, \"z\": 3.72}, \"end\": {\"x\": 3.85, \"y\": 7.7, \"z\": 3.72}, \"color\": \"grey\"});\n\tviewer_17386573730183723.addLine({\"start\": {\"x\": 0.0, \"y\": 7.7, \"z\": 3.72}, \"end\": {\"x\": 0.0, \"y\": 11.55, \"z\": 3.72}, \"color\": \"grey\"});\n\tviewer_17386573730183723.addLine({\"start\": {\"x\": 3.85, \"y\": 11.55, \"z\": 0.0}, \"end\": {\"x\": 3.85, \"y\": 11.55, \"z\": 3.72}, \"color\": \"grey\"});\n\tviewer_17386573730183723.addLine({\"start\": {\"x\": 3.85, \"y\": 7.7, \"z\": 3.72}, \"end\": {\"x\": 3.85, \"y\": 11.55, \"z\": 3.72}, \"color\": \"grey\"});\n\tviewer_17386573730183723.addLine({\"start\": {\"x\": 0.0, \"y\": 11.55, \"z\": 3.72}, \"end\": {\"x\": 3.85, \"y\": 11.55, \"z\": 3.72}, \"color\": \"grey\"});\n\tviewer_17386573730183723.addLine({\"start\": {\"x\": 0.0, \"y\": 7.7, \"z\": 3.72}, \"end\": {\"x\": 3.85, \"y\": 7.7, \"z\": 3.72}, \"color\": \"grey\"});\n\tviewer_17386573730183723.addLine({\"start\": {\"x\": 0.0, \"y\": 7.7, \"z\": 3.72}, \"end\": {\"x\": 0.0, \"y\": 11.55, \"z\": 3.72}, \"color\": \"grey\"});\n\tviewer_17386573730183723.addLine({\"start\": {\"x\": 0.0, \"y\": 7.7, \"z\": 3.72}, \"end\": {\"x\": 0.0, \"y\": 7.7, \"z\": 7.44}, \"color\": \"grey\"});\n\tviewer_17386573730183723.addLine({\"start\": {\"x\": 3.85, \"y\": 7.7, \"z\": 3.72}, \"end\": {\"x\": 3.85, \"y\": 11.55, \"z\": 3.72}, \"color\": \"grey\"});\n\tviewer_17386573730183723.addLine({\"start\": {\"x\": 3.85, \"y\": 7.7, \"z\": 3.72}, \"end\": {\"x\": 3.85, \"y\": 7.7, \"z\": 7.44}, \"color\": \"grey\"});\n\tviewer_17386573730183723.addLine({\"start\": {\"x\": 0.0, \"y\": 11.55, \"z\": 3.72}, \"end\": {\"x\": 3.85, \"y\": 11.55, \"z\": 3.72}, \"color\": \"grey\"});\n\tviewer_17386573730183723.addLine({\"start\": {\"x\": 0.0, \"y\": 11.55, \"z\": 3.72}, \"end\": {\"x\": 0.0, \"y\": 11.55, \"z\": 7.44}, \"color\": \"grey\"});\n\tviewer_17386573730183723.addLine({\"start\": {\"x\": 0.0, \"y\": 7.7, \"z\": 7.44}, \"end\": {\"x\": 3.85, \"y\": 7.7, \"z\": 7.44}, \"color\": \"grey\"});\n\tviewer_17386573730183723.addLine({\"start\": {\"x\": 0.0, \"y\": 7.7, \"z\": 7.44}, \"end\": {\"x\": 0.0, \"y\": 11.55, \"z\": 7.44}, \"color\": \"grey\"});\n\tviewer_17386573730183723.addLine({\"start\": {\"x\": 3.85, \"y\": 11.55, \"z\": 3.72}, \"end\": {\"x\": 3.85, \"y\": 11.55, \"z\": 7.44}, \"color\": \"grey\"});\n\tviewer_17386573730183723.addLine({\"start\": {\"x\": 3.85, \"y\": 7.7, \"z\": 7.44}, \"end\": {\"x\": 3.85, \"y\": 11.55, \"z\": 7.44}, \"color\": \"grey\"});\n\tviewer_17386573730183723.addLine({\"start\": {\"x\": 0.0, \"y\": 11.55, \"z\": 7.44}, \"end\": {\"x\": 3.85, \"y\": 11.55, \"z\": 7.44}, \"color\": \"grey\"});\n\tviewer_17386573730183723.addLine({\"start\": {\"x\": 0.0, \"y\": 7.7, \"z\": 7.44}, \"end\": {\"x\": 3.85, \"y\": 7.7, \"z\": 7.44}, \"color\": \"grey\"});\n\tviewer_17386573730183723.addLine({\"start\": {\"x\": 0.0, \"y\": 7.7, \"z\": 7.44}, \"end\": {\"x\": 0.0, \"y\": 11.55, \"z\": 7.44}, \"color\": \"grey\"});\n\tviewer_17386573730183723.addLine({\"start\": {\"x\": 0.0, \"y\": 7.7, \"z\": 7.44}, \"end\": {\"x\": 0.0, \"y\": 7.7, \"z\": 11.16}, \"color\": \"grey\"});\n\tviewer_17386573730183723.addLine({\"start\": {\"x\": 3.85, \"y\": 7.7, \"z\": 7.44}, \"end\": {\"x\": 3.85, \"y\": 11.55, \"z\": 7.44}, \"color\": \"grey\"});\n\tviewer_17386573730183723.addLine({\"start\": {\"x\": 3.85, \"y\": 7.7, \"z\": 7.44}, \"end\": {\"x\": 3.85, \"y\": 7.7, \"z\": 11.16}, \"color\": \"grey\"});\n\tviewer_17386573730183723.addLine({\"start\": {\"x\": 0.0, \"y\": 11.55, \"z\": 7.44}, \"end\": {\"x\": 3.85, \"y\": 11.55, \"z\": 7.44}, \"color\": \"grey\"});\n\tviewer_17386573730183723.addLine({\"start\": {\"x\": 0.0, \"y\": 11.55, \"z\": 7.44}, \"end\": {\"x\": 0.0, \"y\": 11.55, \"z\": 11.16}, \"color\": \"grey\"});\n\tviewer_17386573730183723.addLine({\"start\": {\"x\": 0.0, \"y\": 7.7, \"z\": 11.16}, \"end\": {\"x\": 3.85, \"y\": 7.7, \"z\": 11.16}, \"color\": \"grey\"});\n\tviewer_17386573730183723.addLine({\"start\": {\"x\": 0.0, \"y\": 7.7, \"z\": 11.16}, \"end\": {\"x\": 0.0, \"y\": 11.55, \"z\": 11.16}, \"color\": \"grey\"});\n\tviewer_17386573730183723.addLine({\"start\": {\"x\": 3.85, \"y\": 11.55, \"z\": 7.44}, \"end\": {\"x\": 3.85, \"y\": 11.55, \"z\": 11.16}, \"color\": \"grey\"});\n\tviewer_17386573730183723.addLine({\"start\": {\"x\": 3.85, \"y\": 7.7, \"z\": 11.16}, \"end\": {\"x\": 3.85, \"y\": 11.55, \"z\": 11.16}, \"color\": \"grey\"});\n\tviewer_17386573730183723.addLine({\"start\": {\"x\": 0.0, \"y\": 11.55, \"z\": 11.16}, \"end\": {\"x\": 3.85, \"y\": 11.55, \"z\": 11.16}, \"color\": \"grey\"});\n\tviewer_17386573730183723.addLine({\"start\": {\"x\": 3.85, \"y\": 0.0, \"z\": 0.0}, \"end\": {\"x\": 7.7, \"y\": 0.0, \"z\": 0.0}, \"color\": \"grey\"});\n\tviewer_17386573730183723.addLine({\"start\": {\"x\": 3.85, \"y\": 0.0, \"z\": 0.0}, \"end\": {\"x\": 3.85, \"y\": 3.85, \"z\": 0.0}, \"color\": \"grey\"});\n\tviewer_17386573730183723.addLine({\"start\": {\"x\": 3.85, \"y\": 0.0, \"z\": 0.0}, \"end\": {\"x\": 3.85, \"y\": 0.0, \"z\": 3.72}, \"color\": \"grey\"});\n\tviewer_17386573730183723.addLine({\"start\": {\"x\": 7.7, \"y\": 0.0, \"z\": 0.0}, \"end\": {\"x\": 7.7, \"y\": 3.85, \"z\": 0.0}, \"color\": \"grey\"});\n\tviewer_17386573730183723.addLine({\"start\": {\"x\": 7.7, \"y\": 0.0, \"z\": 0.0}, \"end\": {\"x\": 7.7, \"y\": 0.0, \"z\": 3.72}, \"color\": \"grey\"});\n\tviewer_17386573730183723.addLine({\"start\": {\"x\": 3.85, \"y\": 3.85, \"z\": 0.0}, \"end\": {\"x\": 7.7, \"y\": 3.85, \"z\": 0.0}, \"color\": \"grey\"});\n\tviewer_17386573730183723.addLine({\"start\": {\"x\": 3.85, \"y\": 3.85, \"z\": 0.0}, \"end\": {\"x\": 3.85, \"y\": 3.85, \"z\": 3.72}, \"color\": \"grey\"});\n\tviewer_17386573730183723.addLine({\"start\": {\"x\": 3.85, \"y\": 0.0, \"z\": 3.72}, \"end\": {\"x\": 7.7, \"y\": 0.0, \"z\": 3.72}, \"color\": \"grey\"});\n\tviewer_17386573730183723.addLine({\"start\": {\"x\": 3.85, \"y\": 0.0, \"z\": 3.72}, \"end\": {\"x\": 3.85, \"y\": 3.85, \"z\": 3.72}, \"color\": \"grey\"});\n\tviewer_17386573730183723.addLine({\"start\": {\"x\": 7.7, \"y\": 3.85, \"z\": 0.0}, \"end\": {\"x\": 7.7, \"y\": 3.85, \"z\": 3.72}, \"color\": \"grey\"});\n\tviewer_17386573730183723.addLine({\"start\": {\"x\": 7.7, \"y\": 0.0, \"z\": 3.72}, \"end\": {\"x\": 7.7, \"y\": 3.85, \"z\": 3.72}, \"color\": \"grey\"});\n\tviewer_17386573730183723.addLine({\"start\": {\"x\": 3.85, \"y\": 3.85, \"z\": 3.72}, \"end\": {\"x\": 7.7, \"y\": 3.85, \"z\": 3.72}, \"color\": \"grey\"});\n\tviewer_17386573730183723.addLine({\"start\": {\"x\": 3.85, \"y\": 0.0, \"z\": 3.72}, \"end\": {\"x\": 7.7, \"y\": 0.0, \"z\": 3.72}, \"color\": \"grey\"});\n\tviewer_17386573730183723.addLine({\"start\": {\"x\": 3.85, \"y\": 0.0, \"z\": 3.72}, \"end\": {\"x\": 3.85, \"y\": 3.85, \"z\": 3.72}, \"color\": \"grey\"});\n\tviewer_17386573730183723.addLine({\"start\": {\"x\": 3.85, \"y\": 0.0, \"z\": 3.72}, \"end\": {\"x\": 3.85, \"y\": 0.0, \"z\": 7.44}, \"color\": \"grey\"});\n\tviewer_17386573730183723.addLine({\"start\": {\"x\": 7.7, \"y\": 0.0, \"z\": 3.72}, \"end\": {\"x\": 7.7, \"y\": 3.85, \"z\": 3.72}, \"color\": \"grey\"});\n\tviewer_17386573730183723.addLine({\"start\": {\"x\": 7.7, \"y\": 0.0, \"z\": 3.72}, \"end\": {\"x\": 7.7, \"y\": 0.0, \"z\": 7.44}, \"color\": \"grey\"});\n\tviewer_17386573730183723.addLine({\"start\": {\"x\": 3.85, \"y\": 3.85, \"z\": 3.72}, \"end\": {\"x\": 7.7, \"y\": 3.85, \"z\": 3.72}, \"color\": \"grey\"});\n\tviewer_17386573730183723.addLine({\"start\": {\"x\": 3.85, \"y\": 3.85, \"z\": 3.72}, \"end\": {\"x\": 3.85, \"y\": 3.85, \"z\": 7.44}, \"color\": \"grey\"});\n\tviewer_17386573730183723.addLine({\"start\": {\"x\": 3.85, \"y\": 0.0, \"z\": 7.44}, \"end\": {\"x\": 7.7, \"y\": 0.0, \"z\": 7.44}, \"color\": \"grey\"});\n\tviewer_17386573730183723.addLine({\"start\": {\"x\": 3.85, \"y\": 0.0, \"z\": 7.44}, \"end\": {\"x\": 3.85, \"y\": 3.85, \"z\": 7.44}, \"color\": \"grey\"});\n\tviewer_17386573730183723.addLine({\"start\": {\"x\": 7.7, \"y\": 3.85, \"z\": 3.72}, \"end\": {\"x\": 7.7, \"y\": 3.85, \"z\": 7.44}, \"color\": \"grey\"});\n\tviewer_17386573730183723.addLine({\"start\": {\"x\": 7.7, \"y\": 0.0, \"z\": 7.44}, \"end\": {\"x\": 7.7, \"y\": 3.85, \"z\": 7.44}, \"color\": \"grey\"});\n\tviewer_17386573730183723.addLine({\"start\": {\"x\": 3.85, \"y\": 3.85, \"z\": 7.44}, \"end\": {\"x\": 7.7, \"y\": 3.85, \"z\": 7.44}, \"color\": \"grey\"});\n\tviewer_17386573730183723.addLine({\"start\": {\"x\": 3.85, \"y\": 0.0, \"z\": 7.44}, \"end\": {\"x\": 7.7, \"y\": 0.0, \"z\": 7.44}, \"color\": \"grey\"});\n\tviewer_17386573730183723.addLine({\"start\": {\"x\": 3.85, \"y\": 0.0, \"z\": 7.44}, \"end\": {\"x\": 3.85, \"y\": 3.85, \"z\": 7.44}, \"color\": \"grey\"});\n\tviewer_17386573730183723.addLine({\"start\": {\"x\": 3.85, \"y\": 0.0, \"z\": 7.44}, \"end\": {\"x\": 3.85, \"y\": 0.0, \"z\": 11.16}, \"color\": \"grey\"});\n\tviewer_17386573730183723.addLine({\"start\": {\"x\": 7.7, \"y\": 0.0, \"z\": 7.44}, \"end\": {\"x\": 7.7, \"y\": 3.85, \"z\": 7.44}, \"color\": \"grey\"});\n\tviewer_17386573730183723.addLine({\"start\": {\"x\": 7.7, \"y\": 0.0, \"z\": 7.44}, \"end\": {\"x\": 7.7, \"y\": 0.0, \"z\": 11.16}, \"color\": \"grey\"});\n\tviewer_17386573730183723.addLine({\"start\": {\"x\": 3.85, \"y\": 3.85, \"z\": 7.44}, \"end\": {\"x\": 7.7, \"y\": 3.85, \"z\": 7.44}, \"color\": \"grey\"});\n\tviewer_17386573730183723.addLine({\"start\": {\"x\": 3.85, \"y\": 3.85, \"z\": 7.44}, \"end\": {\"x\": 3.85, \"y\": 3.85, \"z\": 11.16}, \"color\": \"grey\"});\n\tviewer_17386573730183723.addLine({\"start\": {\"x\": 3.85, \"y\": 0.0, \"z\": 11.16}, \"end\": {\"x\": 7.7, \"y\": 0.0, \"z\": 11.16}, \"color\": \"grey\"});\n\tviewer_17386573730183723.addLine({\"start\": {\"x\": 3.85, \"y\": 0.0, \"z\": 11.16}, \"end\": {\"x\": 3.85, \"y\": 3.85, \"z\": 11.16}, \"color\": \"grey\"});\n\tviewer_17386573730183723.addLine({\"start\": {\"x\": 7.7, \"y\": 3.85, \"z\": 7.44}, \"end\": {\"x\": 7.7, \"y\": 3.85, \"z\": 11.16}, \"color\": \"grey\"});\n\tviewer_17386573730183723.addLine({\"start\": {\"x\": 7.7, \"y\": 0.0, \"z\": 11.16}, \"end\": {\"x\": 7.7, \"y\": 3.85, \"z\": 11.16}, \"color\": \"grey\"});\n\tviewer_17386573730183723.addLine({\"start\": {\"x\": 3.85, \"y\": 3.85, \"z\": 11.16}, \"end\": {\"x\": 7.7, \"y\": 3.85, \"z\": 11.16}, \"color\": \"grey\"});\n\tviewer_17386573730183723.addLine({\"start\": {\"x\": 3.85, \"y\": 3.85, \"z\": 0.0}, \"end\": {\"x\": 7.7, \"y\": 3.85, \"z\": 0.0}, \"color\": \"grey\"});\n\tviewer_17386573730183723.addLine({\"start\": {\"x\": 3.85, \"y\": 3.85, \"z\": 0.0}, \"end\": {\"x\": 3.85, \"y\": 7.7, \"z\": 0.0}, \"color\": \"grey\"});\n\tviewer_17386573730183723.addLine({\"start\": {\"x\": 3.85, \"y\": 3.85, \"z\": 0.0}, \"end\": {\"x\": 3.85, \"y\": 3.85, \"z\": 3.72}, \"color\": \"grey\"});\n\tviewer_17386573730183723.addLine({\"start\": {\"x\": 7.7, \"y\": 3.85, \"z\": 0.0}, \"end\": {\"x\": 7.7, \"y\": 7.7, \"z\": 0.0}, \"color\": \"grey\"});\n\tviewer_17386573730183723.addLine({\"start\": {\"x\": 7.7, \"y\": 3.85, \"z\": 0.0}, \"end\": {\"x\": 7.7, \"y\": 3.85, \"z\": 3.72}, \"color\": \"grey\"});\n\tviewer_17386573730183723.addLine({\"start\": {\"x\": 3.85, \"y\": 7.7, \"z\": 0.0}, \"end\": {\"x\": 7.7, \"y\": 7.7, \"z\": 0.0}, \"color\": \"grey\"});\n\tviewer_17386573730183723.addLine({\"start\": {\"x\": 3.85, \"y\": 7.7, \"z\": 0.0}, \"end\": {\"x\": 3.85, \"y\": 7.7, \"z\": 3.72}, \"color\": \"grey\"});\n\tviewer_17386573730183723.addLine({\"start\": {\"x\": 3.85, \"y\": 3.85, \"z\": 3.72}, \"end\": {\"x\": 7.7, \"y\": 3.85, \"z\": 3.72}, \"color\": \"grey\"});\n\tviewer_17386573730183723.addLine({\"start\": {\"x\": 3.85, \"y\": 3.85, \"z\": 3.72}, \"end\": {\"x\": 3.85, \"y\": 7.7, \"z\": 3.72}, \"color\": \"grey\"});\n\tviewer_17386573730183723.addLine({\"start\": {\"x\": 7.7, \"y\": 7.7, \"z\": 0.0}, \"end\": {\"x\": 7.7, \"y\": 7.7, \"z\": 3.72}, \"color\": \"grey\"});\n\tviewer_17386573730183723.addLine({\"start\": {\"x\": 7.7, \"y\": 3.85, \"z\": 3.72}, \"end\": {\"x\": 7.7, \"y\": 7.7, \"z\": 3.72}, \"color\": \"grey\"});\n\tviewer_17386573730183723.addLine({\"start\": {\"x\": 3.85, \"y\": 7.7, \"z\": 3.72}, \"end\": {\"x\": 7.7, \"y\": 7.7, \"z\": 3.72}, \"color\": \"grey\"});\n\tviewer_17386573730183723.addLine({\"start\": {\"x\": 3.85, \"y\": 3.85, \"z\": 3.72}, \"end\": {\"x\": 7.7, \"y\": 3.85, \"z\": 3.72}, \"color\": \"grey\"});\n\tviewer_17386573730183723.addLine({\"start\": {\"x\": 3.85, \"y\": 3.85, \"z\": 3.72}, \"end\": {\"x\": 3.85, \"y\": 7.7, \"z\": 3.72}, \"color\": \"grey\"});\n\tviewer_17386573730183723.addLine({\"start\": {\"x\": 3.85, \"y\": 3.85, \"z\": 3.72}, \"end\": {\"x\": 3.85, \"y\": 3.85, \"z\": 7.44}, \"color\": \"grey\"});\n\tviewer_17386573730183723.addLine({\"start\": {\"x\": 7.7, \"y\": 3.85, \"z\": 3.72}, \"end\": {\"x\": 7.7, \"y\": 7.7, \"z\": 3.72}, \"color\": \"grey\"});\n\tviewer_17386573730183723.addLine({\"start\": {\"x\": 7.7, \"y\": 3.85, \"z\": 3.72}, \"end\": {\"x\": 7.7, \"y\": 3.85, \"z\": 7.44}, \"color\": \"grey\"});\n\tviewer_17386573730183723.addLine({\"start\": {\"x\": 3.85, \"y\": 7.7, \"z\": 3.72}, \"end\": {\"x\": 7.7, \"y\": 7.7, \"z\": 3.72}, \"color\": \"grey\"});\n\tviewer_17386573730183723.addLine({\"start\": {\"x\": 3.85, \"y\": 7.7, \"z\": 3.72}, \"end\": {\"x\": 3.85, \"y\": 7.7, \"z\": 7.44}, \"color\": \"grey\"});\n\tviewer_17386573730183723.addLine({\"start\": {\"x\": 3.85, \"y\": 3.85, \"z\": 7.44}, \"end\": {\"x\": 7.7, \"y\": 3.85, \"z\": 7.44}, \"color\": \"grey\"});\n\tviewer_17386573730183723.addLine({\"start\": {\"x\": 3.85, \"y\": 3.85, \"z\": 7.44}, \"end\": {\"x\": 3.85, \"y\": 7.7, \"z\": 7.44}, \"color\": \"grey\"});\n\tviewer_17386573730183723.addLine({\"start\": {\"x\": 7.7, \"y\": 7.7, \"z\": 3.72}, \"end\": {\"x\": 7.7, \"y\": 7.7, \"z\": 7.44}, \"color\": \"grey\"});\n\tviewer_17386573730183723.addLine({\"start\": {\"x\": 7.7, \"y\": 3.85, \"z\": 7.44}, \"end\": {\"x\": 7.7, \"y\": 7.7, \"z\": 7.44}, \"color\": \"grey\"});\n\tviewer_17386573730183723.addLine({\"start\": {\"x\": 3.85, \"y\": 7.7, \"z\": 7.44}, \"end\": {\"x\": 7.7, \"y\": 7.7, \"z\": 7.44}, \"color\": \"grey\"});\n\tviewer_17386573730183723.addLine({\"start\": {\"x\": 3.85, \"y\": 3.85, \"z\": 7.44}, \"end\": {\"x\": 7.7, \"y\": 3.85, \"z\": 7.44}, \"color\": \"grey\"});\n\tviewer_17386573730183723.addLine({\"start\": {\"x\": 3.85, \"y\": 3.85, \"z\": 7.44}, \"end\": {\"x\": 3.85, \"y\": 7.7, \"z\": 7.44}, \"color\": \"grey\"});\n\tviewer_17386573730183723.addLine({\"start\": {\"x\": 3.85, \"y\": 3.85, \"z\": 7.44}, \"end\": {\"x\": 3.85, \"y\": 3.85, \"z\": 11.16}, \"color\": \"grey\"});\n\tviewer_17386573730183723.addLine({\"start\": {\"x\": 7.7, \"y\": 3.85, \"z\": 7.44}, \"end\": {\"x\": 7.7, \"y\": 7.7, \"z\": 7.44}, \"color\": \"grey\"});\n\tviewer_17386573730183723.addLine({\"start\": {\"x\": 7.7, \"y\": 3.85, \"z\": 7.44}, \"end\": {\"x\": 7.7, \"y\": 3.85, \"z\": 11.16}, \"color\": \"grey\"});\n\tviewer_17386573730183723.addLine({\"start\": {\"x\": 3.85, \"y\": 7.7, \"z\": 7.44}, \"end\": {\"x\": 7.7, \"y\": 7.7, \"z\": 7.44}, \"color\": \"grey\"});\n\tviewer_17386573730183723.addLine({\"start\": {\"x\": 3.85, \"y\": 7.7, \"z\": 7.44}, \"end\": {\"x\": 3.85, \"y\": 7.7, \"z\": 11.16}, \"color\": \"grey\"});\n\tviewer_17386573730183723.addLine({\"start\": {\"x\": 3.85, \"y\": 3.85, \"z\": 11.16}, \"end\": {\"x\": 7.7, \"y\": 3.85, \"z\": 11.16}, \"color\": \"grey\"});\n\tviewer_17386573730183723.addLine({\"start\": {\"x\": 3.85, \"y\": 3.85, \"z\": 11.16}, \"end\": {\"x\": 3.85, \"y\": 7.7, \"z\": 11.16}, \"color\": \"grey\"});\n\tviewer_17386573730183723.addLine({\"start\": {\"x\": 7.7, \"y\": 7.7, \"z\": 7.44}, \"end\": {\"x\": 7.7, \"y\": 7.7, \"z\": 11.16}, \"color\": \"grey\"});\n\tviewer_17386573730183723.addLine({\"start\": {\"x\": 7.7, \"y\": 3.85, \"z\": 11.16}, \"end\": {\"x\": 7.7, \"y\": 7.7, \"z\": 11.16}, \"color\": \"grey\"});\n\tviewer_17386573730183723.addLine({\"start\": {\"x\": 3.85, \"y\": 7.7, \"z\": 11.16}, \"end\": {\"x\": 7.7, \"y\": 7.7, \"z\": 11.16}, \"color\": \"grey\"});\n\tviewer_17386573730183723.addLine({\"start\": {\"x\": 3.85, \"y\": 7.7, \"z\": 0.0}, \"end\": {\"x\": 7.7, \"y\": 7.7, \"z\": 0.0}, \"color\": \"grey\"});\n\tviewer_17386573730183723.addLine({\"start\": {\"x\": 3.85, \"y\": 7.7, \"z\": 0.0}, \"end\": {\"x\": 3.85, \"y\": 11.55, \"z\": 0.0}, \"color\": \"grey\"});\n\tviewer_17386573730183723.addLine({\"start\": {\"x\": 3.85, \"y\": 7.7, \"z\": 0.0}, \"end\": {\"x\": 3.85, \"y\": 7.7, \"z\": 3.72}, \"color\": \"grey\"});\n\tviewer_17386573730183723.addLine({\"start\": {\"x\": 7.7, \"y\": 7.7, \"z\": 0.0}, \"end\": {\"x\": 7.7, \"y\": 11.55, \"z\": 0.0}, \"color\": \"grey\"});\n\tviewer_17386573730183723.addLine({\"start\": {\"x\": 7.7, \"y\": 7.7, \"z\": 0.0}, \"end\": {\"x\": 7.7, \"y\": 7.7, \"z\": 3.72}, \"color\": \"grey\"});\n\tviewer_17386573730183723.addLine({\"start\": {\"x\": 3.85, \"y\": 11.55, \"z\": 0.0}, \"end\": {\"x\": 7.7, \"y\": 11.55, \"z\": 0.0}, \"color\": \"grey\"});\n\tviewer_17386573730183723.addLine({\"start\": {\"x\": 3.85, \"y\": 11.55, \"z\": 0.0}, \"end\": {\"x\": 3.85, \"y\": 11.55, \"z\": 3.72}, \"color\": \"grey\"});\n\tviewer_17386573730183723.addLine({\"start\": {\"x\": 3.85, \"y\": 7.7, \"z\": 3.72}, \"end\": {\"x\": 7.7, \"y\": 7.7, \"z\": 3.72}, \"color\": \"grey\"});\n\tviewer_17386573730183723.addLine({\"start\": {\"x\": 3.85, \"y\": 7.7, \"z\": 3.72}, \"end\": {\"x\": 3.85, \"y\": 11.55, \"z\": 3.72}, \"color\": \"grey\"});\n\tviewer_17386573730183723.addLine({\"start\": {\"x\": 7.7, \"y\": 11.55, \"z\": 0.0}, \"end\": {\"x\": 7.7, \"y\": 11.55, \"z\": 3.72}, \"color\": \"grey\"});\n\tviewer_17386573730183723.addLine({\"start\": {\"x\": 7.7, \"y\": 7.7, \"z\": 3.72}, \"end\": {\"x\": 7.7, \"y\": 11.55, \"z\": 3.72}, \"color\": \"grey\"});\n\tviewer_17386573730183723.addLine({\"start\": {\"x\": 3.85, \"y\": 11.55, \"z\": 3.72}, \"end\": {\"x\": 7.7, \"y\": 11.55, \"z\": 3.72}, \"color\": \"grey\"});\n\tviewer_17386573730183723.addLine({\"start\": {\"x\": 3.85, \"y\": 7.7, \"z\": 3.72}, \"end\": {\"x\": 7.7, \"y\": 7.7, \"z\": 3.72}, \"color\": \"grey\"});\n\tviewer_17386573730183723.addLine({\"start\": {\"x\": 3.85, \"y\": 7.7, \"z\": 3.72}, \"end\": {\"x\": 3.85, \"y\": 11.55, \"z\": 3.72}, \"color\": \"grey\"});\n\tviewer_17386573730183723.addLine({\"start\": {\"x\": 3.85, \"y\": 7.7, \"z\": 3.72}, \"end\": {\"x\": 3.85, \"y\": 7.7, \"z\": 7.44}, \"color\": \"grey\"});\n\tviewer_17386573730183723.addLine({\"start\": {\"x\": 7.7, \"y\": 7.7, \"z\": 3.72}, \"end\": {\"x\": 7.7, \"y\": 11.55, \"z\": 3.72}, \"color\": \"grey\"});\n\tviewer_17386573730183723.addLine({\"start\": {\"x\": 7.7, \"y\": 7.7, \"z\": 3.72}, \"end\": {\"x\": 7.7, \"y\": 7.7, \"z\": 7.44}, \"color\": \"grey\"});\n\tviewer_17386573730183723.addLine({\"start\": {\"x\": 3.85, \"y\": 11.55, \"z\": 3.72}, \"end\": {\"x\": 7.7, \"y\": 11.55, \"z\": 3.72}, \"color\": \"grey\"});\n\tviewer_17386573730183723.addLine({\"start\": {\"x\": 3.85, \"y\": 11.55, \"z\": 3.72}, \"end\": {\"x\": 3.85, \"y\": 11.55, \"z\": 7.44}, \"color\": \"grey\"});\n\tviewer_17386573730183723.addLine({\"start\": {\"x\": 3.85, \"y\": 7.7, \"z\": 7.44}, \"end\": {\"x\": 7.7, \"y\": 7.7, \"z\": 7.44}, \"color\": \"grey\"});\n\tviewer_17386573730183723.addLine({\"start\": {\"x\": 3.85, \"y\": 7.7, \"z\": 7.44}, \"end\": {\"x\": 3.85, \"y\": 11.55, \"z\": 7.44}, \"color\": \"grey\"});\n\tviewer_17386573730183723.addLine({\"start\": {\"x\": 7.7, \"y\": 11.55, \"z\": 3.72}, \"end\": {\"x\": 7.7, \"y\": 11.55, \"z\": 7.44}, \"color\": \"grey\"});\n\tviewer_17386573730183723.addLine({\"start\": {\"x\": 7.7, \"y\": 7.7, \"z\": 7.44}, \"end\": {\"x\": 7.7, \"y\": 11.55, \"z\": 7.44}, \"color\": \"grey\"});\n\tviewer_17386573730183723.addLine({\"start\": {\"x\": 3.85, \"y\": 11.55, \"z\": 7.44}, \"end\": {\"x\": 7.7, \"y\": 11.55, \"z\": 7.44}, \"color\": \"grey\"});\n\tviewer_17386573730183723.addLine({\"start\": {\"x\": 3.85, \"y\": 7.7, \"z\": 7.44}, \"end\": {\"x\": 7.7, \"y\": 7.7, \"z\": 7.44}, \"color\": \"grey\"});\n\tviewer_17386573730183723.addLine({\"start\": {\"x\": 3.85, \"y\": 7.7, \"z\": 7.44}, \"end\": {\"x\": 3.85, \"y\": 11.55, \"z\": 7.44}, \"color\": \"grey\"});\n\tviewer_17386573730183723.addLine({\"start\": {\"x\": 3.85, \"y\": 7.7, \"z\": 7.44}, \"end\": {\"x\": 3.85, \"y\": 7.7, \"z\": 11.16}, \"color\": \"grey\"});\n\tviewer_17386573730183723.addLine({\"start\": {\"x\": 7.7, \"y\": 7.7, \"z\": 7.44}, \"end\": {\"x\": 7.7, \"y\": 11.55, \"z\": 7.44}, \"color\": \"grey\"});\n\tviewer_17386573730183723.addLine({\"start\": {\"x\": 7.7, \"y\": 7.7, \"z\": 7.44}, \"end\": {\"x\": 7.7, \"y\": 7.7, \"z\": 11.16}, \"color\": \"grey\"});\n\tviewer_17386573730183723.addLine({\"start\": {\"x\": 3.85, \"y\": 11.55, \"z\": 7.44}, \"end\": {\"x\": 7.7, \"y\": 11.55, \"z\": 7.44}, \"color\": \"grey\"});\n\tviewer_17386573730183723.addLine({\"start\": {\"x\": 3.85, \"y\": 11.55, \"z\": 7.44}, \"end\": {\"x\": 3.85, \"y\": 11.55, \"z\": 11.16}, \"color\": \"grey\"});\n\tviewer_17386573730183723.addLine({\"start\": {\"x\": 3.85, \"y\": 7.7, \"z\": 11.16}, \"end\": {\"x\": 7.7, \"y\": 7.7, \"z\": 11.16}, \"color\": \"grey\"});\n\tviewer_17386573730183723.addLine({\"start\": {\"x\": 3.85, \"y\": 7.7, \"z\": 11.16}, \"end\": {\"x\": 3.85, \"y\": 11.55, \"z\": 11.16}, \"color\": \"grey\"});\n\tviewer_17386573730183723.addLine({\"start\": {\"x\": 7.7, \"y\": 11.55, \"z\": 7.44}, \"end\": {\"x\": 7.7, \"y\": 11.55, \"z\": 11.16}, \"color\": \"grey\"});\n\tviewer_17386573730183723.addLine({\"start\": {\"x\": 7.7, \"y\": 7.7, \"z\": 11.16}, \"end\": {\"x\": 7.7, \"y\": 11.55, \"z\": 11.16}, \"color\": \"grey\"});\n\tviewer_17386573730183723.addLine({\"start\": {\"x\": 3.85, \"y\": 11.55, \"z\": 11.16}, \"end\": {\"x\": 7.7, \"y\": 11.55, \"z\": 11.16}, \"color\": \"grey\"});\n\tviewer_17386573730183723.addLine({\"start\": {\"x\": 7.7, \"y\": 0.0, \"z\": 0.0}, \"end\": {\"x\": 11.55, \"y\": 0.0, \"z\": 0.0}, \"color\": \"grey\"});\n\tviewer_17386573730183723.addLine({\"start\": {\"x\": 7.7, \"y\": 0.0, \"z\": 0.0}, \"end\": {\"x\": 7.7, \"y\": 3.85, \"z\": 0.0}, \"color\": \"grey\"});\n\tviewer_17386573730183723.addLine({\"start\": {\"x\": 7.7, \"y\": 0.0, \"z\": 0.0}, \"end\": {\"x\": 7.7, \"y\": 0.0, \"z\": 3.72}, \"color\": \"grey\"});\n\tviewer_17386573730183723.addLine({\"start\": {\"x\": 11.55, \"y\": 0.0, \"z\": 0.0}, \"end\": {\"x\": 11.55, \"y\": 3.85, \"z\": 0.0}, \"color\": \"grey\"});\n\tviewer_17386573730183723.addLine({\"start\": {\"x\": 11.55, \"y\": 0.0, \"z\": 0.0}, \"end\": {\"x\": 11.55, \"y\": 0.0, \"z\": 3.72}, \"color\": \"grey\"});\n\tviewer_17386573730183723.addLine({\"start\": {\"x\": 7.7, \"y\": 3.85, \"z\": 0.0}, \"end\": {\"x\": 11.55, \"y\": 3.85, \"z\": 0.0}, \"color\": \"grey\"});\n\tviewer_17386573730183723.addLine({\"start\": {\"x\": 7.7, \"y\": 3.85, \"z\": 0.0}, \"end\": {\"x\": 7.7, \"y\": 3.85, \"z\": 3.72}, \"color\": \"grey\"});\n\tviewer_17386573730183723.addLine({\"start\": {\"x\": 7.7, \"y\": 0.0, \"z\": 3.72}, \"end\": {\"x\": 11.55, \"y\": 0.0, \"z\": 3.72}, \"color\": \"grey\"});\n\tviewer_17386573730183723.addLine({\"start\": {\"x\": 7.7, \"y\": 0.0, \"z\": 3.72}, \"end\": {\"x\": 7.7, \"y\": 3.85, \"z\": 3.72}, \"color\": \"grey\"});\n\tviewer_17386573730183723.addLine({\"start\": {\"x\": 11.55, \"y\": 3.85, \"z\": 0.0}, \"end\": {\"x\": 11.55, \"y\": 3.85, \"z\": 3.72}, \"color\": \"grey\"});\n\tviewer_17386573730183723.addLine({\"start\": {\"x\": 11.55, \"y\": 0.0, \"z\": 3.72}, \"end\": {\"x\": 11.55, \"y\": 3.85, \"z\": 3.72}, \"color\": \"grey\"});\n\tviewer_17386573730183723.addLine({\"start\": {\"x\": 7.7, \"y\": 3.85, \"z\": 3.72}, \"end\": {\"x\": 11.55, \"y\": 3.85, \"z\": 3.72}, \"color\": \"grey\"});\n\tviewer_17386573730183723.addLine({\"start\": {\"x\": 7.7, \"y\": 0.0, \"z\": 3.72}, \"end\": {\"x\": 11.55, \"y\": 0.0, \"z\": 3.72}, \"color\": \"grey\"});\n\tviewer_17386573730183723.addLine({\"start\": {\"x\": 7.7, \"y\": 0.0, \"z\": 3.72}, \"end\": {\"x\": 7.7, \"y\": 3.85, \"z\": 3.72}, \"color\": \"grey\"});\n\tviewer_17386573730183723.addLine({\"start\": {\"x\": 7.7, \"y\": 0.0, \"z\": 3.72}, \"end\": {\"x\": 7.7, \"y\": 0.0, \"z\": 7.44}, \"color\": \"grey\"});\n\tviewer_17386573730183723.addLine({\"start\": {\"x\": 11.55, \"y\": 0.0, \"z\": 3.72}, \"end\": {\"x\": 11.55, \"y\": 3.85, \"z\": 3.72}, \"color\": \"grey\"});\n\tviewer_17386573730183723.addLine({\"start\": {\"x\": 11.55, \"y\": 0.0, \"z\": 3.72}, \"end\": {\"x\": 11.55, \"y\": 0.0, \"z\": 7.44}, \"color\": \"grey\"});\n\tviewer_17386573730183723.addLine({\"start\": {\"x\": 7.7, \"y\": 3.85, \"z\": 3.72}, \"end\": {\"x\": 11.55, \"y\": 3.85, \"z\": 3.72}, \"color\": \"grey\"});\n\tviewer_17386573730183723.addLine({\"start\": {\"x\": 7.7, \"y\": 3.85, \"z\": 3.72}, \"end\": {\"x\": 7.7, \"y\": 3.85, \"z\": 7.44}, \"color\": \"grey\"});\n\tviewer_17386573730183723.addLine({\"start\": {\"x\": 7.7, \"y\": 0.0, \"z\": 7.44}, \"end\": {\"x\": 11.55, \"y\": 0.0, \"z\": 7.44}, \"color\": \"grey\"});\n\tviewer_17386573730183723.addLine({\"start\": {\"x\": 7.7, \"y\": 0.0, \"z\": 7.44}, \"end\": {\"x\": 7.7, \"y\": 3.85, \"z\": 7.44}, \"color\": \"grey\"});\n\tviewer_17386573730183723.addLine({\"start\": {\"x\": 11.55, \"y\": 3.85, \"z\": 3.72}, \"end\": {\"x\": 11.55, \"y\": 3.85, \"z\": 7.44}, \"color\": \"grey\"});\n\tviewer_17386573730183723.addLine({\"start\": {\"x\": 11.55, \"y\": 0.0, \"z\": 7.44}, \"end\": {\"x\": 11.55, \"y\": 3.85, \"z\": 7.44}, \"color\": \"grey\"});\n\tviewer_17386573730183723.addLine({\"start\": {\"x\": 7.7, \"y\": 3.85, \"z\": 7.44}, \"end\": {\"x\": 11.55, \"y\": 3.85, \"z\": 7.44}, \"color\": \"grey\"});\n\tviewer_17386573730183723.addLine({\"start\": {\"x\": 7.7, \"y\": 0.0, \"z\": 7.44}, \"end\": {\"x\": 11.55, \"y\": 0.0, \"z\": 7.44}, \"color\": \"grey\"});\n\tviewer_17386573730183723.addLine({\"start\": {\"x\": 7.7, \"y\": 0.0, \"z\": 7.44}, \"end\": {\"x\": 7.7, \"y\": 3.85, \"z\": 7.44}, \"color\": \"grey\"});\n\tviewer_17386573730183723.addLine({\"start\": {\"x\": 7.7, \"y\": 0.0, \"z\": 7.44}, \"end\": {\"x\": 7.7, \"y\": 0.0, \"z\": 11.16}, \"color\": \"grey\"});\n\tviewer_17386573730183723.addLine({\"start\": {\"x\": 11.55, \"y\": 0.0, \"z\": 7.44}, \"end\": {\"x\": 11.55, \"y\": 3.85, \"z\": 7.44}, \"color\": \"grey\"});\n\tviewer_17386573730183723.addLine({\"start\": {\"x\": 11.55, \"y\": 0.0, \"z\": 7.44}, \"end\": {\"x\": 11.55, \"y\": 0.0, \"z\": 11.16}, \"color\": \"grey\"});\n\tviewer_17386573730183723.addLine({\"start\": {\"x\": 7.7, \"y\": 3.85, \"z\": 7.44}, \"end\": {\"x\": 11.55, \"y\": 3.85, \"z\": 7.44}, \"color\": \"grey\"});\n\tviewer_17386573730183723.addLine({\"start\": {\"x\": 7.7, \"y\": 3.85, \"z\": 7.44}, \"end\": {\"x\": 7.7, \"y\": 3.85, \"z\": 11.16}, \"color\": \"grey\"});\n\tviewer_17386573730183723.addLine({\"start\": {\"x\": 7.7, \"y\": 0.0, \"z\": 11.16}, \"end\": {\"x\": 11.55, \"y\": 0.0, \"z\": 11.16}, \"color\": \"grey\"});\n\tviewer_17386573730183723.addLine({\"start\": {\"x\": 7.7, \"y\": 0.0, \"z\": 11.16}, \"end\": {\"x\": 7.7, \"y\": 3.85, \"z\": 11.16}, \"color\": \"grey\"});\n\tviewer_17386573730183723.addLine({\"start\": {\"x\": 11.55, \"y\": 3.85, \"z\": 7.44}, \"end\": {\"x\": 11.55, \"y\": 3.85, \"z\": 11.16}, \"color\": \"grey\"});\n\tviewer_17386573730183723.addLine({\"start\": {\"x\": 11.55, \"y\": 0.0, \"z\": 11.16}, \"end\": {\"x\": 11.55, \"y\": 3.85, \"z\": 11.16}, \"color\": \"grey\"});\n\tviewer_17386573730183723.addLine({\"start\": {\"x\": 7.7, \"y\": 3.85, \"z\": 11.16}, \"end\": {\"x\": 11.55, \"y\": 3.85, \"z\": 11.16}, \"color\": \"grey\"});\n\tviewer_17386573730183723.addLine({\"start\": {\"x\": 7.7, \"y\": 3.85, \"z\": 0.0}, \"end\": {\"x\": 11.55, \"y\": 3.85, \"z\": 0.0}, \"color\": \"grey\"});\n\tviewer_17386573730183723.addLine({\"start\": {\"x\": 7.7, \"y\": 3.85, \"z\": 0.0}, \"end\": {\"x\": 7.7, \"y\": 7.7, \"z\": 0.0}, \"color\": \"grey\"});\n\tviewer_17386573730183723.addLine({\"start\": {\"x\": 7.7, \"y\": 3.85, \"z\": 0.0}, \"end\": {\"x\": 7.7, \"y\": 3.85, \"z\": 3.72}, \"color\": \"grey\"});\n\tviewer_17386573730183723.addLine({\"start\": {\"x\": 11.55, \"y\": 3.85, \"z\": 0.0}, \"end\": {\"x\": 11.55, \"y\": 7.7, \"z\": 0.0}, \"color\": \"grey\"});\n\tviewer_17386573730183723.addLine({\"start\": {\"x\": 11.55, \"y\": 3.85, \"z\": 0.0}, \"end\": {\"x\": 11.55, \"y\": 3.85, \"z\": 3.72}, \"color\": \"grey\"});\n\tviewer_17386573730183723.addLine({\"start\": {\"x\": 7.7, \"y\": 7.7, \"z\": 0.0}, \"end\": {\"x\": 11.55, \"y\": 7.7, \"z\": 0.0}, \"color\": \"grey\"});\n\tviewer_17386573730183723.addLine({\"start\": {\"x\": 7.7, \"y\": 7.7, \"z\": 0.0}, \"end\": {\"x\": 7.7, \"y\": 7.7, \"z\": 3.72}, \"color\": \"grey\"});\n\tviewer_17386573730183723.addLine({\"start\": {\"x\": 7.7, \"y\": 3.85, \"z\": 3.72}, \"end\": {\"x\": 11.55, \"y\": 3.85, \"z\": 3.72}, \"color\": \"grey\"});\n\tviewer_17386573730183723.addLine({\"start\": {\"x\": 7.7, \"y\": 3.85, \"z\": 3.72}, \"end\": {\"x\": 7.7, \"y\": 7.7, \"z\": 3.72}, \"color\": \"grey\"});\n\tviewer_17386573730183723.addLine({\"start\": {\"x\": 11.55, \"y\": 7.7, \"z\": 0.0}, \"end\": {\"x\": 11.55, \"y\": 7.7, \"z\": 3.72}, \"color\": \"grey\"});\n\tviewer_17386573730183723.addLine({\"start\": {\"x\": 11.55, \"y\": 3.85, \"z\": 3.72}, \"end\": {\"x\": 11.55, \"y\": 7.7, \"z\": 3.72}, \"color\": \"grey\"});\n\tviewer_17386573730183723.addLine({\"start\": {\"x\": 7.7, \"y\": 7.7, \"z\": 3.72}, \"end\": {\"x\": 11.55, \"y\": 7.7, \"z\": 3.72}, \"color\": \"grey\"});\n\tviewer_17386573730183723.addLine({\"start\": {\"x\": 7.7, \"y\": 3.85, \"z\": 3.72}, \"end\": {\"x\": 11.55, \"y\": 3.85, \"z\": 3.72}, \"color\": \"grey\"});\n\tviewer_17386573730183723.addLine({\"start\": {\"x\": 7.7, \"y\": 3.85, \"z\": 3.72}, \"end\": {\"x\": 7.7, \"y\": 7.7, \"z\": 3.72}, \"color\": \"grey\"});\n\tviewer_17386573730183723.addLine({\"start\": {\"x\": 7.7, \"y\": 3.85, \"z\": 3.72}, \"end\": {\"x\": 7.7, \"y\": 3.85, \"z\": 7.44}, \"color\": \"grey\"});\n\tviewer_17386573730183723.addLine({\"start\": {\"x\": 11.55, \"y\": 3.85, \"z\": 3.72}, \"end\": {\"x\": 11.55, \"y\": 7.7, \"z\": 3.72}, \"color\": \"grey\"});\n\tviewer_17386573730183723.addLine({\"start\": {\"x\": 11.55, \"y\": 3.85, \"z\": 3.72}, \"end\": {\"x\": 11.55, \"y\": 3.85, \"z\": 7.44}, \"color\": \"grey\"});\n\tviewer_17386573730183723.addLine({\"start\": {\"x\": 7.7, \"y\": 7.7, \"z\": 3.72}, \"end\": {\"x\": 11.55, \"y\": 7.7, \"z\": 3.72}, \"color\": \"grey\"});\n\tviewer_17386573730183723.addLine({\"start\": {\"x\": 7.7, \"y\": 7.7, \"z\": 3.72}, \"end\": {\"x\": 7.7, \"y\": 7.7, \"z\": 7.44}, \"color\": \"grey\"});\n\tviewer_17386573730183723.addLine({\"start\": {\"x\": 7.7, \"y\": 3.85, \"z\": 7.44}, \"end\": {\"x\": 11.55, \"y\": 3.85, \"z\": 7.44}, \"color\": \"grey\"});\n\tviewer_17386573730183723.addLine({\"start\": {\"x\": 7.7, \"y\": 3.85, \"z\": 7.44}, \"end\": {\"x\": 7.7, \"y\": 7.7, \"z\": 7.44}, \"color\": \"grey\"});\n\tviewer_17386573730183723.addLine({\"start\": {\"x\": 11.55, \"y\": 7.7, \"z\": 3.72}, \"end\": {\"x\": 11.55, \"y\": 7.7, \"z\": 7.44}, \"color\": \"grey\"});\n\tviewer_17386573730183723.addLine({\"start\": {\"x\": 11.55, \"y\": 3.85, \"z\": 7.44}, \"end\": {\"x\": 11.55, \"y\": 7.7, \"z\": 7.44}, \"color\": \"grey\"});\n\tviewer_17386573730183723.addLine({\"start\": {\"x\": 7.7, \"y\": 7.7, \"z\": 7.44}, \"end\": {\"x\": 11.55, \"y\": 7.7, \"z\": 7.44}, \"color\": \"grey\"});\n\tviewer_17386573730183723.addLine({\"start\": {\"x\": 7.7, \"y\": 3.85, \"z\": 7.44}, \"end\": {\"x\": 11.55, \"y\": 3.85, \"z\": 7.44}, \"color\": \"grey\"});\n\tviewer_17386573730183723.addLine({\"start\": {\"x\": 7.7, \"y\": 3.85, \"z\": 7.44}, \"end\": {\"x\": 7.7, \"y\": 7.7, \"z\": 7.44}, \"color\": \"grey\"});\n\tviewer_17386573730183723.addLine({\"start\": {\"x\": 7.7, \"y\": 3.85, \"z\": 7.44}, \"end\": {\"x\": 7.7, \"y\": 3.85, \"z\": 11.16}, \"color\": \"grey\"});\n\tviewer_17386573730183723.addLine({\"start\": {\"x\": 11.55, \"y\": 3.85, \"z\": 7.44}, \"end\": {\"x\": 11.55, \"y\": 7.7, \"z\": 7.44}, \"color\": \"grey\"});\n\tviewer_17386573730183723.addLine({\"start\": {\"x\": 11.55, \"y\": 3.85, \"z\": 7.44}, \"end\": {\"x\": 11.55, \"y\": 3.85, \"z\": 11.16}, \"color\": \"grey\"});\n\tviewer_17386573730183723.addLine({\"start\": {\"x\": 7.7, \"y\": 7.7, \"z\": 7.44}, \"end\": {\"x\": 11.55, \"y\": 7.7, \"z\": 7.44}, \"color\": \"grey\"});\n\tviewer_17386573730183723.addLine({\"start\": {\"x\": 7.7, \"y\": 7.7, \"z\": 7.44}, \"end\": {\"x\": 7.7, \"y\": 7.7, \"z\": 11.16}, \"color\": \"grey\"});\n\tviewer_17386573730183723.addLine({\"start\": {\"x\": 7.7, \"y\": 3.85, \"z\": 11.16}, \"end\": {\"x\": 11.55, \"y\": 3.85, \"z\": 11.16}, \"color\": \"grey\"});\n\tviewer_17386573730183723.addLine({\"start\": {\"x\": 7.7, \"y\": 3.85, \"z\": 11.16}, \"end\": {\"x\": 7.7, \"y\": 7.7, \"z\": 11.16}, \"color\": \"grey\"});\n\tviewer_17386573730183723.addLine({\"start\": {\"x\": 11.55, \"y\": 7.7, \"z\": 7.44}, \"end\": {\"x\": 11.55, \"y\": 7.7, \"z\": 11.16}, \"color\": \"grey\"});\n\tviewer_17386573730183723.addLine({\"start\": {\"x\": 11.55, \"y\": 3.85, \"z\": 11.16}, \"end\": {\"x\": 11.55, \"y\": 7.7, \"z\": 11.16}, \"color\": \"grey\"});\n\tviewer_17386573730183723.addLine({\"start\": {\"x\": 7.7, \"y\": 7.7, \"z\": 11.16}, \"end\": {\"x\": 11.55, \"y\": 7.7, \"z\": 11.16}, \"color\": \"grey\"});\n\tviewer_17386573730183723.addLine({\"start\": {\"x\": 7.7, \"y\": 7.7, \"z\": 0.0}, \"end\": {\"x\": 11.55, \"y\": 7.7, \"z\": 0.0}, \"color\": \"grey\"});\n\tviewer_17386573730183723.addLine({\"start\": {\"x\": 7.7, \"y\": 7.7, \"z\": 0.0}, \"end\": {\"x\": 7.7, \"y\": 11.55, \"z\": 0.0}, \"color\": \"grey\"});\n\tviewer_17386573730183723.addLine({\"start\": {\"x\": 7.7, \"y\": 7.7, \"z\": 0.0}, \"end\": {\"x\": 7.7, \"y\": 7.7, \"z\": 3.72}, \"color\": \"grey\"});\n\tviewer_17386573730183723.addLine({\"start\": {\"x\": 11.55, \"y\": 7.7, \"z\": 0.0}, \"end\": {\"x\": 11.55, \"y\": 11.55, \"z\": 0.0}, \"color\": \"grey\"});\n\tviewer_17386573730183723.addLine({\"start\": {\"x\": 11.55, \"y\": 7.7, \"z\": 0.0}, \"end\": {\"x\": 11.55, \"y\": 7.7, \"z\": 3.72}, \"color\": \"grey\"});\n\tviewer_17386573730183723.addLine({\"start\": {\"x\": 7.7, \"y\": 11.55, \"z\": 0.0}, \"end\": {\"x\": 11.55, \"y\": 11.55, \"z\": 0.0}, \"color\": \"grey\"});\n\tviewer_17386573730183723.addLine({\"start\": {\"x\": 7.7, \"y\": 11.55, \"z\": 0.0}, \"end\": {\"x\": 7.7, \"y\": 11.55, \"z\": 3.72}, \"color\": \"grey\"});\n\tviewer_17386573730183723.addLine({\"start\": {\"x\": 7.7, \"y\": 7.7, \"z\": 3.72}, \"end\": {\"x\": 11.55, \"y\": 7.7, \"z\": 3.72}, \"color\": \"grey\"});\n\tviewer_17386573730183723.addLine({\"start\": {\"x\": 7.7, \"y\": 7.7, \"z\": 3.72}, \"end\": {\"x\": 7.7, \"y\": 11.55, \"z\": 3.72}, \"color\": \"grey\"});\n\tviewer_17386573730183723.addLine({\"start\": {\"x\": 11.55, \"y\": 11.55, \"z\": 0.0}, \"end\": {\"x\": 11.55, \"y\": 11.55, \"z\": 3.72}, \"color\": \"grey\"});\n\tviewer_17386573730183723.addLine({\"start\": {\"x\": 11.55, \"y\": 7.7, \"z\": 3.72}, \"end\": {\"x\": 11.55, \"y\": 11.55, \"z\": 3.72}, \"color\": \"grey\"});\n\tviewer_17386573730183723.addLine({\"start\": {\"x\": 7.7, \"y\": 11.55, \"z\": 3.72}, \"end\": {\"x\": 11.55, \"y\": 11.55, \"z\": 3.72}, \"color\": \"grey\"});\n\tviewer_17386573730183723.addLine({\"start\": {\"x\": 7.7, \"y\": 7.7, \"z\": 3.72}, \"end\": {\"x\": 11.55, \"y\": 7.7, \"z\": 3.72}, \"color\": \"grey\"});\n\tviewer_17386573730183723.addLine({\"start\": {\"x\": 7.7, \"y\": 7.7, \"z\": 3.72}, \"end\": {\"x\": 7.7, \"y\": 11.55, \"z\": 3.72}, \"color\": \"grey\"});\n\tviewer_17386573730183723.addLine({\"start\": {\"x\": 7.7, \"y\": 7.7, \"z\": 3.72}, \"end\": {\"x\": 7.7, \"y\": 7.7, \"z\": 7.44}, \"color\": \"grey\"});\n\tviewer_17386573730183723.addLine({\"start\": {\"x\": 11.55, \"y\": 7.7, \"z\": 3.72}, \"end\": {\"x\": 11.55, \"y\": 11.55, \"z\": 3.72}, \"color\": \"grey\"});\n\tviewer_17386573730183723.addLine({\"start\": {\"x\": 11.55, \"y\": 7.7, \"z\": 3.72}, \"end\": {\"x\": 11.55, \"y\": 7.7, \"z\": 7.44}, \"color\": \"grey\"});\n\tviewer_17386573730183723.addLine({\"start\": {\"x\": 7.7, \"y\": 11.55, \"z\": 3.72}, \"end\": {\"x\": 11.55, \"y\": 11.55, \"z\": 3.72}, \"color\": \"grey\"});\n\tviewer_17386573730183723.addLine({\"start\": {\"x\": 7.7, \"y\": 11.55, \"z\": 3.72}, \"end\": {\"x\": 7.7, \"y\": 11.55, \"z\": 7.44}, \"color\": \"grey\"});\n\tviewer_17386573730183723.addLine({\"start\": {\"x\": 7.7, \"y\": 7.7, \"z\": 7.44}, \"end\": {\"x\": 11.55, \"y\": 7.7, \"z\": 7.44}, \"color\": \"grey\"});\n\tviewer_17386573730183723.addLine({\"start\": {\"x\": 7.7, \"y\": 7.7, \"z\": 7.44}, \"end\": {\"x\": 7.7, \"y\": 11.55, \"z\": 7.44}, \"color\": \"grey\"});\n\tviewer_17386573730183723.addLine({\"start\": {\"x\": 11.55, \"y\": 11.55, \"z\": 3.72}, \"end\": {\"x\": 11.55, \"y\": 11.55, \"z\": 7.44}, \"color\": \"grey\"});\n\tviewer_17386573730183723.addLine({\"start\": {\"x\": 11.55, \"y\": 7.7, \"z\": 7.44}, \"end\": {\"x\": 11.55, \"y\": 11.55, \"z\": 7.44}, \"color\": \"grey\"});\n\tviewer_17386573730183723.addLine({\"start\": {\"x\": 7.7, \"y\": 11.55, \"z\": 7.44}, \"end\": {\"x\": 11.55, \"y\": 11.55, \"z\": 7.44}, \"color\": \"grey\"});\n\tviewer_17386573730183723.addLine({\"start\": {\"x\": 7.7, \"y\": 7.7, \"z\": 7.44}, \"end\": {\"x\": 11.55, \"y\": 7.7, \"z\": 7.44}, \"color\": \"grey\"});\n\tviewer_17386573730183723.addLine({\"start\": {\"x\": 7.7, \"y\": 7.7, \"z\": 7.44}, \"end\": {\"x\": 7.7, \"y\": 11.55, \"z\": 7.44}, \"color\": \"grey\"});\n\tviewer_17386573730183723.addLine({\"start\": {\"x\": 7.7, \"y\": 7.7, \"z\": 7.44}, \"end\": {\"x\": 7.7, \"y\": 7.7, \"z\": 11.16}, \"color\": \"grey\"});\n\tviewer_17386573730183723.addLine({\"start\": {\"x\": 11.55, \"y\": 7.7, \"z\": 7.44}, \"end\": {\"x\": 11.55, \"y\": 11.55, \"z\": 7.44}, \"color\": \"grey\"});\n\tviewer_17386573730183723.addLine({\"start\": {\"x\": 11.55, \"y\": 7.7, \"z\": 7.44}, \"end\": {\"x\": 11.55, \"y\": 7.7, \"z\": 11.16}, \"color\": \"grey\"});\n\tviewer_17386573730183723.addLine({\"start\": {\"x\": 7.7, \"y\": 11.55, \"z\": 7.44}, \"end\": {\"x\": 11.55, \"y\": 11.55, \"z\": 7.44}, \"color\": \"grey\"});\n\tviewer_17386573730183723.addLine({\"start\": {\"x\": 7.7, \"y\": 11.55, \"z\": 7.44}, \"end\": {\"x\": 7.7, \"y\": 11.55, \"z\": 11.16}, \"color\": \"grey\"});\n\tviewer_17386573730183723.addLine({\"start\": {\"x\": 7.7, \"y\": 7.7, \"z\": 11.16}, \"end\": {\"x\": 11.55, \"y\": 7.7, \"z\": 11.16}, \"color\": \"grey\"});\n\tviewer_17386573730183723.addLine({\"start\": {\"x\": 7.7, \"y\": 7.7, \"z\": 11.16}, \"end\": {\"x\": 7.7, \"y\": 11.55, \"z\": 11.16}, \"color\": \"grey\"});\n\tviewer_17386573730183723.addLine({\"start\": {\"x\": 11.55, \"y\": 11.55, \"z\": 7.44}, \"end\": {\"x\": 11.55, \"y\": 11.55, \"z\": 11.16}, \"color\": \"grey\"});\n\tviewer_17386573730183723.addLine({\"start\": {\"x\": 11.55, \"y\": 7.7, \"z\": 11.16}, \"end\": {\"x\": 11.55, \"y\": 11.55, \"z\": 11.16}, \"color\": \"grey\"});\n\tviewer_17386573730183723.addLine({\"start\": {\"x\": 7.7, \"y\": 11.55, \"z\": 11.16}, \"end\": {\"x\": 11.55, \"y\": 11.55, \"z\": 11.16}, \"color\": \"grey\"});\n\tviewer_17386573730183723.addArrow({\"start\": {\"x\": -7, \"y\": 0, \"z\": 0}, \"end\": {\"x\": -3.15, \"y\": 0.0, \"z\": 0.0}, \"color\": \"red\", \"radius\": 0.1});\n\tviewer_17386573730183723.addLabel(\"a\",{\"position\": {\"x\": -3.1814999999999998, \"y\": 0.0, \"z\": 0.0}, \"fontSize\": 17, \"backgroundColor\": \"white\", \"fontColor\": \"red\"});\n\tviewer_17386573730183723.addArrow({\"start\": {\"x\": -7, \"y\": 0, \"z\": 0}, \"end\": {\"x\": -7.0, \"y\": 3.85, \"z\": 0.0}, \"color\": \"green\", \"radius\": 0.1});\n\tviewer_17386573730183723.addLabel(\"b\",{\"position\": {\"x\": -7.07, \"y\": 3.8885, \"z\": 0.0}, \"fontSize\": 17, \"backgroundColor\": \"white\", \"fontColor\": \"green\"});\n\tviewer_17386573730183723.addArrow({\"start\": {\"x\": -7, \"y\": 0, \"z\": 0}, \"end\": {\"x\": -7.0, \"y\": 0.0, \"z\": 3.72}, \"color\": \"blue\", \"radius\": 0.1});\n\tviewer_17386573730183723.addLabel(\"c\",{\"position\": {\"x\": -7.07, \"y\": 0.0, \"z\": 3.7572}, \"fontSize\": 17, \"backgroundColor\": \"white\", \"fontColor\": \"blue\"});\n\tviewer_17386573730183723.zoomTo();\nviewer_17386573730183723.render();\n});\n</script>",
      "text/html": [
       "<div id=\"3dmolviewer_17386573730183723\"  style=\"position: relative; width: 800px; height: 600px;\">\n",
       "        <p id=\"3dmolwarning_17386573730183723\" style=\"background-color:#ffcccc;color:black\">3Dmol.js failed to load for some reason.  Please check your browser console for error messages.<br></p>\n",
       "        </div>\n",
       "<script>\n",
       "\n",
       "var loadScriptAsync = function(uri){\n",
       "  return new Promise((resolve, reject) => {\n",
       "    //this is to ignore the existence of requirejs amd\n",
       "    var savedexports, savedmodule;\n",
       "    if (typeof exports !== 'undefined') savedexports = exports;\n",
       "    else exports = {}\n",
       "    if (typeof module !== 'undefined') savedmodule = module;\n",
       "    else module = {}\n",
       "\n",
       "    var tag = document.createElement('script');\n",
       "    tag.src = uri;\n",
       "    tag.async = true;\n",
       "    tag.onload = () => {\n",
       "        exports = savedexports;\n",
       "        module = savedmodule;\n",
       "        resolve();\n",
       "    };\n",
       "  var firstScriptTag = document.getElementsByTagName('script')[0];\n",
       "  firstScriptTag.parentNode.insertBefore(tag, firstScriptTag);\n",
       "});\n",
       "};\n",
       "\n",
       "if(typeof $3Dmolpromise === 'undefined') {\n",
       "$3Dmolpromise = null;\n",
       "  $3Dmolpromise = loadScriptAsync('https://cdnjs.cloudflare.com/ajax/libs/3Dmol/2.4.2/3Dmol-min.js');\n",
       "}\n",
       "\n",
       "var viewer_17386573730183723 = null;\n",
       "var warn = document.getElementById(\"3dmolwarning_17386573730183723\");\n",
       "if(warn) {\n",
       "    warn.parentNode.removeChild(warn);\n",
       "}\n",
       "$3Dmolpromise.then(function() {\n",
       "viewer_17386573730183723 = $3Dmol.createViewer(document.getElementById(\"3dmolviewer_17386573730183723\"),{backgroundColor:\"white\"});\n",
       "viewer_17386573730183723.zoomTo();\n",
       "\tviewer_17386573730183723.addModel(\"54\\nLattice=\\\"11.55 0.0 0.0 0.0 11.55 0.0 0.0 0.0 11.16\\\" Properties=species:S:1:pos:R:3:momenta:R:3 pbc=\\\"T T T\\\"\\nFe      -2.75081276      -0.49308007       0.03647099      -3.64888826       2.60107256       4.30632336\\nPt       2.71245126       2.06614970       1.84955971       3.64888846      -2.60107266      -4.30632341\\nFe      -2.75081276      -0.49308007       3.75647099      -3.64888826       2.60107256       4.30632336\\nPt       2.71245126       2.06614970       5.56955971       3.64888846      -2.60107266      -4.30632341\\nFe      -2.75081276      -0.49308007       7.47647099      -3.64888826       2.60107256       4.30632336\\nPt       2.71245126       2.06614970       9.28955971       3.64888846      -2.60107266      -4.30632341\\nFe      -2.75081276       3.35691993       0.03647099      -3.64888826       2.60107256       4.30632336\\nPt       2.71245126       5.91614970       1.84955971       3.64888846      -2.60107266      -4.30632341\\nFe      -2.75081276       3.35691993       3.75647099      -3.64888826       2.60107256       4.30632336\\nPt       2.71245126       5.91614970       5.56955971       3.64888846      -2.60107266      -4.30632341\\nFe      -2.75081276       3.35691993       7.47647099      -3.64888826       2.60107256       4.30632336\\nPt       2.71245126       5.91614970       9.28955971       3.64888846      -2.60107266      -4.30632341\\nFe      -2.75081276       7.20691993       0.03647099      -3.64888826       2.60107256       4.30632336\\nPt       2.71245126       9.76614970       1.84955971       3.64888846      -2.60107266      -4.30632341\\nFe      -2.75081276       7.20691993       3.75647099      -3.64888826       2.60107256       4.30632336\\nPt       2.71245126       9.76614970       5.56955971       3.64888846      -2.60107266      -4.30632341\\nFe      -2.75081276       7.20691993       7.47647099      -3.64888826       2.60107256       4.30632336\\nPt       2.71245126       9.76614970       9.28955971       3.64888846      -2.60107266      -4.30632341\\nFe       1.09918724      -0.49308007       0.03647099      -3.64888826       2.60107256       4.30632336\\nPt       6.56245126       2.06614970       1.84955971       3.64888846      -2.60107266      -4.30632341\\nFe       1.09918724      -0.49308007       3.75647099      -3.64888826       2.60107256       4.30632336\\nPt       6.56245126       2.06614970       5.56955971       3.64888846      -2.60107266      -4.30632341\\nFe       1.09918724      -0.49308007       7.47647099      -3.64888826       2.60107256       4.30632336\\nPt       6.56245126       2.06614970       9.28955971       3.64888846      -2.60107266      -4.30632341\\nFe       1.09918724       3.35691993       0.03647099      -3.64888826       2.60107256       4.30632336\\nPt       6.56245126       5.91614970       1.84955971       3.64888846      -2.60107266      -4.30632341\\nFe       1.09918724       3.35691993       3.75647099      -3.64888826       2.60107256       4.30632336\\nPt       6.56245126       5.91614970       5.56955971       3.64888846      -2.60107266      -4.30632341\\nFe       1.09918724       3.35691993       7.47647099      -3.64888826       2.60107256       4.30632336\\nPt       6.56245126       5.91614970       9.28955971       3.64888846      -2.60107266      -4.30632341\\nFe       1.09918724       7.20691993       0.03647099      -3.64888826       2.60107256       4.30632336\\nPt       6.56245126       9.76614970       1.84955971       3.64888846      -2.60107266      -4.30632341\\nFe       1.09918724       7.20691993       3.75647099      -3.64888826       2.60107256       4.30632336\\nPt       6.56245126       9.76614970       5.56955971       3.64888846      -2.60107266      -4.30632341\\nFe       1.09918724       7.20691993       7.47647099      -3.64888826       2.60107256       4.30632336\\nPt       6.56245126       9.76614970       9.28955971       3.64888846      -2.60107266      -4.30632341\\nFe       4.94918724      -0.49308007       0.03647099      -3.64888826       2.60107256       4.30632336\\nPt      10.41245126       2.06614970       1.84955971       3.64888846      -2.60107266      -4.30632341\\nFe       4.94918724      -0.49308007       3.75647099      -3.64888826       2.60107256       4.30632336\\nPt      10.41245126       2.06614970       5.56955971       3.64888846      -2.60107266      -4.30632341\\nFe       4.94918724      -0.49308007       7.47647099      -3.64888826       2.60107256       4.30632336\\nPt      10.41245126       2.06614970       9.28955971       3.64888846      -2.60107266      -4.30632341\\nFe       4.94918724       3.35691993       0.03647099      -3.64888826       2.60107256       4.30632336\\nPt      10.41245126       5.91614970       1.84955971       3.64888846      -2.60107266      -4.30632341\\nFe       4.94918724       3.35691993       3.75647099      -3.64888826       2.60107256       4.30632336\\nPt      10.41245126       5.91614970       5.56955971       3.64888846      -2.60107266      -4.30632341\\nFe       4.94918724       3.35691993       7.47647099      -3.64888826       2.60107256       4.30632336\\nPt      10.41245126       5.91614970       9.28955971       3.64888846      -2.60107266      -4.30632341\\nFe       4.94918724       7.20691993       0.03647099      -3.64888826       2.60107256       4.30632336\\nPt      10.41245126       9.76614970       1.84955971       3.64888846      -2.60107266      -4.30632341\\nFe       4.94918724       7.20691993       3.75647099      -3.64888826       2.60107256       4.30632336\\nPt      10.41245126       9.76614970       5.56955971       3.64888846      -2.60107266      -4.30632341\\nFe       4.94918724       7.20691993       7.47647099      -3.64888826       2.60107256       4.30632336\\nPt      10.41245126       9.76614970       9.28955971       3.64888846      -2.60107266      -4.30632341\\n\",\"xyz\");\n",
       "\tviewer_17386573730183723.setStyle({\"model\": 0, \"sphere\": {\"scale\": 0.14313065141169956}});\n",
       "\tviewer_17386573730183723.setStyle({\"model\": 1, \"sphere\": {\"scale\": 0.5}});\n",
       "\tviewer_17386573730183723.addLine({\"start\": {\"x\": 0, \"y\": 0, \"z\": 0}, \"end\": {\"x\": 3.85, \"y\": 0.0, \"z\": 0.0}, \"color\": \"black\"});\n",
       "\tviewer_17386573730183723.addLine({\"start\": {\"x\": 0, \"y\": 0, \"z\": 0}, \"end\": {\"x\": 0.0, \"y\": 3.85, \"z\": 0.0}, \"color\": \"black\"});\n",
       "\tviewer_17386573730183723.addLine({\"start\": {\"x\": 0, \"y\": 0, \"z\": 0}, \"end\": {\"x\": 0.0, \"y\": 0.0, \"z\": 3.72}, \"color\": \"black\"});\n",
       "\tviewer_17386573730183723.addLine({\"start\": {\"x\": 3.85, \"y\": 0.0, \"z\": 0.0}, \"end\": {\"x\": 3.85, \"y\": 3.85, \"z\": 0.0}, \"color\": \"black\"});\n",
       "\tviewer_17386573730183723.addLine({\"start\": {\"x\": 3.85, \"y\": 0.0, \"z\": 0.0}, \"end\": {\"x\": 3.85, \"y\": 0.0, \"z\": 3.72}, \"color\": \"black\"});\n",
       "\tviewer_17386573730183723.addLine({\"start\": {\"x\": 0.0, \"y\": 3.85, \"z\": 0.0}, \"end\": {\"x\": 3.85, \"y\": 3.85, \"z\": 0.0}, \"color\": \"black\"});\n",
       "\tviewer_17386573730183723.addLine({\"start\": {\"x\": 0.0, \"y\": 3.85, \"z\": 0.0}, \"end\": {\"x\": 0.0, \"y\": 3.85, \"z\": 3.72}, \"color\": \"black\"});\n",
       "\tviewer_17386573730183723.addLine({\"start\": {\"x\": 0.0, \"y\": 0.0, \"z\": 3.72}, \"end\": {\"x\": 3.85, \"y\": 0.0, \"z\": 3.72}, \"color\": \"black\"});\n",
       "\tviewer_17386573730183723.addLine({\"start\": {\"x\": 0.0, \"y\": 0.0, \"z\": 3.72}, \"end\": {\"x\": 0.0, \"y\": 3.85, \"z\": 3.72}, \"color\": \"black\"});\n",
       "\tviewer_17386573730183723.addLine({\"start\": {\"x\": 3.85, \"y\": 3.85, \"z\": 0.0}, \"end\": {\"x\": 3.85, \"y\": 3.85, \"z\": 3.72}, \"color\": \"black\"});\n",
       "\tviewer_17386573730183723.addLine({\"start\": {\"x\": 3.85, \"y\": 0.0, \"z\": 3.72}, \"end\": {\"x\": 3.85, \"y\": 3.85, \"z\": 3.72}, \"color\": \"black\"});\n",
       "\tviewer_17386573730183723.addLine({\"start\": {\"x\": 0.0, \"y\": 3.85, \"z\": 3.72}, \"end\": {\"x\": 3.85, \"y\": 3.85, \"z\": 3.72}, \"color\": \"black\"});\n",
       "\tviewer_17386573730183723.addLine({\"start\": {\"x\": 0.0, \"y\": 0.0, \"z\": 0.0}, \"end\": {\"x\": 3.85, \"y\": 0.0, \"z\": 0.0}, \"color\": \"grey\"});\n",
       "\tviewer_17386573730183723.addLine({\"start\": {\"x\": 0.0, \"y\": 0.0, \"z\": 0.0}, \"end\": {\"x\": 0.0, \"y\": 3.85, \"z\": 0.0}, \"color\": \"grey\"});\n",
       "\tviewer_17386573730183723.addLine({\"start\": {\"x\": 0.0, \"y\": 0.0, \"z\": 0.0}, \"end\": {\"x\": 0.0, \"y\": 0.0, \"z\": 3.72}, \"color\": \"grey\"});\n",
       "\tviewer_17386573730183723.addLine({\"start\": {\"x\": 3.85, \"y\": 0.0, \"z\": 0.0}, \"end\": {\"x\": 3.85, \"y\": 3.85, \"z\": 0.0}, \"color\": \"grey\"});\n",
       "\tviewer_17386573730183723.addLine({\"start\": {\"x\": 3.85, \"y\": 0.0, \"z\": 0.0}, \"end\": {\"x\": 3.85, \"y\": 0.0, \"z\": 3.72}, \"color\": \"grey\"});\n",
       "\tviewer_17386573730183723.addLine({\"start\": {\"x\": 0.0, \"y\": 3.85, \"z\": 0.0}, \"end\": {\"x\": 3.85, \"y\": 3.85, \"z\": 0.0}, \"color\": \"grey\"});\n",
       "\tviewer_17386573730183723.addLine({\"start\": {\"x\": 0.0, \"y\": 3.85, \"z\": 0.0}, \"end\": {\"x\": 0.0, \"y\": 3.85, \"z\": 3.72}, \"color\": \"grey\"});\n",
       "\tviewer_17386573730183723.addLine({\"start\": {\"x\": 0.0, \"y\": 0.0, \"z\": 3.72}, \"end\": {\"x\": 3.85, \"y\": 0.0, \"z\": 3.72}, \"color\": \"grey\"});\n",
       "\tviewer_17386573730183723.addLine({\"start\": {\"x\": 0.0, \"y\": 0.0, \"z\": 3.72}, \"end\": {\"x\": 0.0, \"y\": 3.85, \"z\": 3.72}, \"color\": \"grey\"});\n",
       "\tviewer_17386573730183723.addLine({\"start\": {\"x\": 3.85, \"y\": 3.85, \"z\": 0.0}, \"end\": {\"x\": 3.85, \"y\": 3.85, \"z\": 3.72}, \"color\": \"grey\"});\n",
       "\tviewer_17386573730183723.addLine({\"start\": {\"x\": 3.85, \"y\": 0.0, \"z\": 3.72}, \"end\": {\"x\": 3.85, \"y\": 3.85, \"z\": 3.72}, \"color\": \"grey\"});\n",
       "\tviewer_17386573730183723.addLine({\"start\": {\"x\": 0.0, \"y\": 3.85, \"z\": 3.72}, \"end\": {\"x\": 3.85, \"y\": 3.85, \"z\": 3.72}, \"color\": \"grey\"});\n",
       "\tviewer_17386573730183723.addLine({\"start\": {\"x\": 0.0, \"y\": 0.0, \"z\": 3.72}, \"end\": {\"x\": 3.85, \"y\": 0.0, \"z\": 3.72}, \"color\": \"grey\"});\n",
       "\tviewer_17386573730183723.addLine({\"start\": {\"x\": 0.0, \"y\": 0.0, \"z\": 3.72}, \"end\": {\"x\": 0.0, \"y\": 3.85, \"z\": 3.72}, \"color\": \"grey\"});\n",
       "\tviewer_17386573730183723.addLine({\"start\": {\"x\": 0.0, \"y\": 0.0, \"z\": 3.72}, \"end\": {\"x\": 0.0, \"y\": 0.0, \"z\": 7.44}, \"color\": \"grey\"});\n",
       "\tviewer_17386573730183723.addLine({\"start\": {\"x\": 3.85, \"y\": 0.0, \"z\": 3.72}, \"end\": {\"x\": 3.85, \"y\": 3.85, \"z\": 3.72}, \"color\": \"grey\"});\n",
       "\tviewer_17386573730183723.addLine({\"start\": {\"x\": 3.85, \"y\": 0.0, \"z\": 3.72}, \"end\": {\"x\": 3.85, \"y\": 0.0, \"z\": 7.44}, \"color\": \"grey\"});\n",
       "\tviewer_17386573730183723.addLine({\"start\": {\"x\": 0.0, \"y\": 3.85, \"z\": 3.72}, \"end\": {\"x\": 3.85, \"y\": 3.85, \"z\": 3.72}, \"color\": \"grey\"});\n",
       "\tviewer_17386573730183723.addLine({\"start\": {\"x\": 0.0, \"y\": 3.85, \"z\": 3.72}, \"end\": {\"x\": 0.0, \"y\": 3.85, \"z\": 7.44}, \"color\": \"grey\"});\n",
       "\tviewer_17386573730183723.addLine({\"start\": {\"x\": 0.0, \"y\": 0.0, \"z\": 7.44}, \"end\": {\"x\": 3.85, \"y\": 0.0, \"z\": 7.44}, \"color\": \"grey\"});\n",
       "\tviewer_17386573730183723.addLine({\"start\": {\"x\": 0.0, \"y\": 0.0, \"z\": 7.44}, \"end\": {\"x\": 0.0, \"y\": 3.85, \"z\": 7.44}, \"color\": \"grey\"});\n",
       "\tviewer_17386573730183723.addLine({\"start\": {\"x\": 3.85, \"y\": 3.85, \"z\": 3.72}, \"end\": {\"x\": 3.85, \"y\": 3.85, \"z\": 7.44}, \"color\": \"grey\"});\n",
       "\tviewer_17386573730183723.addLine({\"start\": {\"x\": 3.85, \"y\": 0.0, \"z\": 7.44}, \"end\": {\"x\": 3.85, \"y\": 3.85, \"z\": 7.44}, \"color\": \"grey\"});\n",
       "\tviewer_17386573730183723.addLine({\"start\": {\"x\": 0.0, \"y\": 3.85, \"z\": 7.44}, \"end\": {\"x\": 3.85, \"y\": 3.85, \"z\": 7.44}, \"color\": \"grey\"});\n",
       "\tviewer_17386573730183723.addLine({\"start\": {\"x\": 0.0, \"y\": 0.0, \"z\": 7.44}, \"end\": {\"x\": 3.85, \"y\": 0.0, \"z\": 7.44}, \"color\": \"grey\"});\n",
       "\tviewer_17386573730183723.addLine({\"start\": {\"x\": 0.0, \"y\": 0.0, \"z\": 7.44}, \"end\": {\"x\": 0.0, \"y\": 3.85, \"z\": 7.44}, \"color\": \"grey\"});\n",
       "\tviewer_17386573730183723.addLine({\"start\": {\"x\": 0.0, \"y\": 0.0, \"z\": 7.44}, \"end\": {\"x\": 0.0, \"y\": 0.0, \"z\": 11.16}, \"color\": \"grey\"});\n",
       "\tviewer_17386573730183723.addLine({\"start\": {\"x\": 3.85, \"y\": 0.0, \"z\": 7.44}, \"end\": {\"x\": 3.85, \"y\": 3.85, \"z\": 7.44}, \"color\": \"grey\"});\n",
       "\tviewer_17386573730183723.addLine({\"start\": {\"x\": 3.85, \"y\": 0.0, \"z\": 7.44}, \"end\": {\"x\": 3.85, \"y\": 0.0, \"z\": 11.16}, \"color\": \"grey\"});\n",
       "\tviewer_17386573730183723.addLine({\"start\": {\"x\": 0.0, \"y\": 3.85, \"z\": 7.44}, \"end\": {\"x\": 3.85, \"y\": 3.85, \"z\": 7.44}, \"color\": \"grey\"});\n",
       "\tviewer_17386573730183723.addLine({\"start\": {\"x\": 0.0, \"y\": 3.85, \"z\": 7.44}, \"end\": {\"x\": 0.0, \"y\": 3.85, \"z\": 11.16}, \"color\": \"grey\"});\n",
       "\tviewer_17386573730183723.addLine({\"start\": {\"x\": 0.0, \"y\": 0.0, \"z\": 11.16}, \"end\": {\"x\": 3.85, \"y\": 0.0, \"z\": 11.16}, \"color\": \"grey\"});\n",
       "\tviewer_17386573730183723.addLine({\"start\": {\"x\": 0.0, \"y\": 0.0, \"z\": 11.16}, \"end\": {\"x\": 0.0, \"y\": 3.85, \"z\": 11.16}, \"color\": \"grey\"});\n",
       "\tviewer_17386573730183723.addLine({\"start\": {\"x\": 3.85, \"y\": 3.85, \"z\": 7.44}, \"end\": {\"x\": 3.85, \"y\": 3.85, \"z\": 11.16}, \"color\": \"grey\"});\n",
       "\tviewer_17386573730183723.addLine({\"start\": {\"x\": 3.85, \"y\": 0.0, \"z\": 11.16}, \"end\": {\"x\": 3.85, \"y\": 3.85, \"z\": 11.16}, \"color\": \"grey\"});\n",
       "\tviewer_17386573730183723.addLine({\"start\": {\"x\": 0.0, \"y\": 3.85, \"z\": 11.16}, \"end\": {\"x\": 3.85, \"y\": 3.85, \"z\": 11.16}, \"color\": \"grey\"});\n",
       "\tviewer_17386573730183723.addLine({\"start\": {\"x\": 0.0, \"y\": 3.85, \"z\": 0.0}, \"end\": {\"x\": 3.85, \"y\": 3.85, \"z\": 0.0}, \"color\": \"grey\"});\n",
       "\tviewer_17386573730183723.addLine({\"start\": {\"x\": 0.0, \"y\": 3.85, \"z\": 0.0}, \"end\": {\"x\": 0.0, \"y\": 7.7, \"z\": 0.0}, \"color\": \"grey\"});\n",
       "\tviewer_17386573730183723.addLine({\"start\": {\"x\": 0.0, \"y\": 3.85, \"z\": 0.0}, \"end\": {\"x\": 0.0, \"y\": 3.85, \"z\": 3.72}, \"color\": \"grey\"});\n",
       "\tviewer_17386573730183723.addLine({\"start\": {\"x\": 3.85, \"y\": 3.85, \"z\": 0.0}, \"end\": {\"x\": 3.85, \"y\": 7.7, \"z\": 0.0}, \"color\": \"grey\"});\n",
       "\tviewer_17386573730183723.addLine({\"start\": {\"x\": 3.85, \"y\": 3.85, \"z\": 0.0}, \"end\": {\"x\": 3.85, \"y\": 3.85, \"z\": 3.72}, \"color\": \"grey\"});\n",
       "\tviewer_17386573730183723.addLine({\"start\": {\"x\": 0.0, \"y\": 7.7, \"z\": 0.0}, \"end\": {\"x\": 3.85, \"y\": 7.7, \"z\": 0.0}, \"color\": \"grey\"});\n",
       "\tviewer_17386573730183723.addLine({\"start\": {\"x\": 0.0, \"y\": 7.7, \"z\": 0.0}, \"end\": {\"x\": 0.0, \"y\": 7.7, \"z\": 3.72}, \"color\": \"grey\"});\n",
       "\tviewer_17386573730183723.addLine({\"start\": {\"x\": 0.0, \"y\": 3.85, \"z\": 3.72}, \"end\": {\"x\": 3.85, \"y\": 3.85, \"z\": 3.72}, \"color\": \"grey\"});\n",
       "\tviewer_17386573730183723.addLine({\"start\": {\"x\": 0.0, \"y\": 3.85, \"z\": 3.72}, \"end\": {\"x\": 0.0, \"y\": 7.7, \"z\": 3.72}, \"color\": \"grey\"});\n",
       "\tviewer_17386573730183723.addLine({\"start\": {\"x\": 3.85, \"y\": 7.7, \"z\": 0.0}, \"end\": {\"x\": 3.85, \"y\": 7.7, \"z\": 3.72}, \"color\": \"grey\"});\n",
       "\tviewer_17386573730183723.addLine({\"start\": {\"x\": 3.85, \"y\": 3.85, \"z\": 3.72}, \"end\": {\"x\": 3.85, \"y\": 7.7, \"z\": 3.72}, \"color\": \"grey\"});\n",
       "\tviewer_17386573730183723.addLine({\"start\": {\"x\": 0.0, \"y\": 7.7, \"z\": 3.72}, \"end\": {\"x\": 3.85, \"y\": 7.7, \"z\": 3.72}, \"color\": \"grey\"});\n",
       "\tviewer_17386573730183723.addLine({\"start\": {\"x\": 0.0, \"y\": 3.85, \"z\": 3.72}, \"end\": {\"x\": 3.85, \"y\": 3.85, \"z\": 3.72}, \"color\": \"grey\"});\n",
       "\tviewer_17386573730183723.addLine({\"start\": {\"x\": 0.0, \"y\": 3.85, \"z\": 3.72}, \"end\": {\"x\": 0.0, \"y\": 7.7, \"z\": 3.72}, \"color\": \"grey\"});\n",
       "\tviewer_17386573730183723.addLine({\"start\": {\"x\": 0.0, \"y\": 3.85, \"z\": 3.72}, \"end\": {\"x\": 0.0, \"y\": 3.85, \"z\": 7.44}, \"color\": \"grey\"});\n",
       "\tviewer_17386573730183723.addLine({\"start\": {\"x\": 3.85, \"y\": 3.85, \"z\": 3.72}, \"end\": {\"x\": 3.85, \"y\": 7.7, \"z\": 3.72}, \"color\": \"grey\"});\n",
       "\tviewer_17386573730183723.addLine({\"start\": {\"x\": 3.85, \"y\": 3.85, \"z\": 3.72}, \"end\": {\"x\": 3.85, \"y\": 3.85, \"z\": 7.44}, \"color\": \"grey\"});\n",
       "\tviewer_17386573730183723.addLine({\"start\": {\"x\": 0.0, \"y\": 7.7, \"z\": 3.72}, \"end\": {\"x\": 3.85, \"y\": 7.7, \"z\": 3.72}, \"color\": \"grey\"});\n",
       "\tviewer_17386573730183723.addLine({\"start\": {\"x\": 0.0, \"y\": 7.7, \"z\": 3.72}, \"end\": {\"x\": 0.0, \"y\": 7.7, \"z\": 7.44}, \"color\": \"grey\"});\n",
       "\tviewer_17386573730183723.addLine({\"start\": {\"x\": 0.0, \"y\": 3.85, \"z\": 7.44}, \"end\": {\"x\": 3.85, \"y\": 3.85, \"z\": 7.44}, \"color\": \"grey\"});\n",
       "\tviewer_17386573730183723.addLine({\"start\": {\"x\": 0.0, \"y\": 3.85, \"z\": 7.44}, \"end\": {\"x\": 0.0, \"y\": 7.7, \"z\": 7.44}, \"color\": \"grey\"});\n",
       "\tviewer_17386573730183723.addLine({\"start\": {\"x\": 3.85, \"y\": 7.7, \"z\": 3.72}, \"end\": {\"x\": 3.85, \"y\": 7.7, \"z\": 7.44}, \"color\": \"grey\"});\n",
       "\tviewer_17386573730183723.addLine({\"start\": {\"x\": 3.85, \"y\": 3.85, \"z\": 7.44}, \"end\": {\"x\": 3.85, \"y\": 7.7, \"z\": 7.44}, \"color\": \"grey\"});\n",
       "\tviewer_17386573730183723.addLine({\"start\": {\"x\": 0.0, \"y\": 7.7, \"z\": 7.44}, \"end\": {\"x\": 3.85, \"y\": 7.7, \"z\": 7.44}, \"color\": \"grey\"});\n",
       "\tviewer_17386573730183723.addLine({\"start\": {\"x\": 0.0, \"y\": 3.85, \"z\": 7.44}, \"end\": {\"x\": 3.85, \"y\": 3.85, \"z\": 7.44}, \"color\": \"grey\"});\n",
       "\tviewer_17386573730183723.addLine({\"start\": {\"x\": 0.0, \"y\": 3.85, \"z\": 7.44}, \"end\": {\"x\": 0.0, \"y\": 7.7, \"z\": 7.44}, \"color\": \"grey\"});\n",
       "\tviewer_17386573730183723.addLine({\"start\": {\"x\": 0.0, \"y\": 3.85, \"z\": 7.44}, \"end\": {\"x\": 0.0, \"y\": 3.85, \"z\": 11.16}, \"color\": \"grey\"});\n",
       "\tviewer_17386573730183723.addLine({\"start\": {\"x\": 3.85, \"y\": 3.85, \"z\": 7.44}, \"end\": {\"x\": 3.85, \"y\": 7.7, \"z\": 7.44}, \"color\": \"grey\"});\n",
       "\tviewer_17386573730183723.addLine({\"start\": {\"x\": 3.85, \"y\": 3.85, \"z\": 7.44}, \"end\": {\"x\": 3.85, \"y\": 3.85, \"z\": 11.16}, \"color\": \"grey\"});\n",
       "\tviewer_17386573730183723.addLine({\"start\": {\"x\": 0.0, \"y\": 7.7, \"z\": 7.44}, \"end\": {\"x\": 3.85, \"y\": 7.7, \"z\": 7.44}, \"color\": \"grey\"});\n",
       "\tviewer_17386573730183723.addLine({\"start\": {\"x\": 0.0, \"y\": 7.7, \"z\": 7.44}, \"end\": {\"x\": 0.0, \"y\": 7.7, \"z\": 11.16}, \"color\": \"grey\"});\n",
       "\tviewer_17386573730183723.addLine({\"start\": {\"x\": 0.0, \"y\": 3.85, \"z\": 11.16}, \"end\": {\"x\": 3.85, \"y\": 3.85, \"z\": 11.16}, \"color\": \"grey\"});\n",
       "\tviewer_17386573730183723.addLine({\"start\": {\"x\": 0.0, \"y\": 3.85, \"z\": 11.16}, \"end\": {\"x\": 0.0, \"y\": 7.7, \"z\": 11.16}, \"color\": \"grey\"});\n",
       "\tviewer_17386573730183723.addLine({\"start\": {\"x\": 3.85, \"y\": 7.7, \"z\": 7.44}, \"end\": {\"x\": 3.85, \"y\": 7.7, \"z\": 11.16}, \"color\": \"grey\"});\n",
       "\tviewer_17386573730183723.addLine({\"start\": {\"x\": 3.85, \"y\": 3.85, \"z\": 11.16}, \"end\": {\"x\": 3.85, \"y\": 7.7, \"z\": 11.16}, \"color\": \"grey\"});\n",
       "\tviewer_17386573730183723.addLine({\"start\": {\"x\": 0.0, \"y\": 7.7, \"z\": 11.16}, \"end\": {\"x\": 3.85, \"y\": 7.7, \"z\": 11.16}, \"color\": \"grey\"});\n",
       "\tviewer_17386573730183723.addLine({\"start\": {\"x\": 0.0, \"y\": 7.7, \"z\": 0.0}, \"end\": {\"x\": 3.85, \"y\": 7.7, \"z\": 0.0}, \"color\": \"grey\"});\n",
       "\tviewer_17386573730183723.addLine({\"start\": {\"x\": 0.0, \"y\": 7.7, \"z\": 0.0}, \"end\": {\"x\": 0.0, \"y\": 11.55, \"z\": 0.0}, \"color\": \"grey\"});\n",
       "\tviewer_17386573730183723.addLine({\"start\": {\"x\": 0.0, \"y\": 7.7, \"z\": 0.0}, \"end\": {\"x\": 0.0, \"y\": 7.7, \"z\": 3.72}, \"color\": \"grey\"});\n",
       "\tviewer_17386573730183723.addLine({\"start\": {\"x\": 3.85, \"y\": 7.7, \"z\": 0.0}, \"end\": {\"x\": 3.85, \"y\": 11.55, \"z\": 0.0}, \"color\": \"grey\"});\n",
       "\tviewer_17386573730183723.addLine({\"start\": {\"x\": 3.85, \"y\": 7.7, \"z\": 0.0}, \"end\": {\"x\": 3.85, \"y\": 7.7, \"z\": 3.72}, \"color\": \"grey\"});\n",
       "\tviewer_17386573730183723.addLine({\"start\": {\"x\": 0.0, \"y\": 11.55, \"z\": 0.0}, \"end\": {\"x\": 3.85, \"y\": 11.55, \"z\": 0.0}, \"color\": \"grey\"});\n",
       "\tviewer_17386573730183723.addLine({\"start\": {\"x\": 0.0, \"y\": 11.55, \"z\": 0.0}, \"end\": {\"x\": 0.0, \"y\": 11.55, \"z\": 3.72}, \"color\": \"grey\"});\n",
       "\tviewer_17386573730183723.addLine({\"start\": {\"x\": 0.0, \"y\": 7.7, \"z\": 3.72}, \"end\": {\"x\": 3.85, \"y\": 7.7, \"z\": 3.72}, \"color\": \"grey\"});\n",
       "\tviewer_17386573730183723.addLine({\"start\": {\"x\": 0.0, \"y\": 7.7, \"z\": 3.72}, \"end\": {\"x\": 0.0, \"y\": 11.55, \"z\": 3.72}, \"color\": \"grey\"});\n",
       "\tviewer_17386573730183723.addLine({\"start\": {\"x\": 3.85, \"y\": 11.55, \"z\": 0.0}, \"end\": {\"x\": 3.85, \"y\": 11.55, \"z\": 3.72}, \"color\": \"grey\"});\n",
       "\tviewer_17386573730183723.addLine({\"start\": {\"x\": 3.85, \"y\": 7.7, \"z\": 3.72}, \"end\": {\"x\": 3.85, \"y\": 11.55, \"z\": 3.72}, \"color\": \"grey\"});\n",
       "\tviewer_17386573730183723.addLine({\"start\": {\"x\": 0.0, \"y\": 11.55, \"z\": 3.72}, \"end\": {\"x\": 3.85, \"y\": 11.55, \"z\": 3.72}, \"color\": \"grey\"});\n",
       "\tviewer_17386573730183723.addLine({\"start\": {\"x\": 0.0, \"y\": 7.7, \"z\": 3.72}, \"end\": {\"x\": 3.85, \"y\": 7.7, \"z\": 3.72}, \"color\": \"grey\"});\n",
       "\tviewer_17386573730183723.addLine({\"start\": {\"x\": 0.0, \"y\": 7.7, \"z\": 3.72}, \"end\": {\"x\": 0.0, \"y\": 11.55, \"z\": 3.72}, \"color\": \"grey\"});\n",
       "\tviewer_17386573730183723.addLine({\"start\": {\"x\": 0.0, \"y\": 7.7, \"z\": 3.72}, \"end\": {\"x\": 0.0, \"y\": 7.7, \"z\": 7.44}, \"color\": \"grey\"});\n",
       "\tviewer_17386573730183723.addLine({\"start\": {\"x\": 3.85, \"y\": 7.7, \"z\": 3.72}, \"end\": {\"x\": 3.85, \"y\": 11.55, \"z\": 3.72}, \"color\": \"grey\"});\n",
       "\tviewer_17386573730183723.addLine({\"start\": {\"x\": 3.85, \"y\": 7.7, \"z\": 3.72}, \"end\": {\"x\": 3.85, \"y\": 7.7, \"z\": 7.44}, \"color\": \"grey\"});\n",
       "\tviewer_17386573730183723.addLine({\"start\": {\"x\": 0.0, \"y\": 11.55, \"z\": 3.72}, \"end\": {\"x\": 3.85, \"y\": 11.55, \"z\": 3.72}, \"color\": \"grey\"});\n",
       "\tviewer_17386573730183723.addLine({\"start\": {\"x\": 0.0, \"y\": 11.55, \"z\": 3.72}, \"end\": {\"x\": 0.0, \"y\": 11.55, \"z\": 7.44}, \"color\": \"grey\"});\n",
       "\tviewer_17386573730183723.addLine({\"start\": {\"x\": 0.0, \"y\": 7.7, \"z\": 7.44}, \"end\": {\"x\": 3.85, \"y\": 7.7, \"z\": 7.44}, \"color\": \"grey\"});\n",
       "\tviewer_17386573730183723.addLine({\"start\": {\"x\": 0.0, \"y\": 7.7, \"z\": 7.44}, \"end\": {\"x\": 0.0, \"y\": 11.55, \"z\": 7.44}, \"color\": \"grey\"});\n",
       "\tviewer_17386573730183723.addLine({\"start\": {\"x\": 3.85, \"y\": 11.55, \"z\": 3.72}, \"end\": {\"x\": 3.85, \"y\": 11.55, \"z\": 7.44}, \"color\": \"grey\"});\n",
       "\tviewer_17386573730183723.addLine({\"start\": {\"x\": 3.85, \"y\": 7.7, \"z\": 7.44}, \"end\": {\"x\": 3.85, \"y\": 11.55, \"z\": 7.44}, \"color\": \"grey\"});\n",
       "\tviewer_17386573730183723.addLine({\"start\": {\"x\": 0.0, \"y\": 11.55, \"z\": 7.44}, \"end\": {\"x\": 3.85, \"y\": 11.55, \"z\": 7.44}, \"color\": \"grey\"});\n",
       "\tviewer_17386573730183723.addLine({\"start\": {\"x\": 0.0, \"y\": 7.7, \"z\": 7.44}, \"end\": {\"x\": 3.85, \"y\": 7.7, \"z\": 7.44}, \"color\": \"grey\"});\n",
       "\tviewer_17386573730183723.addLine({\"start\": {\"x\": 0.0, \"y\": 7.7, \"z\": 7.44}, \"end\": {\"x\": 0.0, \"y\": 11.55, \"z\": 7.44}, \"color\": \"grey\"});\n",
       "\tviewer_17386573730183723.addLine({\"start\": {\"x\": 0.0, \"y\": 7.7, \"z\": 7.44}, \"end\": {\"x\": 0.0, \"y\": 7.7, \"z\": 11.16}, \"color\": \"grey\"});\n",
       "\tviewer_17386573730183723.addLine({\"start\": {\"x\": 3.85, \"y\": 7.7, \"z\": 7.44}, \"end\": {\"x\": 3.85, \"y\": 11.55, \"z\": 7.44}, \"color\": \"grey\"});\n",
       "\tviewer_17386573730183723.addLine({\"start\": {\"x\": 3.85, \"y\": 7.7, \"z\": 7.44}, \"end\": {\"x\": 3.85, \"y\": 7.7, \"z\": 11.16}, \"color\": \"grey\"});\n",
       "\tviewer_17386573730183723.addLine({\"start\": {\"x\": 0.0, \"y\": 11.55, \"z\": 7.44}, \"end\": {\"x\": 3.85, \"y\": 11.55, \"z\": 7.44}, \"color\": \"grey\"});\n",
       "\tviewer_17386573730183723.addLine({\"start\": {\"x\": 0.0, \"y\": 11.55, \"z\": 7.44}, \"end\": {\"x\": 0.0, \"y\": 11.55, \"z\": 11.16}, \"color\": \"grey\"});\n",
       "\tviewer_17386573730183723.addLine({\"start\": {\"x\": 0.0, \"y\": 7.7, \"z\": 11.16}, \"end\": {\"x\": 3.85, \"y\": 7.7, \"z\": 11.16}, \"color\": \"grey\"});\n",
       "\tviewer_17386573730183723.addLine({\"start\": {\"x\": 0.0, \"y\": 7.7, \"z\": 11.16}, \"end\": {\"x\": 0.0, \"y\": 11.55, \"z\": 11.16}, \"color\": \"grey\"});\n",
       "\tviewer_17386573730183723.addLine({\"start\": {\"x\": 3.85, \"y\": 11.55, \"z\": 7.44}, \"end\": {\"x\": 3.85, \"y\": 11.55, \"z\": 11.16}, \"color\": \"grey\"});\n",
       "\tviewer_17386573730183723.addLine({\"start\": {\"x\": 3.85, \"y\": 7.7, \"z\": 11.16}, \"end\": {\"x\": 3.85, \"y\": 11.55, \"z\": 11.16}, \"color\": \"grey\"});\n",
       "\tviewer_17386573730183723.addLine({\"start\": {\"x\": 0.0, \"y\": 11.55, \"z\": 11.16}, \"end\": {\"x\": 3.85, \"y\": 11.55, \"z\": 11.16}, \"color\": \"grey\"});\n",
       "\tviewer_17386573730183723.addLine({\"start\": {\"x\": 3.85, \"y\": 0.0, \"z\": 0.0}, \"end\": {\"x\": 7.7, \"y\": 0.0, \"z\": 0.0}, \"color\": \"grey\"});\n",
       "\tviewer_17386573730183723.addLine({\"start\": {\"x\": 3.85, \"y\": 0.0, \"z\": 0.0}, \"end\": {\"x\": 3.85, \"y\": 3.85, \"z\": 0.0}, \"color\": \"grey\"});\n",
       "\tviewer_17386573730183723.addLine({\"start\": {\"x\": 3.85, \"y\": 0.0, \"z\": 0.0}, \"end\": {\"x\": 3.85, \"y\": 0.0, \"z\": 3.72}, \"color\": \"grey\"});\n",
       "\tviewer_17386573730183723.addLine({\"start\": {\"x\": 7.7, \"y\": 0.0, \"z\": 0.0}, \"end\": {\"x\": 7.7, \"y\": 3.85, \"z\": 0.0}, \"color\": \"grey\"});\n",
       "\tviewer_17386573730183723.addLine({\"start\": {\"x\": 7.7, \"y\": 0.0, \"z\": 0.0}, \"end\": {\"x\": 7.7, \"y\": 0.0, \"z\": 3.72}, \"color\": \"grey\"});\n",
       "\tviewer_17386573730183723.addLine({\"start\": {\"x\": 3.85, \"y\": 3.85, \"z\": 0.0}, \"end\": {\"x\": 7.7, \"y\": 3.85, \"z\": 0.0}, \"color\": \"grey\"});\n",
       "\tviewer_17386573730183723.addLine({\"start\": {\"x\": 3.85, \"y\": 3.85, \"z\": 0.0}, \"end\": {\"x\": 3.85, \"y\": 3.85, \"z\": 3.72}, \"color\": \"grey\"});\n",
       "\tviewer_17386573730183723.addLine({\"start\": {\"x\": 3.85, \"y\": 0.0, \"z\": 3.72}, \"end\": {\"x\": 7.7, \"y\": 0.0, \"z\": 3.72}, \"color\": \"grey\"});\n",
       "\tviewer_17386573730183723.addLine({\"start\": {\"x\": 3.85, \"y\": 0.0, \"z\": 3.72}, \"end\": {\"x\": 3.85, \"y\": 3.85, \"z\": 3.72}, \"color\": \"grey\"});\n",
       "\tviewer_17386573730183723.addLine({\"start\": {\"x\": 7.7, \"y\": 3.85, \"z\": 0.0}, \"end\": {\"x\": 7.7, \"y\": 3.85, \"z\": 3.72}, \"color\": \"grey\"});\n",
       "\tviewer_17386573730183723.addLine({\"start\": {\"x\": 7.7, \"y\": 0.0, \"z\": 3.72}, \"end\": {\"x\": 7.7, \"y\": 3.85, \"z\": 3.72}, \"color\": \"grey\"});\n",
       "\tviewer_17386573730183723.addLine({\"start\": {\"x\": 3.85, \"y\": 3.85, \"z\": 3.72}, \"end\": {\"x\": 7.7, \"y\": 3.85, \"z\": 3.72}, \"color\": \"grey\"});\n",
       "\tviewer_17386573730183723.addLine({\"start\": {\"x\": 3.85, \"y\": 0.0, \"z\": 3.72}, \"end\": {\"x\": 7.7, \"y\": 0.0, \"z\": 3.72}, \"color\": \"grey\"});\n",
       "\tviewer_17386573730183723.addLine({\"start\": {\"x\": 3.85, \"y\": 0.0, \"z\": 3.72}, \"end\": {\"x\": 3.85, \"y\": 3.85, \"z\": 3.72}, \"color\": \"grey\"});\n",
       "\tviewer_17386573730183723.addLine({\"start\": {\"x\": 3.85, \"y\": 0.0, \"z\": 3.72}, \"end\": {\"x\": 3.85, \"y\": 0.0, \"z\": 7.44}, \"color\": \"grey\"});\n",
       "\tviewer_17386573730183723.addLine({\"start\": {\"x\": 7.7, \"y\": 0.0, \"z\": 3.72}, \"end\": {\"x\": 7.7, \"y\": 3.85, \"z\": 3.72}, \"color\": \"grey\"});\n",
       "\tviewer_17386573730183723.addLine({\"start\": {\"x\": 7.7, \"y\": 0.0, \"z\": 3.72}, \"end\": {\"x\": 7.7, \"y\": 0.0, \"z\": 7.44}, \"color\": \"grey\"});\n",
       "\tviewer_17386573730183723.addLine({\"start\": {\"x\": 3.85, \"y\": 3.85, \"z\": 3.72}, \"end\": {\"x\": 7.7, \"y\": 3.85, \"z\": 3.72}, \"color\": \"grey\"});\n",
       "\tviewer_17386573730183723.addLine({\"start\": {\"x\": 3.85, \"y\": 3.85, \"z\": 3.72}, \"end\": {\"x\": 3.85, \"y\": 3.85, \"z\": 7.44}, \"color\": \"grey\"});\n",
       "\tviewer_17386573730183723.addLine({\"start\": {\"x\": 3.85, \"y\": 0.0, \"z\": 7.44}, \"end\": {\"x\": 7.7, \"y\": 0.0, \"z\": 7.44}, \"color\": \"grey\"});\n",
       "\tviewer_17386573730183723.addLine({\"start\": {\"x\": 3.85, \"y\": 0.0, \"z\": 7.44}, \"end\": {\"x\": 3.85, \"y\": 3.85, \"z\": 7.44}, \"color\": \"grey\"});\n",
       "\tviewer_17386573730183723.addLine({\"start\": {\"x\": 7.7, \"y\": 3.85, \"z\": 3.72}, \"end\": {\"x\": 7.7, \"y\": 3.85, \"z\": 7.44}, \"color\": \"grey\"});\n",
       "\tviewer_17386573730183723.addLine({\"start\": {\"x\": 7.7, \"y\": 0.0, \"z\": 7.44}, \"end\": {\"x\": 7.7, \"y\": 3.85, \"z\": 7.44}, \"color\": \"grey\"});\n",
       "\tviewer_17386573730183723.addLine({\"start\": {\"x\": 3.85, \"y\": 3.85, \"z\": 7.44}, \"end\": {\"x\": 7.7, \"y\": 3.85, \"z\": 7.44}, \"color\": \"grey\"});\n",
       "\tviewer_17386573730183723.addLine({\"start\": {\"x\": 3.85, \"y\": 0.0, \"z\": 7.44}, \"end\": {\"x\": 7.7, \"y\": 0.0, \"z\": 7.44}, \"color\": \"grey\"});\n",
       "\tviewer_17386573730183723.addLine({\"start\": {\"x\": 3.85, \"y\": 0.0, \"z\": 7.44}, \"end\": {\"x\": 3.85, \"y\": 3.85, \"z\": 7.44}, \"color\": \"grey\"});\n",
       "\tviewer_17386573730183723.addLine({\"start\": {\"x\": 3.85, \"y\": 0.0, \"z\": 7.44}, \"end\": {\"x\": 3.85, \"y\": 0.0, \"z\": 11.16}, \"color\": \"grey\"});\n",
       "\tviewer_17386573730183723.addLine({\"start\": {\"x\": 7.7, \"y\": 0.0, \"z\": 7.44}, \"end\": {\"x\": 7.7, \"y\": 3.85, \"z\": 7.44}, \"color\": \"grey\"});\n",
       "\tviewer_17386573730183723.addLine({\"start\": {\"x\": 7.7, \"y\": 0.0, \"z\": 7.44}, \"end\": {\"x\": 7.7, \"y\": 0.0, \"z\": 11.16}, \"color\": \"grey\"});\n",
       "\tviewer_17386573730183723.addLine({\"start\": {\"x\": 3.85, \"y\": 3.85, \"z\": 7.44}, \"end\": {\"x\": 7.7, \"y\": 3.85, \"z\": 7.44}, \"color\": \"grey\"});\n",
       "\tviewer_17386573730183723.addLine({\"start\": {\"x\": 3.85, \"y\": 3.85, \"z\": 7.44}, \"end\": {\"x\": 3.85, \"y\": 3.85, \"z\": 11.16}, \"color\": \"grey\"});\n",
       "\tviewer_17386573730183723.addLine({\"start\": {\"x\": 3.85, \"y\": 0.0, \"z\": 11.16}, \"end\": {\"x\": 7.7, \"y\": 0.0, \"z\": 11.16}, \"color\": \"grey\"});\n",
       "\tviewer_17386573730183723.addLine({\"start\": {\"x\": 3.85, \"y\": 0.0, \"z\": 11.16}, \"end\": {\"x\": 3.85, \"y\": 3.85, \"z\": 11.16}, \"color\": \"grey\"});\n",
       "\tviewer_17386573730183723.addLine({\"start\": {\"x\": 7.7, \"y\": 3.85, \"z\": 7.44}, \"end\": {\"x\": 7.7, \"y\": 3.85, \"z\": 11.16}, \"color\": \"grey\"});\n",
       "\tviewer_17386573730183723.addLine({\"start\": {\"x\": 7.7, \"y\": 0.0, \"z\": 11.16}, \"end\": {\"x\": 7.7, \"y\": 3.85, \"z\": 11.16}, \"color\": \"grey\"});\n",
       "\tviewer_17386573730183723.addLine({\"start\": {\"x\": 3.85, \"y\": 3.85, \"z\": 11.16}, \"end\": {\"x\": 7.7, \"y\": 3.85, \"z\": 11.16}, \"color\": \"grey\"});\n",
       "\tviewer_17386573730183723.addLine({\"start\": {\"x\": 3.85, \"y\": 3.85, \"z\": 0.0}, \"end\": {\"x\": 7.7, \"y\": 3.85, \"z\": 0.0}, \"color\": \"grey\"});\n",
       "\tviewer_17386573730183723.addLine({\"start\": {\"x\": 3.85, \"y\": 3.85, \"z\": 0.0}, \"end\": {\"x\": 3.85, \"y\": 7.7, \"z\": 0.0}, \"color\": \"grey\"});\n",
       "\tviewer_17386573730183723.addLine({\"start\": {\"x\": 3.85, \"y\": 3.85, \"z\": 0.0}, \"end\": {\"x\": 3.85, \"y\": 3.85, \"z\": 3.72}, \"color\": \"grey\"});\n",
       "\tviewer_17386573730183723.addLine({\"start\": {\"x\": 7.7, \"y\": 3.85, \"z\": 0.0}, \"end\": {\"x\": 7.7, \"y\": 7.7, \"z\": 0.0}, \"color\": \"grey\"});\n",
       "\tviewer_17386573730183723.addLine({\"start\": {\"x\": 7.7, \"y\": 3.85, \"z\": 0.0}, \"end\": {\"x\": 7.7, \"y\": 3.85, \"z\": 3.72}, \"color\": \"grey\"});\n",
       "\tviewer_17386573730183723.addLine({\"start\": {\"x\": 3.85, \"y\": 7.7, \"z\": 0.0}, \"end\": {\"x\": 7.7, \"y\": 7.7, \"z\": 0.0}, \"color\": \"grey\"});\n",
       "\tviewer_17386573730183723.addLine({\"start\": {\"x\": 3.85, \"y\": 7.7, \"z\": 0.0}, \"end\": {\"x\": 3.85, \"y\": 7.7, \"z\": 3.72}, \"color\": \"grey\"});\n",
       "\tviewer_17386573730183723.addLine({\"start\": {\"x\": 3.85, \"y\": 3.85, \"z\": 3.72}, \"end\": {\"x\": 7.7, \"y\": 3.85, \"z\": 3.72}, \"color\": \"grey\"});\n",
       "\tviewer_17386573730183723.addLine({\"start\": {\"x\": 3.85, \"y\": 3.85, \"z\": 3.72}, \"end\": {\"x\": 3.85, \"y\": 7.7, \"z\": 3.72}, \"color\": \"grey\"});\n",
       "\tviewer_17386573730183723.addLine({\"start\": {\"x\": 7.7, \"y\": 7.7, \"z\": 0.0}, \"end\": {\"x\": 7.7, \"y\": 7.7, \"z\": 3.72}, \"color\": \"grey\"});\n",
       "\tviewer_17386573730183723.addLine({\"start\": {\"x\": 7.7, \"y\": 3.85, \"z\": 3.72}, \"end\": {\"x\": 7.7, \"y\": 7.7, \"z\": 3.72}, \"color\": \"grey\"});\n",
       "\tviewer_17386573730183723.addLine({\"start\": {\"x\": 3.85, \"y\": 7.7, \"z\": 3.72}, \"end\": {\"x\": 7.7, \"y\": 7.7, \"z\": 3.72}, \"color\": \"grey\"});\n",
       "\tviewer_17386573730183723.addLine({\"start\": {\"x\": 3.85, \"y\": 3.85, \"z\": 3.72}, \"end\": {\"x\": 7.7, \"y\": 3.85, \"z\": 3.72}, \"color\": \"grey\"});\n",
       "\tviewer_17386573730183723.addLine({\"start\": {\"x\": 3.85, \"y\": 3.85, \"z\": 3.72}, \"end\": {\"x\": 3.85, \"y\": 7.7, \"z\": 3.72}, \"color\": \"grey\"});\n",
       "\tviewer_17386573730183723.addLine({\"start\": {\"x\": 3.85, \"y\": 3.85, \"z\": 3.72}, \"end\": {\"x\": 3.85, \"y\": 3.85, \"z\": 7.44}, \"color\": \"grey\"});\n",
       "\tviewer_17386573730183723.addLine({\"start\": {\"x\": 7.7, \"y\": 3.85, \"z\": 3.72}, \"end\": {\"x\": 7.7, \"y\": 7.7, \"z\": 3.72}, \"color\": \"grey\"});\n",
       "\tviewer_17386573730183723.addLine({\"start\": {\"x\": 7.7, \"y\": 3.85, \"z\": 3.72}, \"end\": {\"x\": 7.7, \"y\": 3.85, \"z\": 7.44}, \"color\": \"grey\"});\n",
       "\tviewer_17386573730183723.addLine({\"start\": {\"x\": 3.85, \"y\": 7.7, \"z\": 3.72}, \"end\": {\"x\": 7.7, \"y\": 7.7, \"z\": 3.72}, \"color\": \"grey\"});\n",
       "\tviewer_17386573730183723.addLine({\"start\": {\"x\": 3.85, \"y\": 7.7, \"z\": 3.72}, \"end\": {\"x\": 3.85, \"y\": 7.7, \"z\": 7.44}, \"color\": \"grey\"});\n",
       "\tviewer_17386573730183723.addLine({\"start\": {\"x\": 3.85, \"y\": 3.85, \"z\": 7.44}, \"end\": {\"x\": 7.7, \"y\": 3.85, \"z\": 7.44}, \"color\": \"grey\"});\n",
       "\tviewer_17386573730183723.addLine({\"start\": {\"x\": 3.85, \"y\": 3.85, \"z\": 7.44}, \"end\": {\"x\": 3.85, \"y\": 7.7, \"z\": 7.44}, \"color\": \"grey\"});\n",
       "\tviewer_17386573730183723.addLine({\"start\": {\"x\": 7.7, \"y\": 7.7, \"z\": 3.72}, \"end\": {\"x\": 7.7, \"y\": 7.7, \"z\": 7.44}, \"color\": \"grey\"});\n",
       "\tviewer_17386573730183723.addLine({\"start\": {\"x\": 7.7, \"y\": 3.85, \"z\": 7.44}, \"end\": {\"x\": 7.7, \"y\": 7.7, \"z\": 7.44}, \"color\": \"grey\"});\n",
       "\tviewer_17386573730183723.addLine({\"start\": {\"x\": 3.85, \"y\": 7.7, \"z\": 7.44}, \"end\": {\"x\": 7.7, \"y\": 7.7, \"z\": 7.44}, \"color\": \"grey\"});\n",
       "\tviewer_17386573730183723.addLine({\"start\": {\"x\": 3.85, \"y\": 3.85, \"z\": 7.44}, \"end\": {\"x\": 7.7, \"y\": 3.85, \"z\": 7.44}, \"color\": \"grey\"});\n",
       "\tviewer_17386573730183723.addLine({\"start\": {\"x\": 3.85, \"y\": 3.85, \"z\": 7.44}, \"end\": {\"x\": 3.85, \"y\": 7.7, \"z\": 7.44}, \"color\": \"grey\"});\n",
       "\tviewer_17386573730183723.addLine({\"start\": {\"x\": 3.85, \"y\": 3.85, \"z\": 7.44}, \"end\": {\"x\": 3.85, \"y\": 3.85, \"z\": 11.16}, \"color\": \"grey\"});\n",
       "\tviewer_17386573730183723.addLine({\"start\": {\"x\": 7.7, \"y\": 3.85, \"z\": 7.44}, \"end\": {\"x\": 7.7, \"y\": 7.7, \"z\": 7.44}, \"color\": \"grey\"});\n",
       "\tviewer_17386573730183723.addLine({\"start\": {\"x\": 7.7, \"y\": 3.85, \"z\": 7.44}, \"end\": {\"x\": 7.7, \"y\": 3.85, \"z\": 11.16}, \"color\": \"grey\"});\n",
       "\tviewer_17386573730183723.addLine({\"start\": {\"x\": 3.85, \"y\": 7.7, \"z\": 7.44}, \"end\": {\"x\": 7.7, \"y\": 7.7, \"z\": 7.44}, \"color\": \"grey\"});\n",
       "\tviewer_17386573730183723.addLine({\"start\": {\"x\": 3.85, \"y\": 7.7, \"z\": 7.44}, \"end\": {\"x\": 3.85, \"y\": 7.7, \"z\": 11.16}, \"color\": \"grey\"});\n",
       "\tviewer_17386573730183723.addLine({\"start\": {\"x\": 3.85, \"y\": 3.85, \"z\": 11.16}, \"end\": {\"x\": 7.7, \"y\": 3.85, \"z\": 11.16}, \"color\": \"grey\"});\n",
       "\tviewer_17386573730183723.addLine({\"start\": {\"x\": 3.85, \"y\": 3.85, \"z\": 11.16}, \"end\": {\"x\": 3.85, \"y\": 7.7, \"z\": 11.16}, \"color\": \"grey\"});\n",
       "\tviewer_17386573730183723.addLine({\"start\": {\"x\": 7.7, \"y\": 7.7, \"z\": 7.44}, \"end\": {\"x\": 7.7, \"y\": 7.7, \"z\": 11.16}, \"color\": \"grey\"});\n",
       "\tviewer_17386573730183723.addLine({\"start\": {\"x\": 7.7, \"y\": 3.85, \"z\": 11.16}, \"end\": {\"x\": 7.7, \"y\": 7.7, \"z\": 11.16}, \"color\": \"grey\"});\n",
       "\tviewer_17386573730183723.addLine({\"start\": {\"x\": 3.85, \"y\": 7.7, \"z\": 11.16}, \"end\": {\"x\": 7.7, \"y\": 7.7, \"z\": 11.16}, \"color\": \"grey\"});\n",
       "\tviewer_17386573730183723.addLine({\"start\": {\"x\": 3.85, \"y\": 7.7, \"z\": 0.0}, \"end\": {\"x\": 7.7, \"y\": 7.7, \"z\": 0.0}, \"color\": \"grey\"});\n",
       "\tviewer_17386573730183723.addLine({\"start\": {\"x\": 3.85, \"y\": 7.7, \"z\": 0.0}, \"end\": {\"x\": 3.85, \"y\": 11.55, \"z\": 0.0}, \"color\": \"grey\"});\n",
       "\tviewer_17386573730183723.addLine({\"start\": {\"x\": 3.85, \"y\": 7.7, \"z\": 0.0}, \"end\": {\"x\": 3.85, \"y\": 7.7, \"z\": 3.72}, \"color\": \"grey\"});\n",
       "\tviewer_17386573730183723.addLine({\"start\": {\"x\": 7.7, \"y\": 7.7, \"z\": 0.0}, \"end\": {\"x\": 7.7, \"y\": 11.55, \"z\": 0.0}, \"color\": \"grey\"});\n",
       "\tviewer_17386573730183723.addLine({\"start\": {\"x\": 7.7, \"y\": 7.7, \"z\": 0.0}, \"end\": {\"x\": 7.7, \"y\": 7.7, \"z\": 3.72}, \"color\": \"grey\"});\n",
       "\tviewer_17386573730183723.addLine({\"start\": {\"x\": 3.85, \"y\": 11.55, \"z\": 0.0}, \"end\": {\"x\": 7.7, \"y\": 11.55, \"z\": 0.0}, \"color\": \"grey\"});\n",
       "\tviewer_17386573730183723.addLine({\"start\": {\"x\": 3.85, \"y\": 11.55, \"z\": 0.0}, \"end\": {\"x\": 3.85, \"y\": 11.55, \"z\": 3.72}, \"color\": \"grey\"});\n",
       "\tviewer_17386573730183723.addLine({\"start\": {\"x\": 3.85, \"y\": 7.7, \"z\": 3.72}, \"end\": {\"x\": 7.7, \"y\": 7.7, \"z\": 3.72}, \"color\": \"grey\"});\n",
       "\tviewer_17386573730183723.addLine({\"start\": {\"x\": 3.85, \"y\": 7.7, \"z\": 3.72}, \"end\": {\"x\": 3.85, \"y\": 11.55, \"z\": 3.72}, \"color\": \"grey\"});\n",
       "\tviewer_17386573730183723.addLine({\"start\": {\"x\": 7.7, \"y\": 11.55, \"z\": 0.0}, \"end\": {\"x\": 7.7, \"y\": 11.55, \"z\": 3.72}, \"color\": \"grey\"});\n",
       "\tviewer_17386573730183723.addLine({\"start\": {\"x\": 7.7, \"y\": 7.7, \"z\": 3.72}, \"end\": {\"x\": 7.7, \"y\": 11.55, \"z\": 3.72}, \"color\": \"grey\"});\n",
       "\tviewer_17386573730183723.addLine({\"start\": {\"x\": 3.85, \"y\": 11.55, \"z\": 3.72}, \"end\": {\"x\": 7.7, \"y\": 11.55, \"z\": 3.72}, \"color\": \"grey\"});\n",
       "\tviewer_17386573730183723.addLine({\"start\": {\"x\": 3.85, \"y\": 7.7, \"z\": 3.72}, \"end\": {\"x\": 7.7, \"y\": 7.7, \"z\": 3.72}, \"color\": \"grey\"});\n",
       "\tviewer_17386573730183723.addLine({\"start\": {\"x\": 3.85, \"y\": 7.7, \"z\": 3.72}, \"end\": {\"x\": 3.85, \"y\": 11.55, \"z\": 3.72}, \"color\": \"grey\"});\n",
       "\tviewer_17386573730183723.addLine({\"start\": {\"x\": 3.85, \"y\": 7.7, \"z\": 3.72}, \"end\": {\"x\": 3.85, \"y\": 7.7, \"z\": 7.44}, \"color\": \"grey\"});\n",
       "\tviewer_17386573730183723.addLine({\"start\": {\"x\": 7.7, \"y\": 7.7, \"z\": 3.72}, \"end\": {\"x\": 7.7, \"y\": 11.55, \"z\": 3.72}, \"color\": \"grey\"});\n",
       "\tviewer_17386573730183723.addLine({\"start\": {\"x\": 7.7, \"y\": 7.7, \"z\": 3.72}, \"end\": {\"x\": 7.7, \"y\": 7.7, \"z\": 7.44}, \"color\": \"grey\"});\n",
       "\tviewer_17386573730183723.addLine({\"start\": {\"x\": 3.85, \"y\": 11.55, \"z\": 3.72}, \"end\": {\"x\": 7.7, \"y\": 11.55, \"z\": 3.72}, \"color\": \"grey\"});\n",
       "\tviewer_17386573730183723.addLine({\"start\": {\"x\": 3.85, \"y\": 11.55, \"z\": 3.72}, \"end\": {\"x\": 3.85, \"y\": 11.55, \"z\": 7.44}, \"color\": \"grey\"});\n",
       "\tviewer_17386573730183723.addLine({\"start\": {\"x\": 3.85, \"y\": 7.7, \"z\": 7.44}, \"end\": {\"x\": 7.7, \"y\": 7.7, \"z\": 7.44}, \"color\": \"grey\"});\n",
       "\tviewer_17386573730183723.addLine({\"start\": {\"x\": 3.85, \"y\": 7.7, \"z\": 7.44}, \"end\": {\"x\": 3.85, \"y\": 11.55, \"z\": 7.44}, \"color\": \"grey\"});\n",
       "\tviewer_17386573730183723.addLine({\"start\": {\"x\": 7.7, \"y\": 11.55, \"z\": 3.72}, \"end\": {\"x\": 7.7, \"y\": 11.55, \"z\": 7.44}, \"color\": \"grey\"});\n",
       "\tviewer_17386573730183723.addLine({\"start\": {\"x\": 7.7, \"y\": 7.7, \"z\": 7.44}, \"end\": {\"x\": 7.7, \"y\": 11.55, \"z\": 7.44}, \"color\": \"grey\"});\n",
       "\tviewer_17386573730183723.addLine({\"start\": {\"x\": 3.85, \"y\": 11.55, \"z\": 7.44}, \"end\": {\"x\": 7.7, \"y\": 11.55, \"z\": 7.44}, \"color\": \"grey\"});\n",
       "\tviewer_17386573730183723.addLine({\"start\": {\"x\": 3.85, \"y\": 7.7, \"z\": 7.44}, \"end\": {\"x\": 7.7, \"y\": 7.7, \"z\": 7.44}, \"color\": \"grey\"});\n",
       "\tviewer_17386573730183723.addLine({\"start\": {\"x\": 3.85, \"y\": 7.7, \"z\": 7.44}, \"end\": {\"x\": 3.85, \"y\": 11.55, \"z\": 7.44}, \"color\": \"grey\"});\n",
       "\tviewer_17386573730183723.addLine({\"start\": {\"x\": 3.85, \"y\": 7.7, \"z\": 7.44}, \"end\": {\"x\": 3.85, \"y\": 7.7, \"z\": 11.16}, \"color\": \"grey\"});\n",
       "\tviewer_17386573730183723.addLine({\"start\": {\"x\": 7.7, \"y\": 7.7, \"z\": 7.44}, \"end\": {\"x\": 7.7, \"y\": 11.55, \"z\": 7.44}, \"color\": \"grey\"});\n",
       "\tviewer_17386573730183723.addLine({\"start\": {\"x\": 7.7, \"y\": 7.7, \"z\": 7.44}, \"end\": {\"x\": 7.7, \"y\": 7.7, \"z\": 11.16}, \"color\": \"grey\"});\n",
       "\tviewer_17386573730183723.addLine({\"start\": {\"x\": 3.85, \"y\": 11.55, \"z\": 7.44}, \"end\": {\"x\": 7.7, \"y\": 11.55, \"z\": 7.44}, \"color\": \"grey\"});\n",
       "\tviewer_17386573730183723.addLine({\"start\": {\"x\": 3.85, \"y\": 11.55, \"z\": 7.44}, \"end\": {\"x\": 3.85, \"y\": 11.55, \"z\": 11.16}, \"color\": \"grey\"});\n",
       "\tviewer_17386573730183723.addLine({\"start\": {\"x\": 3.85, \"y\": 7.7, \"z\": 11.16}, \"end\": {\"x\": 7.7, \"y\": 7.7, \"z\": 11.16}, \"color\": \"grey\"});\n",
       "\tviewer_17386573730183723.addLine({\"start\": {\"x\": 3.85, \"y\": 7.7, \"z\": 11.16}, \"end\": {\"x\": 3.85, \"y\": 11.55, \"z\": 11.16}, \"color\": \"grey\"});\n",
       "\tviewer_17386573730183723.addLine({\"start\": {\"x\": 7.7, \"y\": 11.55, \"z\": 7.44}, \"end\": {\"x\": 7.7, \"y\": 11.55, \"z\": 11.16}, \"color\": \"grey\"});\n",
       "\tviewer_17386573730183723.addLine({\"start\": {\"x\": 7.7, \"y\": 7.7, \"z\": 11.16}, \"end\": {\"x\": 7.7, \"y\": 11.55, \"z\": 11.16}, \"color\": \"grey\"});\n",
       "\tviewer_17386573730183723.addLine({\"start\": {\"x\": 3.85, \"y\": 11.55, \"z\": 11.16}, \"end\": {\"x\": 7.7, \"y\": 11.55, \"z\": 11.16}, \"color\": \"grey\"});\n",
       "\tviewer_17386573730183723.addLine({\"start\": {\"x\": 7.7, \"y\": 0.0, \"z\": 0.0}, \"end\": {\"x\": 11.55, \"y\": 0.0, \"z\": 0.0}, \"color\": \"grey\"});\n",
       "\tviewer_17386573730183723.addLine({\"start\": {\"x\": 7.7, \"y\": 0.0, \"z\": 0.0}, \"end\": {\"x\": 7.7, \"y\": 3.85, \"z\": 0.0}, \"color\": \"grey\"});\n",
       "\tviewer_17386573730183723.addLine({\"start\": {\"x\": 7.7, \"y\": 0.0, \"z\": 0.0}, \"end\": {\"x\": 7.7, \"y\": 0.0, \"z\": 3.72}, \"color\": \"grey\"});\n",
       "\tviewer_17386573730183723.addLine({\"start\": {\"x\": 11.55, \"y\": 0.0, \"z\": 0.0}, \"end\": {\"x\": 11.55, \"y\": 3.85, \"z\": 0.0}, \"color\": \"grey\"});\n",
       "\tviewer_17386573730183723.addLine({\"start\": {\"x\": 11.55, \"y\": 0.0, \"z\": 0.0}, \"end\": {\"x\": 11.55, \"y\": 0.0, \"z\": 3.72}, \"color\": \"grey\"});\n",
       "\tviewer_17386573730183723.addLine({\"start\": {\"x\": 7.7, \"y\": 3.85, \"z\": 0.0}, \"end\": {\"x\": 11.55, \"y\": 3.85, \"z\": 0.0}, \"color\": \"grey\"});\n",
       "\tviewer_17386573730183723.addLine({\"start\": {\"x\": 7.7, \"y\": 3.85, \"z\": 0.0}, \"end\": {\"x\": 7.7, \"y\": 3.85, \"z\": 3.72}, \"color\": \"grey\"});\n",
       "\tviewer_17386573730183723.addLine({\"start\": {\"x\": 7.7, \"y\": 0.0, \"z\": 3.72}, \"end\": {\"x\": 11.55, \"y\": 0.0, \"z\": 3.72}, \"color\": \"grey\"});\n",
       "\tviewer_17386573730183723.addLine({\"start\": {\"x\": 7.7, \"y\": 0.0, \"z\": 3.72}, \"end\": {\"x\": 7.7, \"y\": 3.85, \"z\": 3.72}, \"color\": \"grey\"});\n",
       "\tviewer_17386573730183723.addLine({\"start\": {\"x\": 11.55, \"y\": 3.85, \"z\": 0.0}, \"end\": {\"x\": 11.55, \"y\": 3.85, \"z\": 3.72}, \"color\": \"grey\"});\n",
       "\tviewer_17386573730183723.addLine({\"start\": {\"x\": 11.55, \"y\": 0.0, \"z\": 3.72}, \"end\": {\"x\": 11.55, \"y\": 3.85, \"z\": 3.72}, \"color\": \"grey\"});\n",
       "\tviewer_17386573730183723.addLine({\"start\": {\"x\": 7.7, \"y\": 3.85, \"z\": 3.72}, \"end\": {\"x\": 11.55, \"y\": 3.85, \"z\": 3.72}, \"color\": \"grey\"});\n",
       "\tviewer_17386573730183723.addLine({\"start\": {\"x\": 7.7, \"y\": 0.0, \"z\": 3.72}, \"end\": {\"x\": 11.55, \"y\": 0.0, \"z\": 3.72}, \"color\": \"grey\"});\n",
       "\tviewer_17386573730183723.addLine({\"start\": {\"x\": 7.7, \"y\": 0.0, \"z\": 3.72}, \"end\": {\"x\": 7.7, \"y\": 3.85, \"z\": 3.72}, \"color\": \"grey\"});\n",
       "\tviewer_17386573730183723.addLine({\"start\": {\"x\": 7.7, \"y\": 0.0, \"z\": 3.72}, \"end\": {\"x\": 7.7, \"y\": 0.0, \"z\": 7.44}, \"color\": \"grey\"});\n",
       "\tviewer_17386573730183723.addLine({\"start\": {\"x\": 11.55, \"y\": 0.0, \"z\": 3.72}, \"end\": {\"x\": 11.55, \"y\": 3.85, \"z\": 3.72}, \"color\": \"grey\"});\n",
       "\tviewer_17386573730183723.addLine({\"start\": {\"x\": 11.55, \"y\": 0.0, \"z\": 3.72}, \"end\": {\"x\": 11.55, \"y\": 0.0, \"z\": 7.44}, \"color\": \"grey\"});\n",
       "\tviewer_17386573730183723.addLine({\"start\": {\"x\": 7.7, \"y\": 3.85, \"z\": 3.72}, \"end\": {\"x\": 11.55, \"y\": 3.85, \"z\": 3.72}, \"color\": \"grey\"});\n",
       "\tviewer_17386573730183723.addLine({\"start\": {\"x\": 7.7, \"y\": 3.85, \"z\": 3.72}, \"end\": {\"x\": 7.7, \"y\": 3.85, \"z\": 7.44}, \"color\": \"grey\"});\n",
       "\tviewer_17386573730183723.addLine({\"start\": {\"x\": 7.7, \"y\": 0.0, \"z\": 7.44}, \"end\": {\"x\": 11.55, \"y\": 0.0, \"z\": 7.44}, \"color\": \"grey\"});\n",
       "\tviewer_17386573730183723.addLine({\"start\": {\"x\": 7.7, \"y\": 0.0, \"z\": 7.44}, \"end\": {\"x\": 7.7, \"y\": 3.85, \"z\": 7.44}, \"color\": \"grey\"});\n",
       "\tviewer_17386573730183723.addLine({\"start\": {\"x\": 11.55, \"y\": 3.85, \"z\": 3.72}, \"end\": {\"x\": 11.55, \"y\": 3.85, \"z\": 7.44}, \"color\": \"grey\"});\n",
       "\tviewer_17386573730183723.addLine({\"start\": {\"x\": 11.55, \"y\": 0.0, \"z\": 7.44}, \"end\": {\"x\": 11.55, \"y\": 3.85, \"z\": 7.44}, \"color\": \"grey\"});\n",
       "\tviewer_17386573730183723.addLine({\"start\": {\"x\": 7.7, \"y\": 3.85, \"z\": 7.44}, \"end\": {\"x\": 11.55, \"y\": 3.85, \"z\": 7.44}, \"color\": \"grey\"});\n",
       "\tviewer_17386573730183723.addLine({\"start\": {\"x\": 7.7, \"y\": 0.0, \"z\": 7.44}, \"end\": {\"x\": 11.55, \"y\": 0.0, \"z\": 7.44}, \"color\": \"grey\"});\n",
       "\tviewer_17386573730183723.addLine({\"start\": {\"x\": 7.7, \"y\": 0.0, \"z\": 7.44}, \"end\": {\"x\": 7.7, \"y\": 3.85, \"z\": 7.44}, \"color\": \"grey\"});\n",
       "\tviewer_17386573730183723.addLine({\"start\": {\"x\": 7.7, \"y\": 0.0, \"z\": 7.44}, \"end\": {\"x\": 7.7, \"y\": 0.0, \"z\": 11.16}, \"color\": \"grey\"});\n",
       "\tviewer_17386573730183723.addLine({\"start\": {\"x\": 11.55, \"y\": 0.0, \"z\": 7.44}, \"end\": {\"x\": 11.55, \"y\": 3.85, \"z\": 7.44}, \"color\": \"grey\"});\n",
       "\tviewer_17386573730183723.addLine({\"start\": {\"x\": 11.55, \"y\": 0.0, \"z\": 7.44}, \"end\": {\"x\": 11.55, \"y\": 0.0, \"z\": 11.16}, \"color\": \"grey\"});\n",
       "\tviewer_17386573730183723.addLine({\"start\": {\"x\": 7.7, \"y\": 3.85, \"z\": 7.44}, \"end\": {\"x\": 11.55, \"y\": 3.85, \"z\": 7.44}, \"color\": \"grey\"});\n",
       "\tviewer_17386573730183723.addLine({\"start\": {\"x\": 7.7, \"y\": 3.85, \"z\": 7.44}, \"end\": {\"x\": 7.7, \"y\": 3.85, \"z\": 11.16}, \"color\": \"grey\"});\n",
       "\tviewer_17386573730183723.addLine({\"start\": {\"x\": 7.7, \"y\": 0.0, \"z\": 11.16}, \"end\": {\"x\": 11.55, \"y\": 0.0, \"z\": 11.16}, \"color\": \"grey\"});\n",
       "\tviewer_17386573730183723.addLine({\"start\": {\"x\": 7.7, \"y\": 0.0, \"z\": 11.16}, \"end\": {\"x\": 7.7, \"y\": 3.85, \"z\": 11.16}, \"color\": \"grey\"});\n",
       "\tviewer_17386573730183723.addLine({\"start\": {\"x\": 11.55, \"y\": 3.85, \"z\": 7.44}, \"end\": {\"x\": 11.55, \"y\": 3.85, \"z\": 11.16}, \"color\": \"grey\"});\n",
       "\tviewer_17386573730183723.addLine({\"start\": {\"x\": 11.55, \"y\": 0.0, \"z\": 11.16}, \"end\": {\"x\": 11.55, \"y\": 3.85, \"z\": 11.16}, \"color\": \"grey\"});\n",
       "\tviewer_17386573730183723.addLine({\"start\": {\"x\": 7.7, \"y\": 3.85, \"z\": 11.16}, \"end\": {\"x\": 11.55, \"y\": 3.85, \"z\": 11.16}, \"color\": \"grey\"});\n",
       "\tviewer_17386573730183723.addLine({\"start\": {\"x\": 7.7, \"y\": 3.85, \"z\": 0.0}, \"end\": {\"x\": 11.55, \"y\": 3.85, \"z\": 0.0}, \"color\": \"grey\"});\n",
       "\tviewer_17386573730183723.addLine({\"start\": {\"x\": 7.7, \"y\": 3.85, \"z\": 0.0}, \"end\": {\"x\": 7.7, \"y\": 7.7, \"z\": 0.0}, \"color\": \"grey\"});\n",
       "\tviewer_17386573730183723.addLine({\"start\": {\"x\": 7.7, \"y\": 3.85, \"z\": 0.0}, \"end\": {\"x\": 7.7, \"y\": 3.85, \"z\": 3.72}, \"color\": \"grey\"});\n",
       "\tviewer_17386573730183723.addLine({\"start\": {\"x\": 11.55, \"y\": 3.85, \"z\": 0.0}, \"end\": {\"x\": 11.55, \"y\": 7.7, \"z\": 0.0}, \"color\": \"grey\"});\n",
       "\tviewer_17386573730183723.addLine({\"start\": {\"x\": 11.55, \"y\": 3.85, \"z\": 0.0}, \"end\": {\"x\": 11.55, \"y\": 3.85, \"z\": 3.72}, \"color\": \"grey\"});\n",
       "\tviewer_17386573730183723.addLine({\"start\": {\"x\": 7.7, \"y\": 7.7, \"z\": 0.0}, \"end\": {\"x\": 11.55, \"y\": 7.7, \"z\": 0.0}, \"color\": \"grey\"});\n",
       "\tviewer_17386573730183723.addLine({\"start\": {\"x\": 7.7, \"y\": 7.7, \"z\": 0.0}, \"end\": {\"x\": 7.7, \"y\": 7.7, \"z\": 3.72}, \"color\": \"grey\"});\n",
       "\tviewer_17386573730183723.addLine({\"start\": {\"x\": 7.7, \"y\": 3.85, \"z\": 3.72}, \"end\": {\"x\": 11.55, \"y\": 3.85, \"z\": 3.72}, \"color\": \"grey\"});\n",
       "\tviewer_17386573730183723.addLine({\"start\": {\"x\": 7.7, \"y\": 3.85, \"z\": 3.72}, \"end\": {\"x\": 7.7, \"y\": 7.7, \"z\": 3.72}, \"color\": \"grey\"});\n",
       "\tviewer_17386573730183723.addLine({\"start\": {\"x\": 11.55, \"y\": 7.7, \"z\": 0.0}, \"end\": {\"x\": 11.55, \"y\": 7.7, \"z\": 3.72}, \"color\": \"grey\"});\n",
       "\tviewer_17386573730183723.addLine({\"start\": {\"x\": 11.55, \"y\": 3.85, \"z\": 3.72}, \"end\": {\"x\": 11.55, \"y\": 7.7, \"z\": 3.72}, \"color\": \"grey\"});\n",
       "\tviewer_17386573730183723.addLine({\"start\": {\"x\": 7.7, \"y\": 7.7, \"z\": 3.72}, \"end\": {\"x\": 11.55, \"y\": 7.7, \"z\": 3.72}, \"color\": \"grey\"});\n",
       "\tviewer_17386573730183723.addLine({\"start\": {\"x\": 7.7, \"y\": 3.85, \"z\": 3.72}, \"end\": {\"x\": 11.55, \"y\": 3.85, \"z\": 3.72}, \"color\": \"grey\"});\n",
       "\tviewer_17386573730183723.addLine({\"start\": {\"x\": 7.7, \"y\": 3.85, \"z\": 3.72}, \"end\": {\"x\": 7.7, \"y\": 7.7, \"z\": 3.72}, \"color\": \"grey\"});\n",
       "\tviewer_17386573730183723.addLine({\"start\": {\"x\": 7.7, \"y\": 3.85, \"z\": 3.72}, \"end\": {\"x\": 7.7, \"y\": 3.85, \"z\": 7.44}, \"color\": \"grey\"});\n",
       "\tviewer_17386573730183723.addLine({\"start\": {\"x\": 11.55, \"y\": 3.85, \"z\": 3.72}, \"end\": {\"x\": 11.55, \"y\": 7.7, \"z\": 3.72}, \"color\": \"grey\"});\n",
       "\tviewer_17386573730183723.addLine({\"start\": {\"x\": 11.55, \"y\": 3.85, \"z\": 3.72}, \"end\": {\"x\": 11.55, \"y\": 3.85, \"z\": 7.44}, \"color\": \"grey\"});\n",
       "\tviewer_17386573730183723.addLine({\"start\": {\"x\": 7.7, \"y\": 7.7, \"z\": 3.72}, \"end\": {\"x\": 11.55, \"y\": 7.7, \"z\": 3.72}, \"color\": \"grey\"});\n",
       "\tviewer_17386573730183723.addLine({\"start\": {\"x\": 7.7, \"y\": 7.7, \"z\": 3.72}, \"end\": {\"x\": 7.7, \"y\": 7.7, \"z\": 7.44}, \"color\": \"grey\"});\n",
       "\tviewer_17386573730183723.addLine({\"start\": {\"x\": 7.7, \"y\": 3.85, \"z\": 7.44}, \"end\": {\"x\": 11.55, \"y\": 3.85, \"z\": 7.44}, \"color\": \"grey\"});\n",
       "\tviewer_17386573730183723.addLine({\"start\": {\"x\": 7.7, \"y\": 3.85, \"z\": 7.44}, \"end\": {\"x\": 7.7, \"y\": 7.7, \"z\": 7.44}, \"color\": \"grey\"});\n",
       "\tviewer_17386573730183723.addLine({\"start\": {\"x\": 11.55, \"y\": 7.7, \"z\": 3.72}, \"end\": {\"x\": 11.55, \"y\": 7.7, \"z\": 7.44}, \"color\": \"grey\"});\n",
       "\tviewer_17386573730183723.addLine({\"start\": {\"x\": 11.55, \"y\": 3.85, \"z\": 7.44}, \"end\": {\"x\": 11.55, \"y\": 7.7, \"z\": 7.44}, \"color\": \"grey\"});\n",
       "\tviewer_17386573730183723.addLine({\"start\": {\"x\": 7.7, \"y\": 7.7, \"z\": 7.44}, \"end\": {\"x\": 11.55, \"y\": 7.7, \"z\": 7.44}, \"color\": \"grey\"});\n",
       "\tviewer_17386573730183723.addLine({\"start\": {\"x\": 7.7, \"y\": 3.85, \"z\": 7.44}, \"end\": {\"x\": 11.55, \"y\": 3.85, \"z\": 7.44}, \"color\": \"grey\"});\n",
       "\tviewer_17386573730183723.addLine({\"start\": {\"x\": 7.7, \"y\": 3.85, \"z\": 7.44}, \"end\": {\"x\": 7.7, \"y\": 7.7, \"z\": 7.44}, \"color\": \"grey\"});\n",
       "\tviewer_17386573730183723.addLine({\"start\": {\"x\": 7.7, \"y\": 3.85, \"z\": 7.44}, \"end\": {\"x\": 7.7, \"y\": 3.85, \"z\": 11.16}, \"color\": \"grey\"});\n",
       "\tviewer_17386573730183723.addLine({\"start\": {\"x\": 11.55, \"y\": 3.85, \"z\": 7.44}, \"end\": {\"x\": 11.55, \"y\": 7.7, \"z\": 7.44}, \"color\": \"grey\"});\n",
       "\tviewer_17386573730183723.addLine({\"start\": {\"x\": 11.55, \"y\": 3.85, \"z\": 7.44}, \"end\": {\"x\": 11.55, \"y\": 3.85, \"z\": 11.16}, \"color\": \"grey\"});\n",
       "\tviewer_17386573730183723.addLine({\"start\": {\"x\": 7.7, \"y\": 7.7, \"z\": 7.44}, \"end\": {\"x\": 11.55, \"y\": 7.7, \"z\": 7.44}, \"color\": \"grey\"});\n",
       "\tviewer_17386573730183723.addLine({\"start\": {\"x\": 7.7, \"y\": 7.7, \"z\": 7.44}, \"end\": {\"x\": 7.7, \"y\": 7.7, \"z\": 11.16}, \"color\": \"grey\"});\n",
       "\tviewer_17386573730183723.addLine({\"start\": {\"x\": 7.7, \"y\": 3.85, \"z\": 11.16}, \"end\": {\"x\": 11.55, \"y\": 3.85, \"z\": 11.16}, \"color\": \"grey\"});\n",
       "\tviewer_17386573730183723.addLine({\"start\": {\"x\": 7.7, \"y\": 3.85, \"z\": 11.16}, \"end\": {\"x\": 7.7, \"y\": 7.7, \"z\": 11.16}, \"color\": \"grey\"});\n",
       "\tviewer_17386573730183723.addLine({\"start\": {\"x\": 11.55, \"y\": 7.7, \"z\": 7.44}, \"end\": {\"x\": 11.55, \"y\": 7.7, \"z\": 11.16}, \"color\": \"grey\"});\n",
       "\tviewer_17386573730183723.addLine({\"start\": {\"x\": 11.55, \"y\": 3.85, \"z\": 11.16}, \"end\": {\"x\": 11.55, \"y\": 7.7, \"z\": 11.16}, \"color\": \"grey\"});\n",
       "\tviewer_17386573730183723.addLine({\"start\": {\"x\": 7.7, \"y\": 7.7, \"z\": 11.16}, \"end\": {\"x\": 11.55, \"y\": 7.7, \"z\": 11.16}, \"color\": \"grey\"});\n",
       "\tviewer_17386573730183723.addLine({\"start\": {\"x\": 7.7, \"y\": 7.7, \"z\": 0.0}, \"end\": {\"x\": 11.55, \"y\": 7.7, \"z\": 0.0}, \"color\": \"grey\"});\n",
       "\tviewer_17386573730183723.addLine({\"start\": {\"x\": 7.7, \"y\": 7.7, \"z\": 0.0}, \"end\": {\"x\": 7.7, \"y\": 11.55, \"z\": 0.0}, \"color\": \"grey\"});\n",
       "\tviewer_17386573730183723.addLine({\"start\": {\"x\": 7.7, \"y\": 7.7, \"z\": 0.0}, \"end\": {\"x\": 7.7, \"y\": 7.7, \"z\": 3.72}, \"color\": \"grey\"});\n",
       "\tviewer_17386573730183723.addLine({\"start\": {\"x\": 11.55, \"y\": 7.7, \"z\": 0.0}, \"end\": {\"x\": 11.55, \"y\": 11.55, \"z\": 0.0}, \"color\": \"grey\"});\n",
       "\tviewer_17386573730183723.addLine({\"start\": {\"x\": 11.55, \"y\": 7.7, \"z\": 0.0}, \"end\": {\"x\": 11.55, \"y\": 7.7, \"z\": 3.72}, \"color\": \"grey\"});\n",
       "\tviewer_17386573730183723.addLine({\"start\": {\"x\": 7.7, \"y\": 11.55, \"z\": 0.0}, \"end\": {\"x\": 11.55, \"y\": 11.55, \"z\": 0.0}, \"color\": \"grey\"});\n",
       "\tviewer_17386573730183723.addLine({\"start\": {\"x\": 7.7, \"y\": 11.55, \"z\": 0.0}, \"end\": {\"x\": 7.7, \"y\": 11.55, \"z\": 3.72}, \"color\": \"grey\"});\n",
       "\tviewer_17386573730183723.addLine({\"start\": {\"x\": 7.7, \"y\": 7.7, \"z\": 3.72}, \"end\": {\"x\": 11.55, \"y\": 7.7, \"z\": 3.72}, \"color\": \"grey\"});\n",
       "\tviewer_17386573730183723.addLine({\"start\": {\"x\": 7.7, \"y\": 7.7, \"z\": 3.72}, \"end\": {\"x\": 7.7, \"y\": 11.55, \"z\": 3.72}, \"color\": \"grey\"});\n",
       "\tviewer_17386573730183723.addLine({\"start\": {\"x\": 11.55, \"y\": 11.55, \"z\": 0.0}, \"end\": {\"x\": 11.55, \"y\": 11.55, \"z\": 3.72}, \"color\": \"grey\"});\n",
       "\tviewer_17386573730183723.addLine({\"start\": {\"x\": 11.55, \"y\": 7.7, \"z\": 3.72}, \"end\": {\"x\": 11.55, \"y\": 11.55, \"z\": 3.72}, \"color\": \"grey\"});\n",
       "\tviewer_17386573730183723.addLine({\"start\": {\"x\": 7.7, \"y\": 11.55, \"z\": 3.72}, \"end\": {\"x\": 11.55, \"y\": 11.55, \"z\": 3.72}, \"color\": \"grey\"});\n",
       "\tviewer_17386573730183723.addLine({\"start\": {\"x\": 7.7, \"y\": 7.7, \"z\": 3.72}, \"end\": {\"x\": 11.55, \"y\": 7.7, \"z\": 3.72}, \"color\": \"grey\"});\n",
       "\tviewer_17386573730183723.addLine({\"start\": {\"x\": 7.7, \"y\": 7.7, \"z\": 3.72}, \"end\": {\"x\": 7.7, \"y\": 11.55, \"z\": 3.72}, \"color\": \"grey\"});\n",
       "\tviewer_17386573730183723.addLine({\"start\": {\"x\": 7.7, \"y\": 7.7, \"z\": 3.72}, \"end\": {\"x\": 7.7, \"y\": 7.7, \"z\": 7.44}, \"color\": \"grey\"});\n",
       "\tviewer_17386573730183723.addLine({\"start\": {\"x\": 11.55, \"y\": 7.7, \"z\": 3.72}, \"end\": {\"x\": 11.55, \"y\": 11.55, \"z\": 3.72}, \"color\": \"grey\"});\n",
       "\tviewer_17386573730183723.addLine({\"start\": {\"x\": 11.55, \"y\": 7.7, \"z\": 3.72}, \"end\": {\"x\": 11.55, \"y\": 7.7, \"z\": 7.44}, \"color\": \"grey\"});\n",
       "\tviewer_17386573730183723.addLine({\"start\": {\"x\": 7.7, \"y\": 11.55, \"z\": 3.72}, \"end\": {\"x\": 11.55, \"y\": 11.55, \"z\": 3.72}, \"color\": \"grey\"});\n",
       "\tviewer_17386573730183723.addLine({\"start\": {\"x\": 7.7, \"y\": 11.55, \"z\": 3.72}, \"end\": {\"x\": 7.7, \"y\": 11.55, \"z\": 7.44}, \"color\": \"grey\"});\n",
       "\tviewer_17386573730183723.addLine({\"start\": {\"x\": 7.7, \"y\": 7.7, \"z\": 7.44}, \"end\": {\"x\": 11.55, \"y\": 7.7, \"z\": 7.44}, \"color\": \"grey\"});\n",
       "\tviewer_17386573730183723.addLine({\"start\": {\"x\": 7.7, \"y\": 7.7, \"z\": 7.44}, \"end\": {\"x\": 7.7, \"y\": 11.55, \"z\": 7.44}, \"color\": \"grey\"});\n",
       "\tviewer_17386573730183723.addLine({\"start\": {\"x\": 11.55, \"y\": 11.55, \"z\": 3.72}, \"end\": {\"x\": 11.55, \"y\": 11.55, \"z\": 7.44}, \"color\": \"grey\"});\n",
       "\tviewer_17386573730183723.addLine({\"start\": {\"x\": 11.55, \"y\": 7.7, \"z\": 7.44}, \"end\": {\"x\": 11.55, \"y\": 11.55, \"z\": 7.44}, \"color\": \"grey\"});\n",
       "\tviewer_17386573730183723.addLine({\"start\": {\"x\": 7.7, \"y\": 11.55, \"z\": 7.44}, \"end\": {\"x\": 11.55, \"y\": 11.55, \"z\": 7.44}, \"color\": \"grey\"});\n",
       "\tviewer_17386573730183723.addLine({\"start\": {\"x\": 7.7, \"y\": 7.7, \"z\": 7.44}, \"end\": {\"x\": 11.55, \"y\": 7.7, \"z\": 7.44}, \"color\": \"grey\"});\n",
       "\tviewer_17386573730183723.addLine({\"start\": {\"x\": 7.7, \"y\": 7.7, \"z\": 7.44}, \"end\": {\"x\": 7.7, \"y\": 11.55, \"z\": 7.44}, \"color\": \"grey\"});\n",
       "\tviewer_17386573730183723.addLine({\"start\": {\"x\": 7.7, \"y\": 7.7, \"z\": 7.44}, \"end\": {\"x\": 7.7, \"y\": 7.7, \"z\": 11.16}, \"color\": \"grey\"});\n",
       "\tviewer_17386573730183723.addLine({\"start\": {\"x\": 11.55, \"y\": 7.7, \"z\": 7.44}, \"end\": {\"x\": 11.55, \"y\": 11.55, \"z\": 7.44}, \"color\": \"grey\"});\n",
       "\tviewer_17386573730183723.addLine({\"start\": {\"x\": 11.55, \"y\": 7.7, \"z\": 7.44}, \"end\": {\"x\": 11.55, \"y\": 7.7, \"z\": 11.16}, \"color\": \"grey\"});\n",
       "\tviewer_17386573730183723.addLine({\"start\": {\"x\": 7.7, \"y\": 11.55, \"z\": 7.44}, \"end\": {\"x\": 11.55, \"y\": 11.55, \"z\": 7.44}, \"color\": \"grey\"});\n",
       "\tviewer_17386573730183723.addLine({\"start\": {\"x\": 7.7, \"y\": 11.55, \"z\": 7.44}, \"end\": {\"x\": 7.7, \"y\": 11.55, \"z\": 11.16}, \"color\": \"grey\"});\n",
       "\tviewer_17386573730183723.addLine({\"start\": {\"x\": 7.7, \"y\": 7.7, \"z\": 11.16}, \"end\": {\"x\": 11.55, \"y\": 7.7, \"z\": 11.16}, \"color\": \"grey\"});\n",
       "\tviewer_17386573730183723.addLine({\"start\": {\"x\": 7.7, \"y\": 7.7, \"z\": 11.16}, \"end\": {\"x\": 7.7, \"y\": 11.55, \"z\": 11.16}, \"color\": \"grey\"});\n",
       "\tviewer_17386573730183723.addLine({\"start\": {\"x\": 11.55, \"y\": 11.55, \"z\": 7.44}, \"end\": {\"x\": 11.55, \"y\": 11.55, \"z\": 11.16}, \"color\": \"grey\"});\n",
       "\tviewer_17386573730183723.addLine({\"start\": {\"x\": 11.55, \"y\": 7.7, \"z\": 11.16}, \"end\": {\"x\": 11.55, \"y\": 11.55, \"z\": 11.16}, \"color\": \"grey\"});\n",
       "\tviewer_17386573730183723.addLine({\"start\": {\"x\": 7.7, \"y\": 11.55, \"z\": 11.16}, \"end\": {\"x\": 11.55, \"y\": 11.55, \"z\": 11.16}, \"color\": \"grey\"});\n",
       "\tviewer_17386573730183723.addArrow({\"start\": {\"x\": -7, \"y\": 0, \"z\": 0}, \"end\": {\"x\": -3.15, \"y\": 0.0, \"z\": 0.0}, \"color\": \"red\", \"radius\": 0.1});\n",
       "\tviewer_17386573730183723.addLabel(\"a\",{\"position\": {\"x\": -3.1814999999999998, \"y\": 0.0, \"z\": 0.0}, \"fontSize\": 17, \"backgroundColor\": \"white\", \"fontColor\": \"red\"});\n",
       "\tviewer_17386573730183723.addArrow({\"start\": {\"x\": -7, \"y\": 0, \"z\": 0}, \"end\": {\"x\": -7.0, \"y\": 3.85, \"z\": 0.0}, \"color\": \"green\", \"radius\": 0.1});\n",
       "\tviewer_17386573730183723.addLabel(\"b\",{\"position\": {\"x\": -7.07, \"y\": 3.8885, \"z\": 0.0}, \"fontSize\": 17, \"backgroundColor\": \"white\", \"fontColor\": \"green\"});\n",
       "\tviewer_17386573730183723.addArrow({\"start\": {\"x\": -7, \"y\": 0, \"z\": 0}, \"end\": {\"x\": -7.0, \"y\": 0.0, \"z\": 3.72}, \"color\": \"blue\", \"radius\": 0.1});\n",
       "\tviewer_17386573730183723.addLabel(\"c\",{\"position\": {\"x\": -7.07, \"y\": 0.0, \"z\": 3.7572}, \"fontSize\": 17, \"backgroundColor\": \"white\", \"fontColor\": \"blue\"});\n",
       "\tviewer_17386573730183723.zoomTo();\n",
       "viewer_17386573730183723.render();\n",
       "});\n",
       "</script>"
      ]
     },
     "metadata": {},
     "output_type": "display_data"
    }
   ],
   "source": [
    "_ = visualise_structure(md.atoms)"
   ]
  }
 ],
 "metadata": {
  "kernelspec": {
   "display_name": "Python 3",
   "language": "python",
   "name": "python3"
  },
  "language_info": {
   "codemirror_mode": {
    "name": "ipython",
    "version": 3
   },
   "file_extension": ".py",
   "mimetype": "text/x-python",
   "name": "python",
   "nbconvert_exporter": "python",
   "pygments_lexer": "ipython3",
   "version": "3.12.3"
  }
 },
 "nbformat": 4,
 "nbformat_minor": 2
}
