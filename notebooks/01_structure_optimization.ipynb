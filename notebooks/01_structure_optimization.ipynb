{
 "cells": [
  {
   "cell_type": "markdown",
   "metadata": {},
   "source": [
    "# Structure Optimization"
   ]
  },
  {
   "cell_type": "markdown",
   "metadata": {},
   "source": [
    "### Import modules"
   ]
  },
  {
   "cell_type": "code",
   "execution_count": null,
   "metadata": {},
   "outputs": [],
   "source": [
    "import torch\n",
    "import os\n",
    "import sys\n",
    "sys.path.append(os.path.abspath(\"..\"))\n",
    "\n",
    "import numpy as np\n",
    "from ase.build import bulk\n",
    "from ase.units import GPa\n",
    "from ase.calculators.emt import EMT\n",
    "from mattersim.forcefield.potential import MatterSimCalculator\n",
    "from mattersim.applications.relax import Relaxer"
   ]
  },
  {
   "cell_type": "code",
   "execution_count": 2,
   "metadata": {},
   "outputs": [
    {
     "name": "stdout",
     "output_type": "stream",
     "text": [
      "Running MatterSim on cuda\n"
     ]
    }
   ],
   "source": [
    "device = \"cuda\" if torch.cuda.is_available() else \"cpu\"\n",
    "print(f\"Running MatterSim on {device}\")"
   ]
  },
  {
   "cell_type": "markdown",
   "metadata": {},
   "source": [
    "### Available Models\n",
    "\n",
    "|                    | mattersim-v1.0.0-1M   | mattersim-v1.0.0-5M     |\n",
    "| ------------------ | --------------------- | ----------------------- |\n",
    "| Training Data Size | 3M                    | 6M                      |\n",
    "| Model Parameters   | 880K                  | 4.5M                    |"
   ]
  },
  {
   "cell_type": "code",
   "execution_count": 3,
   "metadata": {},
   "outputs": [],
   "source": [
    "# model = 1 or 5 only\n",
    "model = 5"
   ]
  },
  {
   "cell_type": "markdown",
   "metadata": {},
   "source": [
    "### Si structure"
   ]
  },
  {
   "cell_type": "markdown",
   "metadata": {},
   "source": [
    "##### Setup Si structure to relax"
   ]
  },
  {
   "cell_type": "code",
   "execution_count": 4,
   "metadata": {},
   "outputs": [
    {
     "name": "stdout",
     "output_type": "stream",
     "text": [
      "si positions: [[0.     0.     0.    ]\n",
      " [1.3575 1.3575 1.3575]]\n"
     ]
    },
    {
     "name": "stdout",
     "output_type": "stream",
     "text": [
      "\u001b[32m2025-01-31 02:24:08.661\u001b[0m | \u001b[1mINFO    \u001b[0m | \u001b[36mmattersim.forcefield.potential\u001b[0m:\u001b[36mfrom_checkpoint\u001b[0m:\u001b[36m891\u001b[0m - \u001b[1mLoading the pre-trained mattersim-v1.0.0-5M.pth model\u001b[0m\n",
      "\u001b[32m2025-01-31 02:24:09.423\u001b[0m | \u001b[1mINFO    \u001b[0m | \u001b[36mmattersim.forcefield.potential\u001b[0m:\u001b[36mfrom_checkpoint\u001b[0m:\u001b[36m891\u001b[0m - \u001b[1mLoading the pre-trained mattersim-v1.0.0-5M.pth model\u001b[0m\n",
      "\u001b[32m2025-01-31 02:24:09.681\u001b[0m | \u001b[1mINFO    \u001b[0m | \u001b[36mmattersim.forcefield.potential\u001b[0m:\u001b[36mfrom_checkpoint\u001b[0m:\u001b[36m891\u001b[0m - \u001b[1mLoading the pre-trained mattersim-v1.0.0-5M.pth model\u001b[0m\n"
     ]
    },
    {
     "name": "stderr",
     "output_type": "stream",
     "text": [
      "/usr/local/lib/python3.12/dist-packages/mattersim/forcefield/potential.py:896: FutureWarning: You are using `torch.load` with `weights_only=False` (the current default value), which uses the default pickle module implicitly. It is possible to construct malicious pickle data which will execute arbitrary code during unpickling (See https://github.com/pytorch/pytorch/blob/main/SECURITY.md#untrusted-models for more details). In a future release, the default value for `weights_only` will be flipped to `True`. This limits the functions that could be executed during unpickling. Arbitrary objects will no longer be allowed to be loaded via this mode unless they are explicitly allowlisted by the user via `torch.serialization.add_safe_globals`. We recommend you start setting `weights_only=True` for any use case where you don't have full control of the loaded file. Please open an issue on GitHub for any issues related to this experimental feature.\n",
      "  checkpoint = torch.load(load_path, map_location=device)\n"
     ]
    },
    {
     "name": "stdout",
     "output_type": "stream",
     "text": [
      "\n",
      "MatterSimCalculator loaded with 5M model\n",
      "\n"
     ]
    }
   ],
   "source": [
    "# initialize the structure of silicon\n",
    "si = bulk(\"Si\", \"diamond\", a=5.43)\n",
    "\n",
    "print(f\"si positions: {si.positions}\")\n",
    "\n",
    "# attach the calculator to the atoms object\n",
    "si.calc = MatterSimCalculator(load_path=f\"MatterSim-v1.0.0-{model}M.pth\", device=device)\n",
    "print(f\"\\nMatterSimCalculator loaded with {model}M model\\n\")"
   ]
  },
  {
   "cell_type": "code",
   "execution_count": 5,
   "metadata": {},
   "outputs": [
    {
     "name": "stdout",
     "output_type": "stream",
     "text": [
      "Energy (eV)                 = -10.814007759094238\n",
      "Energy per atom (eV/atom)   = -5.407003879547119\n",
      "Forces of first atom (eV/A) = [-5.9837475e-07 -1.0267831e-06 -9.9698082e-07]\n",
      "Stress[0][0] (x-x) (eV/A^3) = -0.011929347679320034\n",
      "Stress[0][0] (x-x) (GPa)    = -1.9112921953201294\n"
     ]
    }
   ],
   "source": [
    "print(f\"Energy (eV)                 = {si.get_potential_energy()}\")\n",
    "print(f\"Energy per atom (eV/atom)   = {si.get_potential_energy()/len(si)}\")\n",
    "print(f\"Forces of first atom (eV/A) = {si.get_forces()[0]}\")\n",
    "print(f\"Stress[0][0] (x-x) (eV/A^3) = {si.get_stress(voigt=False)[0][0]}\")\n",
    "print(f\"Stress[0][0] (x-x) (GPa)    = {si.get_stress(voigt=False)[0][0] / GPa}\")"
   ]
  },
  {
   "cell_type": "code",
   "execution_count": 6,
   "metadata": {},
   "outputs": [
    {
     "name": "stdout",
     "output_type": "stream",
     "text": [
      "      Step     Time          Energy          fmax\n",
      "BFGS:    0 02:24:09      -10.814008        0.477481\n",
      "BFGS:    1 02:24:09      -10.818989        0.015248\n"
     ]
    },
    {
     "name": "stdout",
     "output_type": "stream",
     "text": [
      "BFGS:    2 02:24:09      -10.818996        0.000544\n"
     ]
    }
   ],
   "source": [
    "# initialize the relaxation object\n",
    "relaxer = Relaxer(\n",
    "    optimizer=\"BFGS\", # the optimization method\n",
    "    filter=\"ExpCellFilter\", # filter to apply to the cell\n",
    "    constrain_symmetry=True, # whether to constrain the symmetry\n",
    ")\n",
    "\n",
    "relaxed_structure = relaxer.relax(si, steps=500)"
   ]
  },
  {
   "cell_type": "code",
   "execution_count": 7,
   "metadata": {},
   "outputs": [
    {
     "name": "stdout",
     "output_type": "stream",
     "text": [
      "Energy (eV)                 = -10.81899642944336\n",
      "Energy per atom (eV/atom)   = -5.40949821472168\n",
      "Forces of first atom (eV/A) = [-6.6589564e-07 -6.7939982e-07 -9.4901770e-07]\n",
      "Stress[0][0] (eV/A^3)       = -1.3287519893339393e-05\n",
      "Stress[0][0] (GPa)          = -0.0021288953721523285\n"
     ]
    }
   ],
   "source": [
    "print(f\"Energy (eV)                 = {si.get_potential_energy()}\")\n",
    "print(f\"Energy per atom (eV/atom)   = {si.get_potential_energy()/len(si)}\")\n",
    "print(f\"Forces of first atom (eV/A) = {si.get_forces()[0]}\")\n",
    "print(f\"Stress[0][0] (eV/A^3)       = {si.get_stress(voigt=False)[0][0]}\")\n",
    "print(f\"Stress[0][0] (GPa)          = {si.get_stress(voigt=False)[0][0] / GPa}\")"
   ]
  },
  {
   "cell_type": "markdown",
   "metadata": {},
   "source": [
    "##### Perturb Si structure & perform relaxation"
   ]
  },
  {
   "cell_type": "code",
   "execution_count": 8,
   "metadata": {},
   "outputs": [
    {
     "name": "stderr",
     "output_type": "stream",
     "text": [
      "/usr/local/lib/python3.12/dist-packages/mattersim/forcefield/potential.py:896: FutureWarning: You are using `torch.load` with `weights_only=False` (the current default value), which uses the default pickle module implicitly. It is possible to construct malicious pickle data which will execute arbitrary code during unpickling (See https://github.com/pytorch/pytorch/blob/main/SECURITY.md#untrusted-models for more details). In a future release, the default value for `weights_only` will be flipped to `True`. This limits the functions that could be executed during unpickling. Arbitrary objects will no longer be allowed to be loaded via this mode unless they are explicitly allowlisted by the user via `torch.serialization.add_safe_globals`. We recommend you start setting `weights_only=True` for any use case where you don't have full control of the loaded file. Please open an issue on GitHub for any issues related to this experimental feature.\n",
      "  checkpoint = torch.load(load_path, map_location=device)\n"
     ]
    }
   ],
   "source": [
    "# initialize the structure of silicon\n",
    "si = bulk(\"Si\", \"diamond\", a=5.43)\n",
    "\n",
    "# perturb the structure\n",
    "si.positions += 0.1 * np.random.randn(len(si), 3)\n",
    "\n",
    "# attach the calculator to the atoms object\n",
    "si.calc = MatterSimCalculator(load_path=f\"MatterSim-v1.0.0-{model}M.pth\", device=device)"
   ]
  },
  {
   "cell_type": "code",
   "execution_count": 9,
   "metadata": {},
   "outputs": [
    {
     "name": "stdout",
     "output_type": "stream",
     "text": [
      "Energy (eV)                 = -10.566696166992188\n",
      "Energy per atom (eV/atom)   = -5.283348083496094\n",
      "Forces of first atom (eV/A) = [ 0.31849664 -1.7726748  -1.0068196 ]\n",
      "Stress[0][0] (eV/A^3)       = -0.023936073152793204\n",
      "Stress[0][0] (GPa)          = -3.834981679916382\n"
     ]
    }
   ],
   "source": [
    "print(f\"Energy (eV)                 = {si.get_potential_energy()}\")\n",
    "print(f\"Energy per atom (eV/atom)   = {si.get_potential_energy()/len(si)}\")\n",
    "print(f\"Forces of first atom (eV/A) = {si.get_forces()[0]}\")\n",
    "print(f\"Stress[0][0] (eV/A^3)       = {si.get_stress(voigt=False)[0][0]}\")\n",
    "print(f\"Stress[0][0] (GPa)          = {si.get_stress(voigt=False)[0][0] / GPa}\")"
   ]
  },
  {
   "cell_type": "code",
   "execution_count": 10,
   "metadata": {},
   "outputs": [
    {
     "name": "stdout",
     "output_type": "stream",
     "text": [
      "      Step     Time          Energy          fmax\n",
      "BFGS:    0 02:24:09      -10.566696        2.063371\n",
      "BFGS:    1 02:24:09      -10.720662        1.141913\n",
      "BFGS:    2 02:24:09      -10.770748        0.507386\n",
      "BFGS:    3 02:24:09      -10.787316        0.606034\n",
      "BFGS:    4 02:24:09      -10.812212        0.424415\n",
      "BFGS:    5 02:24:09      -10.818182        0.167654\n",
      "BFGS:    6 02:24:09      -10.818883        0.041141\n",
      "BFGS:    7 02:24:09      -10.818934        0.020359\n",
      "BFGS:    8 02:24:09      -10.818970        0.019127\n",
      "BFGS:    9 02:24:09      -10.818988        0.011502\n",
      "BFGS:   10 02:24:09      -10.818993        0.004550\n"
     ]
    }
   ],
   "source": [
    "relaxed_structure = relaxer.relax(si, steps=500)"
   ]
  },
  {
   "cell_type": "code",
   "execution_count": 11,
   "metadata": {},
   "outputs": [
    {
     "name": "stdout",
     "output_type": "stream",
     "text": [
      "Energy (eV)                 = -10.818992614746094\n",
      "Energy per atom (eV/atom)   = -5.409496307373047\n",
      "Forces of first atom (eV/A) = [0.00198698 0.00217223 0.00016647]\n",
      "Stress[0][0] (eV/A^3)       = 5.1069971464743164e-05\n",
      "Stress[0][0] (GPa)          = 0.008182311430573463\n"
     ]
    }
   ],
   "source": [
    "print(f\"Energy (eV)                 = {si.get_potential_energy()}\")\n",
    "print(f\"Energy per atom (eV/atom)   = {si.get_potential_energy()/len(si)}\")\n",
    "print(f\"Forces of first atom (eV/A) = {si.get_forces()[0]}\")\n",
    "print(f\"Stress[0][0] (eV/A^3)       = {si.get_stress(voigt=False)[0][0]}\")\n",
    "print(f\"Stress[0][0] (GPa)          = {si.get_stress(voigt=False)[0][0] / GPa}\")"
   ]
  },
  {
   "cell_type": "code",
   "execution_count": 12,
   "metadata": {},
   "outputs": [
    {
     "data": {
      "text/plain": [
       "Cell([[0.00010035695925305417, 2.7344617642167797, 2.734391787819], [2.734320637096266, 0.00013586045734002681, 2.7343562843209166], [2.734184474565204, 2.7342900981876586, 0.00027202298840665526]])"
      ]
     },
     "execution_count": 12,
     "metadata": {},
     "output_type": "execute_result"
    }
   ],
   "source": [
    "relaxed_structure[1].cell"
   ]
  },
  {
   "cell_type": "markdown",
   "metadata": {},
   "source": [
    "### C structure"
   ]
  },
  {
   "cell_type": "code",
   "execution_count": 13,
   "metadata": {},
   "outputs": [
    {
     "data": {
      "text/plain": [
       "8.641630779544606"
      ]
     },
     "execution_count": 13,
     "metadata": {},
     "output_type": "execute_result"
    }
   ],
   "source": [
    "# generate a random 'a' to start with.\n",
    "a = np.random.uniform(1,10)\n",
    "a"
   ]
  },
  {
   "cell_type": "code",
   "execution_count": 14,
   "metadata": {},
   "outputs": [
    {
     "data": {
      "text/plain": [
       "array([[0.        , 0.        , 0.        ],\n",
       "       [2.16040769, 2.16040769, 2.16040769]])"
      ]
     },
     "execution_count": 14,
     "metadata": {},
     "output_type": "execute_result"
    }
   ],
   "source": [
    "c = bulk('C', 'diamond', a=a)\n",
    "c.positions"
   ]
  },
  {
   "cell_type": "code",
   "execution_count": 15,
   "metadata": {},
   "outputs": [],
   "source": [
    "c.calc = MatterSimCalculator(load_path=f\"MatterSim-v1.0.0-{model}M.pth\", device=device)"
   ]
  },
  {
   "cell_type": "code",
   "execution_count": 16,
   "metadata": {},
   "outputs": [
    {
     "name": "stdout",
     "output_type": "stream",
     "text": [
      "Energy (eV)                 = -3.382246971130371\n",
      "Energy per atom (eV/atom)   = -1.6911234855651855\n",
      "Forces of first atom (eV/A) = [-0. -0. -0.]\n",
      "Stress[0][0] (GPa)          = -0.07146544009447098\n",
      "Stress[0][0] (eV/A^3)       = -0.00044605219653490386\n"
     ]
    }
   ],
   "source": [
    "print(f\"Energy (eV)                 = {c.get_potential_energy()}\")\n",
    "print(f\"Energy per atom (eV/atom)   = {c.get_potential_energy()/len(c)}\")\n",
    "print(f\"Forces of first atom (eV/A) = {c.get_forces()[0]}\")\n",
    "print(f\"Stress[0][0] (GPa)          = {c.get_stress(voigt=False)[0][0] / GPa}\")\n",
    "print(f\"Stress[0][0] (eV/A^3)       = {c.get_stress(voigt=False)[0][0]}\")"
   ]
  },
  {
   "cell_type": "code",
   "execution_count": 17,
   "metadata": {},
   "outputs": [
    {
     "name": "stdout",
     "output_type": "stream",
     "text": [
      "      Step     Time          Energy          fmax\n",
      "BFGS:    0 02:24:09       -3.382247        0.071964\n",
      "BFGS:    1 02:24:10       -3.382470        0.072855\n",
      "BFGS:    2 02:24:10       -3.425565        0.378357\n",
      "BFGS:    3 02:24:10       -3.919960        4.008593\n",
      "BFGS:    4 02:24:10       -4.852183        0.693593\n",
      "BFGS:    5 02:24:10       -4.869107        0.045949\n",
      "BFGS:    6 02:24:10       -4.869249        0.028882\n",
      "BFGS:    7 02:24:10       -4.869369        0.008988\n"
     ]
    }
   ],
   "source": [
    "relaxed_structure = relaxer.relax(c, steps=500)"
   ]
  },
  {
   "cell_type": "code",
   "execution_count": 18,
   "metadata": {},
   "outputs": [
    {
     "name": "stdout",
     "output_type": "stream",
     "text": [
      "Energy (eV)                 = -4.869368553161621\n",
      "Energy per atom (eV/atom)   = -2.4346842765808105\n",
      "Forces of first atom (eV/A) = [-0. -0. -0.]\n",
      "Stress[0][0] (GPa)          = -0.003771942807361483\n",
      "Stress[0][0] (eV/A^3)       = -2.3542615454456414e-05\n"
     ]
    }
   ],
   "source": [
    "print(f\"Energy (eV)                 = {c.get_potential_energy()}\")\n",
    "print(f\"Energy per atom (eV/atom)   = {c.get_potential_energy()/len(c)}\")\n",
    "print(f\"Forces of first atom (eV/A) = {c.get_forces()[0]}\")\n",
    "print(f\"Stress[0][0] (GPa)          = {c.get_stress(voigt=False)[0][0] / GPa}\")\n",
    "print(f\"Stress[0][0] (eV/A^3)       = {c.get_stress(voigt=False)[0][0]}\")"
   ]
  },
  {
   "cell_type": "code",
   "execution_count": 19,
   "metadata": {},
   "outputs": [
    {
     "data": {
      "text/plain": [
       "Cell([[8.796608899443138e-17, 5.757764698709902, 5.757764698709904], [5.757764698709904, 1.3266605662273267e-16, 5.757764698709904], [5.757764698709904, 5.757764698709902, 1.1261345475533858e-16]])"
      ]
     },
     "execution_count": 19,
     "metadata": {},
     "output_type": "execute_result"
    }
   ],
   "source": [
    "relaxed_structure[1].cell"
   ]
  }
 ],
 "metadata": {
  "kernelspec": {
   "display_name": "Python 3",
   "language": "python",
   "name": "python3"
  },
  "language_info": {
   "codemirror_mode": {
    "name": "ipython",
    "version": 3
   },
   "file_extension": ".py",
   "mimetype": "text/x-python",
   "name": "python",
   "nbconvert_exporter": "python",
   "pygments_lexer": "ipython3",
   "version": "3.12.3"
  }
 },
 "nbformat": 4,
 "nbformat_minor": 2
}
